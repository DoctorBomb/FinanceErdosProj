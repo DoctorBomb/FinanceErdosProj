{
 "cells": [
  {
   "cell_type": "markdown",
   "id": "2647fdfb",
   "metadata": {},
   "source": [
    "# Team Bear: Qarik Coorporate Project\n",
    "### Some exploratory data analysis and data visualization\n",
    "\n",
    "The project consists on performing an analysis on the World Bank loan documentation, during the period 1990 - 2020. Since the data set is highly unstructured, extracting relevant features of each loan has been our main concern so far.\n",
    "\n",
    "This notebook is concerned only with a single feature associated to each loan document: the countries involved in the loan."
   ]
  },
  {
   "cell_type": "code",
   "execution_count": 1,
   "id": "e6a32e7a",
   "metadata": {},
   "outputs": [],
   "source": [
    "#We first import some relevant packages\n",
    "\n",
    "import os\n",
    "import numpy as np\n",
    "import pandas as pd\n",
    "import matplotlib.pyplot as plt\n"
   ]
  },
  {
   "cell_type": "markdown",
   "id": "1a5bd070",
   "metadata": {},
   "source": [
    "Our first data visualization will consist on a histogram showing in how many different loan documents a country is **mentioned**. And it does not show how many loan documents have been given to a country.\n",
    "\n",
    "For example, we will see the US is mentioned in 3121 of 3205 loan documents, but this is mostly due to the fact that the World Bank has its HQ in the US.\n",
    "\n",
    "We would also like to record that out of the 3205 documents, we not able to extract a single country mentioned on only 5 documents. However, there are known instances cases were the program does not extract the most 'relevant' country out of the documents. For example, Ivory Coast and Cote d'Ivoire are two names from the same country, but our program can only identify the first one."
   ]
  },
  {
   "cell_type": "code",
   "execution_count": 2,
   "id": "f77820b2",
   "metadata": {},
   "outputs": [
    {
     "data": {
      "text/html": [
       "<div>\n",
       "<style scoped>\n",
       "    .dataframe tbody tr th:only-of-type {\n",
       "        vertical-align: middle;\n",
       "    }\n",
       "\n",
       "    .dataframe tbody tr th {\n",
       "        vertical-align: top;\n",
       "    }\n",
       "\n",
       "    .dataframe thead th {\n",
       "        text-align: right;\n",
       "    }\n",
       "</style>\n",
       "<table border=\"1\" class=\"dataframe\">\n",
       "  <thead>\n",
       "    <tr style=\"text-align: right;\">\n",
       "      <th></th>\n",
       "      <th>countries</th>\n",
       "      <th>num_doc_mentioned</th>\n",
       "    </tr>\n",
       "  </thead>\n",
       "  <tbody>\n",
       "    <tr>\n",
       "      <th>0</th>\n",
       "      <td>united states</td>\n",
       "      <td>3121</td>\n",
       "    </tr>\n",
       "    <tr>\n",
       "      <th>1</th>\n",
       "      <td>china</td>\n",
       "      <td>326</td>\n",
       "    </tr>\n",
       "    <tr>\n",
       "      <th>2</th>\n",
       "      <td>india</td>\n",
       "      <td>218</td>\n",
       "    </tr>\n",
       "    <tr>\n",
       "      <th>3</th>\n",
       "      <td>indonesia</td>\n",
       "      <td>213</td>\n",
       "    </tr>\n",
       "    <tr>\n",
       "      <th>4</th>\n",
       "      <td>brazil</td>\n",
       "      <td>154</td>\n",
       "    </tr>\n",
       "  </tbody>\n",
       "</table>\n",
       "</div>"
      ],
      "text/plain": [
       "       countries  num_doc_mentioned\n",
       "0  united states               3121\n",
       "1          china                326\n",
       "2          india                218\n",
       "3      indonesia                213\n",
       "4         brazil                154"
      ]
     },
     "execution_count": 2,
     "metadata": {},
     "output_type": "execute_result"
    }
   ],
   "source": [
    "#We import the relevant data\n",
    "raw_country_count_df = pd.read_csv('freq_countries_mentioned.csv')\n",
    "raw_country_count_df.rename(columns = {'Unnamed: 0': 'countries'}, inplace = True)\n",
    "raw_country_count_df.head()"
   ]
  },
  {
   "cell_type": "code",
   "execution_count": 3,
   "id": "acf50af9",
   "metadata": {},
   "outputs": [
    {
     "data": {
      "text/plain": [
       "(227, 2)"
      ]
     },
     "execution_count": 3,
     "metadata": {},
     "output_type": "execute_result"
    }
   ],
   "source": [
    "raw_country_count_df.shape"
   ]
  },
  {
   "cell_type": "markdown",
   "id": "1647f0b8",
   "metadata": {},
   "source": [
    "We will now plot a bar-like graph showing the frequency of the countries mentioned. But as we can see from the graph above, the US is mentioned an order of magnitud more than the second most mentioned country.\n",
    "\n",
    "Hence, in order to make our graphs more meaninful we will exclude the US from the following visualizations."
   ]
  },
  {
   "cell_type": "code",
   "execution_count": 4,
   "id": "dcba89f0",
   "metadata": {},
   "outputs": [
    {
     "data": {
      "text/plain": [
       "[]"
      ]
     },
     "execution_count": 4,
     "metadata": {},
     "output_type": "execute_result"
    },
    {
     "data": {
      "image/png": "[encoded data removed]",
      "text/plain": [
       "<Figure size 1440x1080 with 1 Axes>"
      ]
     },
     "metadata": {
      "needs_background": "light"
     },
     "output_type": "display_data"
    }
   ],
   "source": [
    "#We plot the 20 most mentioned countries, excluding the US.\n",
    "\n",
    "plt.figure(figsize = (20,15))\n",
    "\n",
    "plt.bar(raw_country_count_df.loc[1:21, 'countries'].values, \n",
    "        raw_country_count_df.loc[1:21, 'num_doc_mentioned'].values)\n",
    "\n",
    "plt.xlabel('countries', fontsize = 16)\n",
    "plt.ylabel('total documents mentioned', fontsize = 16)\n",
    "\n",
    "plt.plot()"
   ]
  },
  {
   "cell_type": "code",
   "execution_count": 5,
   "id": "1be486e0",
   "metadata": {},
   "outputs": [],
   "source": [
    "countries_not_mentioned_df = raw_country_count_df[raw_country_count_df.num_doc_mentioned == 0]"
   ]
  },
  {
   "cell_type": "code",
   "execution_count": 6,
   "id": "b25baa07",
   "metadata": {},
   "outputs": [
    {
     "data": {
      "text/plain": [
       "(64, 2)"
      ]
     },
     "execution_count": 6,
     "metadata": {},
     "output_type": "execute_result"
    }
   ],
   "source": [
    "countries_not_mentioned_df.shape"
   ]
  },
  {
   "cell_type": "markdown",
   "id": "ec8ba054",
   "metadata": {},
   "source": [
    "This shows that from the 227 countries considered, 64 (~ 30% of all countries) were never mentioned in any loan documents.\n",
    "\n",
    "We will now perform a similar analysis as the one done above with a sligtly different data set. The data set still coinsists of country names and integers associated to them. However, this time the number associated to the country is the number of times this country was the one mentioned the most in the document (which is our best approximation to assigning a single country to each loan document)."
   ]
  },
  {
   "cell_type": "code",
   "execution_count": 7,
   "id": "83e20174",
   "metadata": {},
   "outputs": [
    {
     "data": {
      "text/html": [
       "<div>\n",
       "<style scoped>\n",
       "    .dataframe tbody tr th:only-of-type {\n",
       "        vertical-align: middle;\n",
       "    }\n",
       "\n",
       "    .dataframe tbody tr th {\n",
       "        vertical-align: top;\n",
       "    }\n",
       "\n",
       "    .dataframe thead th {\n",
       "        text-align: right;\n",
       "    }\n",
       "</style>\n",
       "<table border=\"1\" class=\"dataframe\">\n",
       "  <thead>\n",
       "    <tr style=\"text-align: right;\">\n",
       "      <th></th>\n",
       "      <th>countries</th>\n",
       "      <th>num_doc_max</th>\n",
       "    </tr>\n",
       "  </thead>\n",
       "  <tbody>\n",
       "    <tr>\n",
       "      <th>0</th>\n",
       "      <td>china</td>\n",
       "      <td>318</td>\n",
       "    </tr>\n",
       "    <tr>\n",
       "      <th>1</th>\n",
       "      <td>indonesia</td>\n",
       "      <td>205</td>\n",
       "    </tr>\n",
       "    <tr>\n",
       "      <th>2</th>\n",
       "      <td>india</td>\n",
       "      <td>197</td>\n",
       "    </tr>\n",
       "    <tr>\n",
       "      <th>3</th>\n",
       "      <td>united states</td>\n",
       "      <td>149</td>\n",
       "    </tr>\n",
       "    <tr>\n",
       "      <th>4</th>\n",
       "      <td>brazil</td>\n",
       "      <td>142</td>\n",
       "    </tr>\n",
       "  </tbody>\n",
       "</table>\n",
       "</div>"
      ],
      "text/plain": [
       "       countries  num_doc_max\n",
       "0          china          318\n",
       "1      indonesia          205\n",
       "2          india          197\n",
       "3  united states          149\n",
       "4         brazil          142"
      ]
     },
     "execution_count": 7,
     "metadata": {},
     "output_type": "execute_result"
    }
   ],
   "source": [
    "max_country_count_df = pd.read_csv('max_countries_mentioned.csv')\n",
    "max_country_count_df.rename(columns = {'Unnamed: 0': 'countries'}, inplace = True)\n",
    "max_country_count_df.head()"
   ]
  },
  {
   "cell_type": "markdown",
   "id": "40068482",
   "metadata": {},
   "source": [
    "As we can see, the US appears as the most mentioned country in 149 documents. We should not regard this as saying that the US has taken 149 loans, but rather, that our method failed to extract the 'true country' associated to the loan in this occations.\n",
    "\n",
    "We use the following two facts to justify this claim:\n",
    "- The World Bank has its HQ in the US. Furthermore, we already saw that the US was mentioned at least once in the large mayority of the documents.\n",
    "- According to [Wikipedia](https://en.wikipedia.org/wiki/World_Bank) the World Bank \"is an international financial institution that provides loans and grants to the governments of low- and middle-income countries for the purpose of pursuing capital projects\". And the US clearly does not fit this description."
   ]
  },
  {
   "cell_type": "code",
   "execution_count": 8,
   "id": "ddbcb91c",
   "metadata": {},
   "outputs": [
    {
     "data": {
      "text/plain": [
       "[]"
      ]
     },
     "execution_count": 8,
     "metadata": {},
     "output_type": "execute_result"
    },
    {
     "data": {
      "image/png": "[encoded data removed]",
      "text/plain": [
       "<Figure size 1440x1080 with 1 Axes>"
      ]
     },
     "metadata": {
      "needs_background": "light"
     },
     "output_type": "display_data"
    }
   ],
   "source": [
    "#We plot the 20 most mentioned countries, excluding the US.\n",
    "\n",
    "plt.figure(figsize = (20,15))\n",
    "\n",
    "plt.bar(max_country_count_df.loc[0:20, 'countries'].values, \n",
    "        max_country_count_df.loc[0:20, 'num_doc_max'].values)\n",
    "\n",
    "plt.xlabel('countries', fontsize = 16)\n",
    "plt.ylabel('total documents as main country', fontsize = 16)\n",
    "\n",
    "plt.plot()"
   ]
  },
  {
   "cell_type": "code",
   "execution_count": 9,
   "id": "0a0515ec",
   "metadata": {},
   "outputs": [
    {
     "data": {
      "text/plain": [
       "(119, 2)"
      ]
     },
     "execution_count": 9,
     "metadata": {},
     "output_type": "execute_result"
    }
   ],
   "source": [
    "countries_not_max_df = max_country_count_df[max_country_count_df.num_doc_max == 0]\n",
    "countries_not_max_df.shape"
   ]
  },
  {
   "cell_type": "markdown",
   "id": "f4b9ff6c",
   "metadata": {},
   "source": [
    "Since there are some many countries, we would like to perform a couple of dimensionality reductions to better understand the loan distributions among countries. We will do this in the following two ways\n",
    "\n",
    "- We will group the countries by region and get a bar diagram as the one above. However, this time there are only 11 regions in the world being considered -- considerably less than the 227 countries considered.\n",
    "- We will split the countries by GDP as follows: the country with largest GDP (per capita) has a GDP of aproximately 55000, and so we will divide the interval (0, 60 000) into 20 bins, and get a histogram representing how often a country with a certain GDP took a loan."
   ]
  },
  {
   "cell_type": "code",
   "execution_count": 115,
   "id": "1a9c9485",
   "metadata": {},
   "outputs": [],
   "source": [
    "#We import the relevant data. Unlike the work we did above were the data was ready to be consumed,\n",
    "#There is still some work to be done to extract the data needed for the visualization.\n",
    "\n",
    "df_pdf = pd.read_csv('PyMU_max_countries.csv')\n",
    "df_tess = pd.read_csv('tess_max_countries.csv')\n",
    "countries = pd.read_csv('countries.csv')"
   ]
  },
  {
   "cell_type": "code",
   "execution_count": 116,
   "id": "dd34aeba",
   "metadata": {},
   "outputs": [],
   "source": [
    "#In the countried DataFrame the column 'Country', we need to replace the country names by lowercase, and\n",
    "#remove some blankspaces at the end for ease of use.\n",
    "\n",
    "for index in countries.index:\n",
    "    countries.at[index, 'Country'] = countries.loc[index, 'Country'].lower().strip()"
   ]
  },
  {
   "cell_type": "code",
   "execution_count": 117,
   "id": "5801de13",
   "metadata": {},
   "outputs": [],
   "source": [
    "#We run np.unique to count how often countries were mentioned. This is essentially the same as the data frames\n",
    "#raw_country_count and max_country_count\n",
    "\n",
    "pdf_regions_count = np.unique(df_pdf.world_region.values, return_counts = True)\n",
    "tess_regions_count = np.unique(df_tess.world_region.values, return_counts = True)\n",
    "\n",
    "#We also make a list of all the regions in the world, and normalize it with lowercase and removing some blankspaces\n",
    "total_regions_list = [x.lower().strip() for x in np.unique(countries.Region.values)]"
   ]
  },
  {
   "cell_type": "code",
   "execution_count": 118,
   "id": "de381d5f",
   "metadata": {},
   "outputs": [],
   "source": [
    "#Takes as input the np.arrays we did in the previous box, and returns a dictionary assigning to each region\n",
    "#the amount of times it was mentioned\n",
    "\n",
    "def get_region_dic(np_unique_count):\n",
    "    dic = {x : 0 for x in total_regions_list}\n",
    "    dic['None'] = 0\n",
    "    for index in range(len(np_unique_count[0])):\n",
    "        region = np_unique_count[0][index]\n",
    "        num = np_unique_count[1][index]\n",
    "        dic[region] = num\n",
    "    return dic"
   ]
  },
  {
   "cell_type": "code",
   "execution_count": 119,
   "id": "792f3bcf",
   "metadata": {},
   "outputs": [],
   "source": [
    "#Get dictionary of different regions for PyMU and Tess loan documents\n",
    "\n",
    "pdf_region_dic = get_region_dic(pdf_regions_count)\n",
    "tess_region_dic = get_region_dic(tess_regions_count)\n"
   ]
  },
  {
   "cell_type": "code",
   "execution_count": 120,
   "id": "af7476a9",
   "metadata": {},
   "outputs": [],
   "source": [
    "#Add both dictionaries to get a total amount of loans per region\n",
    "\n",
    "total_region_dic = {x : 0 for x in total_regions_list}\n",
    "total_region_dic['None'] = 0\n",
    "\n",
    "for key in total_region_dic.keys():\n",
    "    total_region_dic[key] = pdf_region_dic[key] + tess_region_dic[key]"
   ]
  },
  {
   "cell_type": "code",
   "execution_count": 121,
   "id": "b1e322ea",
   "metadata": {},
   "outputs": [],
   "source": [
    "total_region_df = pd.DataFrame.from_dict(total_region_dic, orient = 'index', columns = ['num_regions_max'])"
   ]
  },
  {
   "cell_type": "code",
   "execution_count": 122,
   "id": "be3cf376",
   "metadata": {},
   "outputs": [
    {
     "data": {
      "text/html": [
       "<div>\n",
       "<style scoped>\n",
       "    .dataframe tbody tr th:only-of-type {\n",
       "        vertical-align: middle;\n",
       "    }\n",
       "\n",
       "    .dataframe tbody tr th {\n",
       "        vertical-align: top;\n",
       "    }\n",
       "\n",
       "    .dataframe thead th {\n",
       "        text-align: right;\n",
       "    }\n",
       "</style>\n",
       "<table border=\"1\" class=\"dataframe\">\n",
       "  <thead>\n",
       "    <tr style=\"text-align: right;\">\n",
       "      <th></th>\n",
       "      <th>num_regions_max</th>\n",
       "    </tr>\n",
       "  </thead>\n",
       "  <tbody>\n",
       "    <tr>\n",
       "      <th>asia (ex. near east)</th>\n",
       "      <td>931</td>\n",
       "    </tr>\n",
       "    <tr>\n",
       "      <th>baltics</th>\n",
       "      <td>57</td>\n",
       "    </tr>\n",
       "    <tr>\n",
       "      <th>c.w. of ind. states</th>\n",
       "      <td>306</td>\n",
       "    </tr>\n",
       "    <tr>\n",
       "      <th>eastern europe</th>\n",
       "      <td>270</td>\n",
       "    </tr>\n",
       "    <tr>\n",
       "      <th>latin amer. &amp; carib</th>\n",
       "      <td>723</td>\n",
       "    </tr>\n",
       "    <tr>\n",
       "      <th>near east</th>\n",
       "      <td>269</td>\n",
       "    </tr>\n",
       "    <tr>\n",
       "      <th>northern africa</th>\n",
       "      <td>303</td>\n",
       "    </tr>\n",
       "    <tr>\n",
       "      <th>northern america</th>\n",
       "      <td>149</td>\n",
       "    </tr>\n",
       "    <tr>\n",
       "      <th>oceania</th>\n",
       "      <td>6</td>\n",
       "    </tr>\n",
       "    <tr>\n",
       "      <th>sub-saharan africa</th>\n",
       "      <td>128</td>\n",
       "    </tr>\n",
       "    <tr>\n",
       "      <th>western europe</th>\n",
       "      <td>11</td>\n",
       "    </tr>\n",
       "    <tr>\n",
       "      <th>None</th>\n",
       "      <td>5</td>\n",
       "    </tr>\n",
       "  </tbody>\n",
       "</table>\n",
       "</div>"
      ],
      "text/plain": [
       "                      num_regions_max\n",
       "asia (ex. near east)              931\n",
       "baltics                            57\n",
       "c.w. of ind. states               306\n",
       "eastern europe                    270\n",
       "latin amer. & carib               723\n",
       "near east                         269\n",
       "northern africa                   303\n",
       "northern america                  149\n",
       "oceania                             6\n",
       "sub-saharan africa                128\n",
       "western europe                     11\n",
       "None                                5"
      ]
     },
     "execution_count": 122,
     "metadata": {},
     "output_type": "execute_result"
    }
   ],
   "source": [
    "total_region_df"
   ]
  },
  {
   "cell_type": "markdown",
   "id": "24439f8c",
   "metadata": {},
   "source": [
    "As we see in the bar diagram below. The regions with the most loans are Asia (China, India, Indonesia) and Latin America (Brazil, Argentina, Colombia, Peru).\n",
    "\n",
    "It could be worthwile to focus on specific countries or regions and study the effect of the loans."
   ]
  },
  {
   "cell_type": "code",
   "execution_count": 124,
   "id": "379cbc5b",
   "metadata": {},
   "outputs": [
    {
     "data": {
      "text/plain": [
       "[]"
      ]
     },
     "execution_count": 124,
     "metadata": {},
     "output_type": "execute_result"
    },
    {
     "data": {
      "image/png": "[encoded data removed]",
      "text/plain": [
       "<Figure size 1440x1080 with 1 Axes>"
      ]
     },
     "metadata": {
      "needs_background": "light"
     },
     "output_type": "display_data"
    }
   ],
   "source": [
    "plt.figure(figsize = (20,15))\n",
    "\n",
    "plt.bar(total_region_df.index.values, \n",
    "        total_region_df.num_regions_max.values)\n",
    "\n",
    "plt.xlabel('countries', fontsize = 16)\n",
    "plt.ylabel('total documents as main region', fontsize = 16)\n",
    "\n",
    "plt.plot()"
   ]
  },
  {
   "cell_type": "code",
   "execution_count": 125,
   "id": "da6017da",
   "metadata": {},
   "outputs": [
    {
     "data": {
      "text/html": [
       "<div>\n",
       "<style scoped>\n",
       "    .dataframe tbody tr th:only-of-type {\n",
       "        vertical-align: middle;\n",
       "    }\n",
       "\n",
       "    .dataframe tbody tr th {\n",
       "        vertical-align: top;\n",
       "    }\n",
       "\n",
       "    .dataframe thead th {\n",
       "        text-align: right;\n",
       "    }\n",
       "</style>\n",
       "<table border=\"1\" class=\"dataframe\">\n",
       "  <thead>\n",
       "    <tr style=\"text-align: right;\">\n",
       "      <th></th>\n",
       "      <th>Country</th>\n",
       "      <th>Region</th>\n",
       "      <th>Population</th>\n",
       "      <th>Area (sq. mi.)</th>\n",
       "      <th>Pop. Density (per sq. mi.)</th>\n",
       "      <th>Coastline (coast/area ratio)</th>\n",
       "      <th>Net migration</th>\n",
       "      <th>Infant mortality (per 1000 births)</th>\n",
       "      <th>GDP ($ per capita)</th>\n",
       "      <th>Literacy (%)</th>\n",
       "      <th>Phones (per 1000)</th>\n",
       "      <th>Arable (%)</th>\n",
       "      <th>Crops (%)</th>\n",
       "      <th>Other (%)</th>\n",
       "      <th>Climate</th>\n",
       "      <th>Birthrate</th>\n",
       "      <th>Deathrate</th>\n",
       "      <th>Agriculture</th>\n",
       "      <th>Industry</th>\n",
       "      <th>Service</th>\n",
       "    </tr>\n",
       "  </thead>\n",
       "  <tbody>\n",
       "    <tr>\n",
       "      <th>0</th>\n",
       "      <td>afghanistan</td>\n",
       "      <td>ASIA (EX. NEAR EAST)</td>\n",
       "      <td>31056997</td>\n",
       "      <td>647500</td>\n",
       "      <td>48,0</td>\n",
       "      <td>0,00</td>\n",
       "      <td>23,06</td>\n",
       "      <td>163,07</td>\n",
       "      <td>700.0</td>\n",
       "      <td>36,0</td>\n",
       "      <td>3,2</td>\n",
       "      <td>12,13</td>\n",
       "      <td>0,22</td>\n",
       "      <td>87,65</td>\n",
       "      <td>1</td>\n",
       "      <td>46,6</td>\n",
       "      <td>20,34</td>\n",
       "      <td>0,38</td>\n",
       "      <td>0,24</td>\n",
       "      <td>0,38</td>\n",
       "    </tr>\n",
       "    <tr>\n",
       "      <th>1</th>\n",
       "      <td>albania</td>\n",
       "      <td>EASTERN EUROPE</td>\n",
       "      <td>3581655</td>\n",
       "      <td>28748</td>\n",
       "      <td>124,6</td>\n",
       "      <td>1,26</td>\n",
       "      <td>-4,93</td>\n",
       "      <td>21,52</td>\n",
       "      <td>4500.0</td>\n",
       "      <td>86,5</td>\n",
       "      <td>71,2</td>\n",
       "      <td>21,09</td>\n",
       "      <td>4,42</td>\n",
       "      <td>74,49</td>\n",
       "      <td>3</td>\n",
       "      <td>15,11</td>\n",
       "      <td>5,22</td>\n",
       "      <td>0,232</td>\n",
       "      <td>0,188</td>\n",
       "      <td>0,579</td>\n",
       "    </tr>\n",
       "    <tr>\n",
       "      <th>2</th>\n",
       "      <td>algeria</td>\n",
       "      <td>NORTHERN AFRICA</td>\n",
       "      <td>32930091</td>\n",
       "      <td>2381740</td>\n",
       "      <td>13,8</td>\n",
       "      <td>0,04</td>\n",
       "      <td>-0,39</td>\n",
       "      <td>31</td>\n",
       "      <td>6000.0</td>\n",
       "      <td>70,0</td>\n",
       "      <td>78,1</td>\n",
       "      <td>3,22</td>\n",
       "      <td>0,25</td>\n",
       "      <td>96,53</td>\n",
       "      <td>1</td>\n",
       "      <td>17,14</td>\n",
       "      <td>4,61</td>\n",
       "      <td>0,101</td>\n",
       "      <td>0,6</td>\n",
       "      <td>0,298</td>\n",
       "    </tr>\n",
       "    <tr>\n",
       "      <th>3</th>\n",
       "      <td>american samoa</td>\n",
       "      <td>OCEANIA</td>\n",
       "      <td>57794</td>\n",
       "      <td>199</td>\n",
       "      <td>290,4</td>\n",
       "      <td>58,29</td>\n",
       "      <td>-20,71</td>\n",
       "      <td>9,27</td>\n",
       "      <td>8000.0</td>\n",
       "      <td>97,0</td>\n",
       "      <td>259,5</td>\n",
       "      <td>10</td>\n",
       "      <td>15</td>\n",
       "      <td>75</td>\n",
       "      <td>2</td>\n",
       "      <td>22,46</td>\n",
       "      <td>3,27</td>\n",
       "      <td>NaN</td>\n",
       "      <td>NaN</td>\n",
       "      <td>NaN</td>\n",
       "    </tr>\n",
       "    <tr>\n",
       "      <th>4</th>\n",
       "      <td>andorra</td>\n",
       "      <td>WESTERN EUROPE</td>\n",
       "      <td>71201</td>\n",
       "      <td>468</td>\n",
       "      <td>152,1</td>\n",
       "      <td>0,00</td>\n",
       "      <td>6,6</td>\n",
       "      <td>4,05</td>\n",
       "      <td>19000.0</td>\n",
       "      <td>100,0</td>\n",
       "      <td>497,2</td>\n",
       "      <td>2,22</td>\n",
       "      <td>0</td>\n",
       "      <td>97,78</td>\n",
       "      <td>3</td>\n",
       "      <td>8,71</td>\n",
       "      <td>6,25</td>\n",
       "      <td>NaN</td>\n",
       "      <td>NaN</td>\n",
       "      <td>NaN</td>\n",
       "    </tr>\n",
       "  </tbody>\n",
       "</table>\n",
       "</div>"
      ],
      "text/plain": [
       "          Country                               Region  Population  \\\n",
       "0     afghanistan        ASIA (EX. NEAR EAST)             31056997   \n",
       "1         albania  EASTERN EUROPE                          3581655   \n",
       "2         algeria  NORTHERN AFRICA                        32930091   \n",
       "3  american samoa  OCEANIA                                   57794   \n",
       "4         andorra  WESTERN EUROPE                            71201   \n",
       "\n",
       "   Area (sq. mi.) Pop. Density (per sq. mi.) Coastline (coast/area ratio)  \\\n",
       "0          647500                       48,0                         0,00   \n",
       "1           28748                      124,6                         1,26   \n",
       "2         2381740                       13,8                         0,04   \n",
       "3             199                      290,4                        58,29   \n",
       "4             468                      152,1                         0,00   \n",
       "\n",
       "  Net migration Infant mortality (per 1000 births)  GDP ($ per capita)  \\\n",
       "0         23,06                             163,07               700.0   \n",
       "1         -4,93                              21,52              4500.0   \n",
       "2         -0,39                                 31              6000.0   \n",
       "3        -20,71                               9,27              8000.0   \n",
       "4           6,6                               4,05             19000.0   \n",
       "\n",
       "  Literacy (%) Phones (per 1000) Arable (%) Crops (%) Other (%) Climate  \\\n",
       "0         36,0               3,2      12,13      0,22     87,65       1   \n",
       "1         86,5              71,2      21,09      4,42     74,49       3   \n",
       "2         70,0              78,1       3,22      0,25     96,53       1   \n",
       "3         97,0             259,5         10        15        75       2   \n",
       "4        100,0             497,2       2,22         0     97,78       3   \n",
       "\n",
       "  Birthrate Deathrate Agriculture Industry Service  \n",
       "0      46,6     20,34        0,38     0,24    0,38  \n",
       "1     15,11      5,22       0,232    0,188   0,579  \n",
       "2     17,14      4,61       0,101      0,6   0,298  \n",
       "3     22,46      3,27         NaN      NaN     NaN  \n",
       "4      8,71      6,25         NaN      NaN     NaN  "
      ]
     },
     "execution_count": 125,
     "metadata": {},
     "output_type": "execute_result"
    }
   ],
   "source": [
    "countries.head()"
   ]
  },
  {
   "cell_type": "code",
   "execution_count": 126,
   "id": "eaf24624",
   "metadata": {},
   "outputs": [],
   "source": [
    "#Takes as input the data frames df_tess and df_pdf and returns a list with the GDP of the country taking the loan.\n",
    "#This raw list should be enough to make a good histogram\n",
    "\n",
    "def get_total_gdp_list(data):\n",
    "    list = []\n",
    "    for index in data.index:\n",
    "        country_name = data.loc[index, 'max_country']\n",
    "        if country_name == 'None':\n",
    "            list.append(0)\n",
    "        else:\n",
    "            country_file = countries[countries.Country == country_name]\n",
    "            gdp_list = country_file.loc[:,'GDP ($ per capita)'].values.tolist()\n",
    "            if len(gdp_list) == 0:\n",
    "                list.append(0)\n",
    "            else:\n",
    "                gdp = country_file.loc[:,'GDP ($ per capita)'].values.tolist()[0]\n",
    "                list.append(gdp)\n",
    "    return list"
   ]
  },
  {
   "cell_type": "code",
   "execution_count": 127,
   "id": "4ce8e450",
   "metadata": {},
   "outputs": [],
   "source": [
    "#Gets the lists for the two data frames and concatenates them to a single list\n",
    "\n",
    "tess_gdp_list = get_total_gdp_list(df_tess)\n",
    "pdf_gdp_list = get_total_gdp_list(df_pdf)\n",
    "total_gdp_list = tess_gdp_list + pdf_gdp_list"
   ]
  },
  {
   "cell_type": "markdown",
   "id": "2d602b33",
   "metadata": {},
   "source": [
    "We now proceed to show two histograms which are the most meaninful when considered together. Lets first describe what both histograms show\n",
    "\n",
    "- The first histogram shows how many loans countries within a certain GDP range get.\n",
    "- The second histogram shows how many countries within a certain GDP range are there.\n",
    "\n",
    "These histograms show (when considered together), that even though there is a very high concentration of countries with low GDP (0, 3000), they do not recieve nearly as many loans are the countries in the range (3000-6000).\n",
    "\n",
    "This shows that even though the world bank aims to help low-income countries, a certain amount of infrastructure (quantified in this case by wealth, i.e. GDP), is essential to consistently get loans from the World Bank.\n",
    "\n",
    "Let us record the GDP of some relevant countries:\n",
    "- China: 5000\n",
    "- India: 2900\n",
    "- Indonesia: 3200\n",
    "- Brazil: 7600\n",
    "- Argentina: 11200\n",
    "- Mexico: 9000\n",
    "- Peru: 5100\n",
    "- Colombia: 6300"
   ]
  },
  {
   "cell_type": "code",
   "execution_count": 137,
   "id": "fac91f89",
   "metadata": {},
   "outputs": [
    {
     "data": {
      "image/png": "[encoded data removed]",
      "text/plain": [
       "<Figure size 1080x720 with 1 Axes>"
      ]
     },
     "metadata": {
      "needs_background": "light"
     },
     "output_type": "display_data"
    }
   ],
   "source": [
    "plt.figure(figsize = (15,10))\n",
    "\n",
    "plt.hist(total_gdp_list, bins = 20, range =(0, 60000))\n",
    "plt.xlabel('GDP (per capita)', fontsize = 16)\n",
    "plt.ylabel('Frequency of countries with certain GDP taking loans', fontsize = 16)\n",
    "\n",
    "plt.show()"
   ]
  },
  {
   "cell_type": "code",
   "execution_count": 138,
   "id": "748184d9",
   "metadata": {},
   "outputs": [],
   "source": [
    "countries_gdp_list = countries.loc[:, 'GDP ($ per capita)'].values.tolist()"
   ]
  },
  {
   "cell_type": "code",
   "execution_count": 139,
   "id": "6d741b03",
   "metadata": {},
   "outputs": [
    {
     "data": {
      "image/png": "[encoded data removed]",
      "text/plain": [
       "<Figure size 1080x720 with 1 Axes>"
      ]
     },
     "metadata": {
      "needs_background": "light"
     },
     "output_type": "display_data"
    }
   ],
   "source": [
    "plt.figure(figsize = (15,10))\n",
    "\n",
    "plt.hist(countries_gdp_list, bins = 20, range =(0, 60000))\n",
    "plt.xlabel('GDP (per capita)', fontsize = 16)\n",
    "plt.ylabel('Number of Countries with certain GDP', fontsize = 16)\n",
    "\n",
    "plt.show()"
   ]
  },
  {
   "cell_type": "code",
   "execution_count": null,
   "id": "55ce51c2",
   "metadata": {},
   "outputs": [],
   "source": []
  },
  {
   "cell_type": "code",
   "execution_count": null,
   "id": "97470038",
   "metadata": {},
   "outputs": [],
   "source": []
  },
  {
   "cell_type": "code",
   "execution_count": null,
   "id": "40e3c442",
   "metadata": {},
   "outputs": [],
   "source": []
  }
 ],
 "metadata": {
  "kernelspec": {
   "display_name": "Python 3",
   "language": "python",
   "name": "python3"
  },
  "language_info": {
   "codemirror_mode": {
    "name": "ipython",
    "version": 3
   },
   "file_extension": ".py",
   "mimetype": "text/x-python",
   "name": "python",
   "nbconvert_exporter": "python",
   "pygments_lexer": "ipython3",
   "version": "3.8.8"
  }
 },
 "nbformat": 4,
 "nbformat_minor": 5
}
