{
 "cells": [
  {
   "cell_type": "markdown",
   "metadata": {},
   "source": [
    "#### This text is much less organized than others. This is a 'play around' code used to help create 'Clean_Data_loan_amount.py'\n",
    "\n",
    "Readers are suggested to see the python file located in the same folder, if they simply want to utilize the main parts of the code to extract the loan amount and currency information."
   ]
  },
  {
   "cell_type": "code",
   "execution_count": 1,
   "metadata": {},
   "outputs": [
    {
     "name": "stderr",
     "output_type": "stream",
     "text": [
      "[nltk_data] Downloading package stopwords to\n",
      "[nltk_data]     C:\\Users\\Kevin\\AppData\\Roaming\\nltk_data...\n",
      "[nltk_data]   Package stopwords is already up-to-date!\n",
      "[nltk_data] Downloading package wordnet to\n",
      "[nltk_data]     C:\\Users\\Kevin\\AppData\\Roaming\\nltk_data...\n",
      "[nltk_data]   Package wordnet is already up-to-date!\n"
     ]
    }
   ],
   "source": [
    "#! /usr/bin/env python3\n",
    "\n",
    "from itertools import *\n",
    "import os\n",
    "import numpy as np\n",
    "import pandas as pd\n",
    "import string\n",
    "import re\n",
    "import nltk\n",
    "from nltk.corpus import stopwords\n",
    "from nltk.stem import WordNetLemmatizer\n",
    "nltk.download('stopwords')\n",
    "nltk.download('wordnet')\n",
    "#nltk.download()\n",
    "\n",
    "import spacy\n",
    "nlp = spacy.load(\"en_core_web_sm\")"
   ]
  },
  {
   "cell_type": "code",
   "execution_count": 2,
   "metadata": {},
   "outputs": [],
   "source": [
    "# ## If loading in future, use this to load in the data without having to recompute everything\n",
    "raw_df = pd.read_csv('../Clean_Data/clean_data.csv')\n",
    "raw_df_tess = pd.read_csv('../Clean_Data/clean_data_tess.csv')\n",
    "\n",
    "raw_df = raw_df.drop(columns=raw_df.columns[0])\n",
    "raw_df_tess = raw_df_tess.drop(columns=raw_df_tess.columns[0])"
   ]
  },
  {
   "cell_type": "code",
   "execution_count": 18,
   "metadata": {},
   "outputs": [],
   "source": [
    "# ## Path to text files\n",
    "# path = \"/home/kbari/git_repo/FinanceErdosProj/PyMuPdf_Text/\"\n",
    "# path1 = \"/home/kbari/git_repo/FinanceErdosProj/Tesseract_Text/\"\n",
    "\n",
    "## Load from txt from files to a dataframe; Other information to include possibly?\n",
    "\n",
    "## Path to text files (Kevin Bombardier)\n",
    "path = \"../PyMuPdf_Text/\"\n",
    "path1 = \"../Tesseract_Text/\""
   ]
  },
  {
   "cell_type": "code",
   "execution_count": 3,
   "metadata": {},
   "outputs": [],
   "source": [
    "## Load from txt from files to a dataframe; Other information to include possibly?\n",
    "\n",
    "#pd.read_table(file,header=None,quotechar=None,quoting=3,error_bad_lines=False) for file in DIR]\n",
    "def txt_to_df(path):\n",
    "    ''' Put all txt files into single dataframe'''\n",
    "    DIR = os.listdir(path)\n",
    "    raw_df_lst = []\n",
    "    for i in range(len(DIR)):\n",
    "        with open(path+DIR[i], encoding=\"utf8\") as f:\n",
    "            lines = f.readlines()\n",
    "            data = '\\n'.join(map(str,lines))\n",
    "#             print(loan_amount_preprocess(data))\n",
    "#             print(country_preprocess(data))\n",
    "            di = pd.DataFrame([data,len(data)],\n",
    "                              index=['raw_text','num_char'],columns=[DIR[i]]).T\n",
    "            raw_df_lst.append(di)\n",
    "    #print(len(raw_df_lst))\n",
    "    df_raw = pd.concat(raw_df_lst)\n",
    "    return df_raw"
   ]
  },
  {
   "cell_type": "code",
   "execution_count": 31,
   "metadata": {},
   "outputs": [],
   "source": [
    "# ## Get the raw dataframe using the function previously defined as txt_to_df\n",
    "# ## Only used at the beginning. Use the read_csv version later\n",
    "# raw_df = txt_to_df(path)\n",
    "# raw_df_tess = txt_to_df(path1)"
   ]
  },
  {
   "cell_type": "code",
   "execution_count": 112,
   "metadata": {
    "collapsed": true
   },
   "outputs": [
    {
     "data": {
      "text/html": [
       "<div>\n",
       "<style scoped>\n",
       "    .dataframe tbody tr th:only-of-type {\n",
       "        vertical-align: middle;\n",
       "    }\n",
       "\n",
       "    .dataframe tbody tr th {\n",
       "        vertical-align: top;\n",
       "    }\n",
       "\n",
       "    .dataframe thead th {\n",
       "        text-align: right;\n",
       "    }\n",
       "</style>\n",
       "<table border=\"1\" class=\"dataframe\">\n",
       "  <thead>\n",
       "    <tr style=\"text-align: right;\">\n",
       "      <th></th>\n",
       "      <th>raw_text</th>\n",
       "      <th>num_char</th>\n",
       "      <th>clean_text</th>\n",
       "      <th>filename</th>\n",
       "      <th>loan_amount_curr</th>\n",
       "      <th>loan_amount</th>\n",
       "      <th>currency</th>\n",
       "    </tr>\n",
       "  </thead>\n",
       "  <tbody>\n",
       "    <tr>\n",
       "      <th>566</th>\n",
       "      <td>...</td>\n",
       "      <td>37885</td>\n",
       "      <td>['conformed', 'copy', 'loan', 'number', 'ru', ...</td>\n",
       "      <td>1994_september_27_819981468294100608_conformed...</td>\n",
       "      <td>[500000000, $]</td>\n",
       "      <td>500000000</td>\n",
       "      <td>$</td>\n",
       "    </tr>\n",
       "    <tr>\n",
       "      <th>2599</th>\n",
       "      <td>OFFICIAL \\n\\nDOCUMENTS \\n\\nLOAN NUMBER 8708-PA...</td>\n",
       "      <td>36773</td>\n",
       "      <td>['official', 'document', 'loan', 'number', 'pa...</td>\n",
       "      <td>2017_july_7_415511500642367300_official-docume...</td>\n",
       "      <td>[12000000, $]</td>\n",
       "      <td>12000000</td>\n",
       "      <td>$</td>\n",
       "    </tr>\n",
       "    <tr>\n",
       "      <th>844</th>\n",
       "      <td>CONFORMED COPY  \\n\\nLOAN NUMBER 4124 CHA\\n\\nLo...</td>\n",
       "      <td>34201</td>\n",
       "      <td>['conformed', 'copy', 'loan', 'number', 'cha',...</td>\n",
       "      <td>1997_august_29_225681468223152721_conformed-co...</td>\n",
       "      <td>[400000000, $]</td>\n",
       "      <td>400000000</td>\n",
       "      <td>$</td>\n",
       "    </tr>\n",
       "    <tr>\n",
       "      <th>1861</th>\n",
       "      <td>CONFORMED COPY \\n\\n \\n\\nLOAN NUMBER 7667-UR \\n...</td>\n",
       "      <td>30218</td>\n",
       "      <td>['conformed', 'copy', 'loan', 'number', 'ur', ...</td>\n",
       "      <td>2009_february_10_860301468302438096_loan-agree...</td>\n",
       "      <td>Error</td>\n",
       "      <td>Error</td>\n",
       "      <td>NaN</td>\n",
       "    </tr>\n",
       "    <tr>\n",
       "      <th>1927</th>\n",
       "      <td>CONFORMED COPY \\n\\n \\n\\nLOAN NUMBER 7809-DO \\n...</td>\n",
       "      <td>30573</td>\n",
       "      <td>['conformed', 'copy', 'loan', 'number', 'do', ...</td>\n",
       "      <td>2009_november_18_836531468027660798_loan-agree...</td>\n",
       "      <td>[15000000, $]</td>\n",
       "      <td>15000000</td>\n",
       "      <td>$</td>\n",
       "    </tr>\n",
       "  </tbody>\n",
       "</table>\n",
       "</div>"
      ],
      "text/plain": [
       "                                               raw_text  num_char  \\\n",
       "566                                                 ...     37885   \n",
       "2599  OFFICIAL \\n\\nDOCUMENTS \\n\\nLOAN NUMBER 8708-PA...     36773   \n",
       "844   CONFORMED COPY  \\n\\nLOAN NUMBER 4124 CHA\\n\\nLo...     34201   \n",
       "1861  CONFORMED COPY \\n\\n \\n\\nLOAN NUMBER 7667-UR \\n...     30218   \n",
       "1927  CONFORMED COPY \\n\\n \\n\\nLOAN NUMBER 7809-DO \\n...     30573   \n",
       "\n",
       "                                             clean_text  \\\n",
       "566   ['conformed', 'copy', 'loan', 'number', 'ru', ...   \n",
       "2599  ['official', 'document', 'loan', 'number', 'pa...   \n",
       "844   ['conformed', 'copy', 'loan', 'number', 'cha',...   \n",
       "1861  ['conformed', 'copy', 'loan', 'number', 'ur', ...   \n",
       "1927  ['conformed', 'copy', 'loan', 'number', 'do', ...   \n",
       "\n",
       "                                               filename loan_amount_curr  \\\n",
       "566   1994_september_27_819981468294100608_conformed...   [500000000, $]   \n",
       "2599  2017_july_7_415511500642367300_official-docume...    [12000000, $]   \n",
       "844   1997_august_29_225681468223152721_conformed-co...   [400000000, $]   \n",
       "1861  2009_february_10_860301468302438096_loan-agree...            Error   \n",
       "1927  2009_november_18_836531468027660798_loan-agree...    [15000000, $]   \n",
       "\n",
       "     loan_amount currency  \n",
       "566    500000000        $  \n",
       "2599    12000000        $  \n",
       "844    400000000        $  \n",
       "1861       Error      NaN  \n",
       "1927    15000000        $  "
      ]
     },
     "execution_count": 112,
     "metadata": {},
     "output_type": "execute_result"
    }
   ],
   "source": [
    "sample_df = raw_df.sample(n=5)\n",
    "\n",
    "sample_df.raw_text"
   ]
  },
  {
   "cell_type": "code",
   "execution_count": 136,
   "metadata": {},
   "outputs": [],
   "source": [
    "## Removes punctuation, stopwords, lemmatizes\n",
    "def text_preprocess(text):\n",
    "    '''\n",
    "    Remove all punctuation,stopwords, lemmatize -> returns list of words\n",
    "    '''\n",
    "    lemma = WordNetLemmatizer()\n",
    "    text = text.lower()\n",
    "#     text = ''.join(char for char in text if char not in string.punctuation)\n",
    "    text = ' '.join(re.sub(\"([^0-9A-Za-z \\t])|(\\w+:\\/\\/\\S+)\", \"\", text).split())    #keeps only alphabets and numbers. change\n",
    "    text = ' '.join(i for i in text if not i.isdigit())\n",
    "    text = ' '.join(word for word in text.split() if word not in stopwords.words('english'))\n",
    "    text = ' '.join(lemma.lemmatize(str(word)) for word in nlp(text))\n",
    "    return text"
   ]
  },
  {
   "cell_type": "code",
   "execution_count": 137,
   "metadata": {
    "collapsed": true
   },
   "outputs": [
    {
     "data": {
      "text/html": [
       "<div>\n",
       "<style scoped>\n",
       "    .dataframe tbody tr th:only-of-type {\n",
       "        vertical-align: middle;\n",
       "    }\n",
       "\n",
       "    .dataframe tbody tr th {\n",
       "        vertical-align: top;\n",
       "    }\n",
       "\n",
       "    .dataframe thead th {\n",
       "        text-align: right;\n",
       "    }\n",
       "</style>\n",
       "<table border=\"1\" class=\"dataframe\">\n",
       "  <thead>\n",
       "    <tr style=\"text-align: right;\">\n",
       "      <th></th>\n",
       "      <th>raw_text</th>\n",
       "      <th>num_char</th>\n",
       "      <th>clean_text</th>\n",
       "      <th>filename</th>\n",
       "      <th>loan_amount_curr</th>\n",
       "      <th>loan_amount</th>\n",
       "      <th>currency</th>\n",
       "      <th>clean_data</th>\n",
       "    </tr>\n",
       "  </thead>\n",
       "  <tbody>\n",
       "    <tr>\n",
       "      <th>566</th>\n",
       "      <td>...</td>\n",
       "      <td>37885</td>\n",
       "      <td>['conformed', 'copy', 'loan', 'number', 'ru', ...</td>\n",
       "      <td>1994_september_27_819981468294100608_conformed...</td>\n",
       "      <td>[500000000, $]</td>\n",
       "      <td>500000000</td>\n",
       "      <td>$</td>\n",
       "      <td>c n f r e c p l n n u b e r r u l n g r e e e ...</td>\n",
       "    </tr>\n",
       "    <tr>\n",
       "      <th>2599</th>\n",
       "      <td>OFFICIAL \\n\\nDOCUMENTS \\n\\nLOAN NUMBER 8708-PA...</td>\n",
       "      <td>36773</td>\n",
       "      <td>['official', 'document', 'loan', 'number', 'pa...</td>\n",
       "      <td>2017_july_7_415511500642367300_official-docume...</td>\n",
       "      <td>[12000000, $]</td>\n",
       "      <td>12000000</td>\n",
       "      <td>$</td>\n",
       "      <td>f f c l c u e n l n n u b e r p l n g r e e e ...</td>\n",
       "    </tr>\n",
       "    <tr>\n",
       "      <th>844</th>\n",
       "      <td>CONFORMED COPY  \\n\\nLOAN NUMBER 4124 CHA\\n\\nLo...</td>\n",
       "      <td>34201</td>\n",
       "      <td>['conformed', 'copy', 'loan', 'number', 'cha',...</td>\n",
       "      <td>1997_august_29_225681468223152721_conformed-co...</td>\n",
       "      <td>[400000000, $]</td>\n",
       "      <td>400000000</td>\n",
       "      <td>$</td>\n",
       "      <td>c n f r e c p l n n u b e r c h l n g r e e e ...</td>\n",
       "    </tr>\n",
       "    <tr>\n",
       "      <th>1861</th>\n",
       "      <td>CONFORMED COPY \\n\\n \\n\\nLOAN NUMBER 7667-UR \\n...</td>\n",
       "      <td>30218</td>\n",
       "      <td>['conformed', 'copy', 'loan', 'number', 'ur', ...</td>\n",
       "      <td>2009_february_10_860301468302438096_loan-agree...</td>\n",
       "      <td>Error</td>\n",
       "      <td>Error</td>\n",
       "      <td>NaN</td>\n",
       "      <td>c n f r e c p l n n u b e r u r l n g r e e e ...</td>\n",
       "    </tr>\n",
       "    <tr>\n",
       "      <th>1927</th>\n",
       "      <td>CONFORMED COPY \\n\\n \\n\\nLOAN NUMBER 7809-DO \\n...</td>\n",
       "      <td>30573</td>\n",
       "      <td>['conformed', 'copy', 'loan', 'number', 'do', ...</td>\n",
       "      <td>2009_november_18_836531468027660798_loan-agree...</td>\n",
       "      <td>[15000000, $]</td>\n",
       "      <td>15000000</td>\n",
       "      <td>$</td>\n",
       "      <td>c n f r e c p l n n u b e r l n g r e e e n p ...</td>\n",
       "    </tr>\n",
       "  </tbody>\n",
       "</table>\n",
       "</div>"
      ],
      "text/plain": [
       "                                               raw_text  num_char  \\\n",
       "566                                                 ...     37885   \n",
       "2599  OFFICIAL \\n\\nDOCUMENTS \\n\\nLOAN NUMBER 8708-PA...     36773   \n",
       "844   CONFORMED COPY  \\n\\nLOAN NUMBER 4124 CHA\\n\\nLo...     34201   \n",
       "1861  CONFORMED COPY \\n\\n \\n\\nLOAN NUMBER 7667-UR \\n...     30218   \n",
       "1927  CONFORMED COPY \\n\\n \\n\\nLOAN NUMBER 7809-DO \\n...     30573   \n",
       "\n",
       "                                             clean_text  \\\n",
       "566   ['conformed', 'copy', 'loan', 'number', 'ru', ...   \n",
       "2599  ['official', 'document', 'loan', 'number', 'pa...   \n",
       "844   ['conformed', 'copy', 'loan', 'number', 'cha',...   \n",
       "1861  ['conformed', 'copy', 'loan', 'number', 'ur', ...   \n",
       "1927  ['conformed', 'copy', 'loan', 'number', 'do', ...   \n",
       "\n",
       "                                               filename loan_amount_curr  \\\n",
       "566   1994_september_27_819981468294100608_conformed...   [500000000, $]   \n",
       "2599  2017_july_7_415511500642367300_official-docume...    [12000000, $]   \n",
       "844   1997_august_29_225681468223152721_conformed-co...   [400000000, $]   \n",
       "1861  2009_february_10_860301468302438096_loan-agree...            Error   \n",
       "1927  2009_november_18_836531468027660798_loan-agree...    [15000000, $]   \n",
       "\n",
       "     loan_amount currency                                         clean_data  \n",
       "566    500000000        $  c n f r e c p l n n u b e r r u l n g r e e e ...  \n",
       "2599    12000000        $  f f c l c u e n l n n u b e r p l n g r e e e ...  \n",
       "844    400000000        $  c n f r e c p l n n u b e r c h l n g r e e e ...  \n",
       "1861       Error      NaN  c n f r e c p l n n u b e r u r l n g r e e e ...  \n",
       "1927    15000000        $  c n f r e c p l n n u b e r l n g r e e e n p ...  "
      ]
     },
     "execution_count": 137,
     "metadata": {},
     "output_type": "execute_result"
    }
   ],
   "source": [
    "sample_df['clean_data'] = sample_df.raw_text.apply(lambda x: text_preprocess(x))\n",
    "\n",
    "sample_df"
   ]
  },
  {
   "cell_type": "code",
   "execution_count": null,
   "metadata": {},
   "outputs": [],
   "source": [
    "def clean_docs(doc):\n",
    "    doc = doc.lower() #converts to lower  \n",
    "    doc = ' '.join(lemmatizer(str(word), VERB)[0] for word in nlp(doc))    #lemmatizes the verbs\n",
    "    doc = ' '.join(word.text for word in nlp(doc) if not word.is_stop)    #removes stopwords\n",
    "    doc = ' '.join(re.sub(\"([^0-9A-Za-z \\t])|(\\w+:\\/\\/\\S+)\", \"\", doc).split())    #keeps only alphabets and numbers. change it to [^A-Za-z \\t}\n",
    "    doc = doc.strip()\n",
    "    return doc"
   ]
  },
  {
   "cell_type": "code",
   "execution_count": 35,
   "metadata": {},
   "outputs": [],
   "source": [
    "## Will create a column called \"clean_text\" which uses Lemmatization to process raw text\n",
    "raw_df['clean_text'] = raw_df.raw_text.apply(lambda x: text_preprocess(x))\n",
    "raw_df_tess['clean_text'] = raw_df_tess.raw_text.apply(lambda x: text_preprocess(x))"
   ]
  },
  {
   "cell_type": "code",
   "execution_count": 40,
   "metadata": {},
   "outputs": [],
   "source": [
    "raw_df['filename'] = raw_df.index\n",
    "raw_df_tess['filename'] = raw_df_tess.index"
   ]
  },
  {
   "cell_type": "raw",
   "metadata": {},
   "source": [
    "raw_df"
   ]
  },
  {
   "cell_type": "code",
   "execution_count": 38,
   "metadata": {},
   "outputs": [],
   "source": [
    "df1 = raw_df.copy()\n",
    "df2 = raw_df_tess.copy()"
   ]
  },
  {
   "cell_type": "code",
   "execution_count": 52,
   "metadata": {},
   "outputs": [],
   "source": [
    "raw_df = raw_df.reset_index(drop=True)\n",
    "raw_df_tess = raw_df_tess.reset_index(drop=True)"
   ]
  },
  {
   "cell_type": "code",
   "execution_count": 55,
   "metadata": {},
   "outputs": [],
   "source": [
    "## Save the dataframes to the csv\n",
    "raw_df.to_csv('../clean_data.csv')\n",
    "raw_df_tess.to_csv('../clean_data_tess.csv')"
   ]
  },
  {
   "cell_type": "code",
   "execution_count": 5,
   "metadata": {},
   "outputs": [],
   "source": [
    "def contains_number(reg_exp):\n",
    "    y = [char.isdigit() for char in reg_exp]\n",
    "    if y.count(True) > 5:\n",
    "        return True\n",
    "    return False"
   ]
  },
  {
   "cell_type": "code",
   "execution_count": 5,
   "metadata": {},
   "outputs": [],
   "source": [
    "def txt_to_csv(path,out_path):\n",
    "    '''Input path is path for all text files, output path is path to output\n",
    "    file'''\n",
    "    df_raw = txt_to_df(path)\n",
    "    return df_raw.to_csv(out_path,index=False)"
   ]
  },
  {
   "cell_type": "code",
   "execution_count": 290,
   "metadata": {},
   "outputs": [],
   "source": [
    "txt = raw_df.raw_text.iloc[545]\n",
    "\n",
    "amount = re.findall(\"\\((.+?\\d+?)\\)\",txt)[0]\n",
    "amount = amount.replace(',','')\n",
    "amount = amount.replace('?','')\n",
    "amount = amount.replace(' ','')\n",
    "currency = re.findall(\"\\D+\",amount)[0]\n",
    "amount = re.findall(\"\\d+\",amount)[0]\n",
    "amount = int(amount)"
   ]
  },
  {
   "cell_type": "code",
   "execution_count": 333,
   "metadata": {},
   "outputs": [
    {
     "name": "stdout",
     "output_type": "stream",
     "text": [
      "80000000\n",
      "1\n"
     ]
    }
   ],
   "source": [
    "txt = raw_df.raw_text.iloc[0]\n",
    "\n",
    "for nums in re.findall(\"\\((.+?\\d+?)\\)\",txt):\n",
    "    am = nums.replace(',','')\n",
    "    am = am.replace('?','')\n",
    "    am = am.replace(' ','')\n",
    "    try:\n",
    "        curr = re.findall(\"\\D+\",am)[0]\n",
    "    except:\n",
    "        # Most likely means there is no currency present\n",
    "        continue\n",
    "    am = re.findall(\"\\d+\",am)[0]\n",
    "    am = int(am)\n",
    "    print(am)"
   ]
  },
  {
   "cell_type": "code",
   "execution_count": 7,
   "metadata": {},
   "outputs": [
    {
     "data": {
      "text/plain": [
       "['aaaa kjlkj']"
      ]
     },
     "execution_count": 7,
     "metadata": {},
     "output_type": "execute_result"
    }
   ],
   "source": [
    "txt = 'aaaa kjlkjrelkwjriojsdfoijwiorjeqr'\n",
    "\n",
    "re.findall('aaaa .{5}',txt)"
   ]
  },
  {
   "cell_type": "code",
   "execution_count": 4,
   "metadata": {},
   "outputs": [],
   "source": [
    "def create_df_from_list(df, col_name):\n",
    "    # Takes a column of lists from a dataframe\n",
    "    # Returns a new dataframe with new columns the length of the lists\n",
    "    \n",
    "    temp_df = df[col_name].apply(pd.Series)\n",
    "    temp_df = temp_df.rename(columns = lambda x: col_name + '_' + str(x))\n",
    "    new_df = pd.concat([df, temp_df], axis=1)\n",
    "    return new_df"
   ]
  },
  {
   "cell_type": "code",
   "execution_count": 5,
   "metadata": {},
   "outputs": [],
   "source": [
    "# Will convert currencies to a standard form\n",
    "def currency_corr(text):\n",
    "    if ((re.search(\"US\",text.upper())) or (re.search(\"\\$\",text)) or (re.search(\"dollar\",text.lower()))):\n",
    "        return '$' #US Dollar\n",
    "    elif ((re.search(\"EUR\",text.upper())) or (re.search(\"\\€\",text)) or (text.upper()=='E')):\n",
    "        return 'EUR' #Euro\n",
    "    elif (re.search(\"SDR\",text.upper()) or (re.search(\"right\",text.lower()))):\n",
    "        return 'SDR' #Special Drawing Rights\n",
    "    elif ((re.search(\"POUND\",text.upper())) or (re.search(\"\\£\",text)) or (re.search(\"GBP\",text.upper()))):\n",
    "        return 'GBP' #British Pound\n",
    "    elif (re.search(\"FRF\",text.upper()) or (re.search(\"frank\",text.lower()))):\n",
    "        return 'FRF' #Franks\n",
    "    elif ((re.search(\"JPY\",text.upper())) or (re.search(\"\\¥\",text)) or (re.search(\"yen\",text.lower()))):\n",
    "        return 'JPY' #Japanese Yen\n",
    "    elif ((re.search(\"DEM\",text.upper())) or (re.search(\"DM\",text.upper())) or (re.search(\"mark\",text.lower()))):\n",
    "        return 'DEM' #Deutsche Mark\n",
    "    elif (re.search(\"INR\",text.upper()) or (re.search(\"rupee\",text.lower()))):\n",
    "        return 'INR' #Indian Rupee\n",
    "    elif (re.search(\"RM\",text.upper()) or (re.search(\"ringgit\",text.lower()))):\n",
    "        return 'RM' #Malaysian Ringgit\n",
    "    elif (re.search(\"SEK\",text.upper()) or (re.search(\"krona\",text.lower()))):\n",
    "        return 'SEK' #Swedish Krona\n",
    "    else:\n",
    "        # No currency found, return what was input\n",
    "        return text"
   ]
  },
  {
   "cell_type": "code",
   "execution_count": null,
   "metadata": {},
   "outputs": [],
   "source": [
    "# def loan_amount_currency_preprocess(text):\n",
    "#     ''' Grab Loan amount using reg exp'''\n",
    "#     amount=0\n",
    "#     curr='error'\n",
    "#     currency='error'\n",
    "    \n",
    "#     # If there's the word \"aggregate\" in the document, assume it is the best indicator of the total loan amount.\n",
    "#     # Look for a number and letters inside parentheses shortly after the mention of \"aggregate\".\n",
    "#     # These most likely will be the aggregate loan with currency. If it's not in parentheses, then move on to another\n",
    "#     # possible indicator method.\n",
    "    \n",
    "#     # This could possibly fail as other aspects of the document may mention \"aggregate\". ¯\\_(ツ)_/¯\n",
    "#     if re.search(\"AGGREGATE\",text.upper()): # Determines if the exact word \"aggregate\" appears in the document\n",
    "#         for txt in re.findall('AGGREGATE [\\S\\n ]{150}',text.upper()): # Loop through all instances and capture the next 200 chars\n",
    "#             for nums in re.findall(\"\\((.+?\\d+?)\\)\",txt): # Find all numbers with other characters inside of parentheses\n",
    "#                 am = nums.replace(',','')\n",
    "#                 am = am.replace('?','')\n",
    "#                 am = am.replace(' ','')\n",
    "#                 try:\n",
    "#                     curr = re.findall(\"\\D+\",am)[0]\n",
    "#                 except:\n",
    "#                     # Most likely means there is no currency present\n",
    "#                     continue\n",
    "#                 am = re.findall(\"\\d+\",am)[0]\n",
    "#                 am = int(am)\n",
    "                \n",
    "#                 # Convert currencies\n",
    "#                 curr = currency_corr(curr)\n",
    "                \n",
    "#                 # The document may fail to load the proper currency, try to grab the currency from the name beforehand\n",
    "#                 if ((curr != \"$\") and (curr != \"EUR\") and (curr != \"SDR\") and (curr != \"GBP\") and (curr != \"FRF\") \n",
    "#                     and (curr != \"JPY\") and (curr != \"DEM\") and (curr != \"INR\") and (curr != \"RM\") and (curr != \"SEK\")):\n",
    "#                     try:\n",
    "#                         curr = re.findall('MILLION([\\S\\n ]+\\()',txt.upper())[0]\n",
    "#                         curr = re.findall('\\w+(?=\\s+\\()',curr)[0]\n",
    "#                         curr = currency_corr(curr)\n",
    "#                     except:\n",
    "#                         pass\n",
    "#                     try:\n",
    "#                         curr = re.findall('BILLION([\\S\\n ]+\\()',txt.upper())[0]\n",
    "#                         curr = re.findall('\\w+(?=\\s+\\()',curr)[0]\n",
    "#                         curr = currency_corr(curr)\n",
    "#                     except:\n",
    "#                         pass\n",
    "\n",
    "#                 # First check if it's USD, if it is, we're likely happy with it if it's large enough\n",
    "#                 if ((curr=='$') and (am > 1000000)):\n",
    "#                     return [am, curr]\n",
    "#                 elif am > amount:\n",
    "#                     amount = am\n",
    "#                     currency = curr\n",
    "    \n",
    "#     # Sanity check. Currency should be reasonable in length and amount should be at least 1 million\n",
    "#     if (amount >= 1000000) and (len(currency)<5):\n",
    "        \n",
    "#         # Correct all currencies to proper forms\n",
    "#         currency = currency_corr(currency)\n",
    "\n",
    "#         # At this point, the currency probably isn't worth remembering\n",
    "#         if ((currency != \"$\") and (currency != \"EUR\") and (currency != \"SDR\") and (currency != \"GBP\")\n",
    "#             and (currency != \"FRF\") and (currency != \"JPY\") and (currency != \"DEM\") and (currency != \"INR\")\n",
    "#             and (currency != \"RM\") and (currency != \"SEK\")):\n",
    "#             return 'Error'\n",
    "#         else:\n",
    "#             return [amount, currency]\n",
    "    \n",
    "#     # Next tries to find the loan amount between Articles II and III\n",
    "#     if (re.search('ARTICLE II ',text.upper()) or re.search('ARTICLE II\\n',text.upper())):\n",
    "#         spacer1 = 'ARTICLE II'\n",
    "#     elif (re.search('ARTICLE 11 ',text.upper()) or re.search('ARTICLE 11\\n',text.upper())):\n",
    "#         spacer1 = 'ARTICLE 11'\n",
    "#     elif (re.search('ARTICLE 2 ',text.upper()) or re.search('ARTICLE 2\\n',text.upper())):\n",
    "#         spacer1 = 'ARTICLE 2'\n",
    "        \n",
    "#     if (re.search('ARTICLE III ',text.upper()) or re.search('ARTICLE III\\n',text.upper())):\n",
    "#         spacer2 = 'ARTICLE II'\n",
    "#     elif (re.search('ARTICLE 111 ',text.upper()) or re.search('ARTICLE 111\\n',text.upper())):\n",
    "#         spacer2 = 'ARTICLE 11'\n",
    "#     elif (re.search('ARTICLE 3 ',text.upper()) or re.search('ARTICLE 3\\n',text.upper())):\n",
    "#         spacer2 = 'ARTICLE 3'\n",
    "    \n",
    "#     try:\n",
    "#         reg_ex = spacer1 + ' [\\S\\n ]+ ' + spacer2\n",
    "#     except:\n",
    "#         reg_ex = 'ARTICLE II [\\S\\n ]+ ARTICLE' #Who knows what went wrong!\n",
    "    \n",
    "#     if re.search(reg_ex,text.upper()):\n",
    "#         for txt in re.findall('[\\S\\n ]{100}\\(.+?\\d+?\\)',re.findall(reg_ex,text.upper())[0]): # Loop through all instances\n",
    "#             for nums in re.findall(\"\\((.+?\\d+?)\\)\",txt):\n",
    "#                 am = nums.replace(',','')\n",
    "#                 am = am.replace('?','')\n",
    "#                 am = am.replace(' ','')\n",
    "#                 try:\n",
    "#                     curr = re.findall(\"\\D+\",am)[0]\n",
    "#                 except:\n",
    "#                     # Most likely means there is no currency present\n",
    "#                     continue\n",
    "#                 am = re.findall(\"\\d+\",am)[0]\n",
    "#                 am = int(am)\n",
    "\n",
    "#                 # Convert currencies\n",
    "#                 curr = currency_corr(curr)\n",
    "\n",
    "#                 # The document may fail to load the proper currency, try to grab the currency from the name beforehand\n",
    "#                 if ((curr != \"$\") and (curr != \"EUR\") and (curr != \"SDR\") and (curr != \"GBP\") and (curr != \"FRF\") \n",
    "#                     and (curr != \"JPY\") and (curr != \"DEM\") and (curr != \"INR\") and (curr != \"RM\") and (curr != \"SEK\")):\n",
    "#                     try:\n",
    "#                         curr = re.findall('MILLION([\\S\\n ]+\\()',txt.upper())[0]\n",
    "#                         curr = re.findall('\\w+(?=\\s+\\()',curr)[0]\n",
    "#                         curr = currency_corr(curr)\n",
    "#                     except:\n",
    "#                         pass\n",
    "#                     try:\n",
    "#                         curr = re.findall('BILLION([\\S\\n ]+\\()',txt.upper())[0]\n",
    "#                         curr = re.findall('\\w+(?=\\s+\\()',curr)[0]\n",
    "#                         curr = currency_corr(curr)\n",
    "#                     except:\n",
    "#                         pass\n",
    "        \n",
    "#                 if am > amount:\n",
    "#                     amount = am\n",
    "#                     currency = curr\n",
    "    \n",
    "#     # Likely preferable to a brute-force approach, so settle on this loan amount if reasonable\n",
    "#     # Sanity check. Currency should be reasonable in length and amount should be at least 1 million\n",
    "#     if (amount >= 1000000) and (len(currency)<5):\n",
    "#         # Correct all currencies to proper forms\n",
    "#         currency = currency_corr(currency)\n",
    "    \n",
    "#         # At this point, the currency probably isn't worth remembering\n",
    "#         if ((currency != \"$\") and (currency != \"EUR\") and (currency != \"SDR\") and (currency != \"GBP\")\n",
    "#             and (currency != \"FRF\") and (currency != \"JPY\") and (currency != \"DEM\") and (currency != \"INR\")\n",
    "#             and (currency != \"RM\") and (currency != \"SEK\")):\n",
    "#             return 'Error'\n",
    "#         else:\n",
    "#             return [amount, currency]\n",
    "    \n",
    "#     # Brute force approach, find all numbers in the document in parentheses, find the largest one inside parentheses\n",
    "#     for txt in re.findall('[\\S\\n ]{100}\\(.+?\\d+?\\)',text): # Loop through all instances and capture the next 200\n",
    "#         for nums in re.findall(\"\\((.+?\\d+?)\\)\",txt):\n",
    "#             am = nums.replace(',','')\n",
    "#             am = am.replace('?','')\n",
    "#             am = am.replace(' ','')\n",
    "#             try:\n",
    "#                 curr = re.findall(\"\\D+\",am)[0]\n",
    "#             except:\n",
    "#                 # Most likely means there is no currency present\n",
    "#                 continue\n",
    "#             am = re.findall(\"\\d+\",am)[0]\n",
    "#             am = int(am)\n",
    "        \n",
    "#             # Convert currencies\n",
    "#             curr = currency_corr(curr)\n",
    "        \n",
    "#             # The document may fail to load the proper currency, try to grab the currency from the name beforehand\n",
    "#             if ((curr != \"$\") and (curr != \"EUR\") and (curr != \"SDR\") and (curr != \"GBP\") and (curr != \"FRF\") \n",
    "#                 and (curr != \"JPY\") and (curr != \"DEM\") and (curr != \"INR\") and (curr != \"RM\") and (curr != \"SEK\")):\n",
    "#                 try:\n",
    "#                     curr = re.findall('MILLION([\\S\\n ]+\\()',txt.upper())[0]\n",
    "#                     curr = re.findall('\\w+(?=\\s+\\()',curr)[0]\n",
    "#                     curr = currency_corr(curr)\n",
    "#                 except:\n",
    "#                     pass\n",
    "#                 try:\n",
    "#                     curr = re.findall('BILLION([\\S\\n ]+\\()',txt.upper())[0]\n",
    "#                     curr = re.findall('\\w+(?=\\s+\\()',curr)[0]\n",
    "#                     curr = currency_corr(curr)\n",
    "#                 except:\n",
    "#                     pass\n",
    "        \n",
    "#             if am > amount:\n",
    "#                 amount = am\n",
    "#                 currency = curr\n",
    "    \n",
    "#     # Sanity check. Currency should be reasonable in length and amount should be at least 1 million\n",
    "#     if (amount >= 1000000) and (len(currency)<5):\n",
    "#         # Correct all currencies to proper forms\n",
    "#         currency = currency_corr(currency)\n",
    "#         # At this point, the currency probably isn't worth remembering\n",
    "#         if ((currency != \"$\") and (currency != \"EUR\") and (currency != \"SDR\") and (currency != \"GBP\")\n",
    "#             and (currency != \"FRF\") and (currency != \"JPY\") and (currency != \"DEM\") and (currency != \"INR\")\n",
    "#             and (currency != \"RM\") and (currency != \"SEK\")):\n",
    "#             return 'Error'\n",
    "#         else:\n",
    "#             return [amount, currency]\n",
    "#     else:\n",
    "#         return 'Error'"
   ]
  },
  {
   "cell_type": "code",
   "execution_count": 833,
   "metadata": {
    "scrolled": true
   },
   "outputs": [
    {
     "name": "stdout",
     "output_type": "stream",
     "text": [
      "ARTICLE II[\\S\n",
      " ]*?(THE LOAN[\\S\n",
      " ]*?ARTICLE III)\n"
     ]
    },
    {
     "data": {
      "text/plain": [
       "'THE LOAN\\n\\nSECTION 2.01. \\n\\nTHE BANK AGREES TO LEND TO THE BORROWER, ON THE TERMS AND\\n\\nCONDITIONS SET FORTH OR REFERRED TO IN THE LOAN AGREEMENT, VARIOUS CURRENCIES THAT SHALL\\n\\nHAVE AN AGGREGATE VALUE EQUIVALENT TO THE AMOUNT OF THREE HUNDRED AND FIFTY MILLION DOLLARS\\n\\n($350,000,000), BEING THE SUM OF WITHDRAWALS OF THE PROCEEDS OF THE LOAN, WITH EACH\\n\\nWITHDRAWAL VALUED BY THE BANK AS OF THE DATE OF SUCH WITHDRAWAL.\\n\\nSECTION 2.02. \\n\\nTHE AMOUNT OF THE LOAN MAY BE WITHDRAWN FROM THE LOAN\\n\\nACCOUNT IN ACCORDANCE WITH THE PROVISIONS OF SCHEDULE 1 TO THIS AGREEMENT FOR AMOUNTS\\n\\nPAID (OR, IF THE BANK SHALL SO AGREE, TO BE PAID) BY THE BORROWER ON ACCOUNT OF WITHDRAWALS\\n\\nMADE BY AN INVESTMENT ENTERPRISE UNDER A SUB-LOAN TO MEET THE REASONABLE COST OF GOODS\\n\\nAND SERVICES REQUIRED FOR THE INVESTMENT PROJECT IN RESPECT OF WHICH THE WITHDRAWAL FROM\\n\\nTHE LOAN ACCOUNT IS REQUESTED.\\n\\nSECTION 2.03. \\n\\nTHE CLOSING DATE SHALL BE OCTOBER 31, 2000, OR SUCH LATER DATE AS\\n\\nTHE BANK SHALL ESTABLISH. THE BANK SHALL PROMPTLY NOTIFY THE BORROWER OF SUCH LATER DATE.\\n\\nSECTION 2.04. \\n\\nTHE BORROWER SHALL PAY TO THE BANK A COMMITMENT CHARGE AT THE\\n\\nRATE OF THREE-FOURTHS OF ONE PERCENT (3/4 OF 1%) PER ANNUM ON THE PRINCIPAL AMOUNT OF THE\\n\\nLOAN NOT WITHDRAWN FROM TIME TO TIME.\\n\\nSECTION 2.05. (A) THE BORROWER SHALL PAY INTEREST ON THE PRINCIPAL AMOUNT OF THE\\n\\nLOAN WITHDRAWN AND OUTSTANDING FROM TIME TO TIME, AT A RATE FOR EACH INTEREST PERIOD EQUAL\\n\\nTO THE COST OF QUALIFIED BORROWINGS DETERMINED IN RESPECT OF THE PRECEDING SEMESTER, PLUS\\n\\nONE-HALF OF ONE PERCENT (1/2 OF 1%). ON EACH OF THE DATES SPECIFIED IN SECTION 2.06 OF THIS\\n\\nAGREEMENT, THE BORROWER SHALL PAY INTEREST ACCRUED ON THE PRINCIPAL AMOUNT OUTSTANDING\\n\\nDURING THE PRECEDING INTEREST PERIOD, CALCULATED AT THE RATE APPLICABLE DURING SUCH INTEREST\\n\\nPERIOD.\\n\\n(B) \\n\\nAS SCON AS PRACTICABLE AFTER THE END OF EACH SEMESTER, THE BANK SHALL\\n\\nNOTIFY THE BORROWER OF THE. COST OF QUALIFIED BORROWINGS DETERMINED IN RESPECT OF SUCH\\n\\nSEMESTER.\\n\\n(C) \\n\\nFOR THE PURPOSES OF THIS SECTION:\\n\\n(I) \\n\\n\"INTEREST PERIOD\" MEANS A SIX-MONTH PERIOD ENDING ON THE DATE\\n\\nIMMEDIATELY PRECEDING EACH DATE SPECIFIED IN SECTION 2.06 OF THIS\\n\\n-5-\\n\\nAGREEMENT, BEGINNING WITH THE INTEREST PERIOD IN WHICH THIS\\n\\nAGREEMENT IS SIGNED.\\n\\n(II) \\n\\n\"COST OF QUALIFIED BORROWINGS\" MEANS THE COST, AS REASONABLY\\n\\nDETERMINED BY THE BANK AND EXPRESSED AS A PERCENTAGE PER ANNUM,\\n\\nOF THE OUTSTANDING BORROWINGS OF THE BANK DRAWN DOWN AFTER JUNE\\n\\n30, 1982, EXCLUDING SUCH BORROWINGS OR PORTIONS THEREOF AS THE\\n\\nBANK HAS ALLOCATED TO FUND: (A) THE BANK\\'S INVESTMENTS; AND (B)\\n\\nLOANS WHICH MAY BE MADE BY THE BANK AFTER JULY 1, 1989 BEARING\\n\\nINTEREST RATES DETERMINED OTHERWISE THAN AS PROVIDED IN PARAGRAPH\\n\\n(A) OF THIS SECTION.\\n\\n(III) \\n\\n\"SEMESTER\" MEANS THE FIRST SIX MONTHS OR THE SECOND SIX MONTHS OF\\n\\nA CALENDAR YEAR.\\n\\n(D) \\n\\nON SUCH DATE AS THE BANK MAY SPECIFY BY NO LESS THAN SIX MONTHS\\' NOTICE\\n\\nTO THE BORROWER, PARAGRAPHS (A), (B) AND (C) (III) OF THIS SECTION SHALL BE AMENDED TO READ\\n\\nAS FOLLOWS:\\n\\n\"(A) \\n\\nTHE BORROWER SHALL PAY INTEREST ON THE PRINCIPAL AMOUNT OF THE\\n\\nLOAN WITHDRAWN AND OUTSTANDING FROM TIME TO TIME, AT A RATE FOR EACH\\n\\nQUARTER EQUAL TO THE COST OF QUALIFIED BORROWINGS DETERMINED IN RESPECT\\n\\nOF THE PRECEDING QUARTER, PLUS ONE-HALF OF ONE PERCENT (1/2 OF 1%). ON\\n\\nEACH OF THE DATES SPECIFIED IN SECTION 2.06 OF THIS AGREEMENT, THE\\n\\nBORROWER SHALL PAY INTEREST ACCRUED ON THE PRINCIPAL AMOUNT OUTSTANDING\\n\\nDURING THE PRECEDING INTEREST PERIOD, CALCULATED AT THE RATES APPLICABLE\\n\\nDURING SUCH INTEREST PERIOD.\"\\n\\n\"(B) \\n\\nAS SOON AS PRACTICABLE AFTER THE END OF EACH QUARTER, THE BANK\\n\\nSHALL NOTIFY THE BORROWER OF THE COST OF QUALIFIED BORROWINGS DETERMINED\\n\\nIN RESPECT OF SUCH QUARTER.\"\\n\\n\"(C) \\n\\n(III) \\'QUARTER\\' MEANS A THREE-MONTH PERIOD COMMENCING ON\\n\\nJANUARY 1, APRIL 1, JULY I OR OCTOBER 1 IN A CALENDAR YEAR.\"\\n\\nSECTION 2.06. \\n\\nINTEREST AND OTHER CHARGES SHALL BE PAYABLE SEMI-ANNUALLY ON MAY\\n\\n15 AND NOVEMBER 15 IN EACH YEAR.\\n\\nSECTION 2.07. \\n\\nTHE BORROWER SHALL REPAY THE PRINCIPAL AMOUNT OF THE LOAN IN\\n\\nACCORDANCE WITH THE AMORTIZATION SCHEDULE SET FORTH IN SCHEDULE 3 TO THIS AGREEMENT.\\n\\n-6-\\n\\nARTICLE III'"
      ]
     },
     "execution_count": 833,
     "metadata": {},
     "output_type": "execute_result"
    }
   ],
   "source": [
    "text = raw_df.raw_text.iloc[669]\n",
    "\n",
    "amount=0\n",
    "curr='error'\n",
    "currency='error'\n",
    "\n",
    "# First try to look between Articles II and III for the loan amount...\n",
    "# Will try to capture the biggest number in Article II in hopes that is correct\n",
    "if (re.search('ARTICLE II ',text.upper()) or re.search('ARTICLE II\\n',text.upper())):\n",
    "    spacer1 = 'ARTICLE II'\n",
    "elif (re.search('ARTICLE 11 ',text.upper()) or re.search('ARTICLE 11\\n',text.upper())):\n",
    "    spacer1 = 'ARTICLE 11'\n",
    "elif (re.search('ARTICLE 2 ',text.upper()) or re.search('ARTICLE 2\\n',text.upper())):\n",
    "    spacer1 = 'ARTICLE 2'\n",
    "\n",
    "if (re.search('ARTICLE III ',text.upper()) or re.search('ARTICLE III\\n',text.upper())):\n",
    "    spacer2 = 'ARTICLE III'\n",
    "elif (re.search('ARTICLE 111 ',text.upper()) or re.search('ARTICLE 111\\n',text.upper())):\n",
    "    spacer2 = 'ARTICLE 111'\n",
    "elif (re.search('ARTICLE 3 ',text.upper()) or re.search('ARTICLE 3\\n',text.upper())):\n",
    "    spacer2 = 'ARTICLE 3'\n",
    "\n",
    "try:\n",
    "    reg_ex = spacer1 + '[\\S\\n ]*?' + '(THE LOAN[\\S\\n ]*?' + spacer2 + ')'\n",
    "except:\n",
    "    # Try to be less specific. Hope the first capture will work\n",
    "    # First looks for two Articles, hoping to catch the 2nd article and then 'the loan' after it\n",
    "    reg_ex = 'ARTICLE[\\S\\n ]*?ARTICLE[\\S\\n ]*?(THE LOAN[\\S\\n ]+?\\(.+?\\d+?\\))'\n",
    "    \n",
    "print(reg_ex)\n",
    "    \n",
    "re.findall(reg_ex,text.upper())[0]"
   ]
  },
  {
   "cell_type": "code",
   "execution_count": 834,
   "metadata": {
    "scrolled": true
   },
   "outputs": [
    {
     "name": "stdout",
     "output_type": "stream",
     "text": [
      "ARTICLE II[\\S\n",
      " ]*?(THE LOAN[\\S\n",
      " ]*?ARTICLE III)\n",
      "[350000000, '$']\n"
     ]
    }
   ],
   "source": [
    "# # Used for testing purposes\n",
    "\n",
    "# text = raw_df.raw_text.iloc[669]\n",
    "\n",
    "# amount=0\n",
    "# curr='error'\n",
    "# currency='error'\n",
    "\n",
    "# # First try to look between Articles II and III for the loan amount...\n",
    "# # Will try to capture the biggest number in Article II in hopes that is correct\n",
    "# if (re.search('ARTICLE II ',text.upper()) or re.search('ARTICLE II\\n',text.upper())):\n",
    "#     spacer1 = 'ARTICLE II'\n",
    "# elif (re.search('ARTICLE 11 ',text.upper()) or re.search('ARTICLE 11\\n',text.upper())):\n",
    "#     spacer1 = 'ARTICLE 11'\n",
    "# elif (re.search('ARTICLE 2 ',text.upper()) or re.search('ARTICLE 2\\n',text.upper())):\n",
    "#     spacer1 = 'ARTICLE 2'\n",
    "\n",
    "# if (re.search('ARTICLE III ',text.upper()) or re.search('ARTICLE III\\n',text.upper())):\n",
    "#     spacer2 = 'ARTICLE III'\n",
    "# elif (re.search('ARTICLE 111 ',text.upper()) or re.search('ARTICLE 111\\n',text.upper())):\n",
    "#     spacer2 = 'ARTICLE 111'\n",
    "# elif (re.search('ARTICLE 3 ',text.upper()) or re.search('ARTICLE 3\\n',text.upper())):\n",
    "#     spacer2 = 'ARTICLE 3'\n",
    "\n",
    "# try:\n",
    "#     reg_ex = spacer1 + '[\\S\\n ]*?' + '(THE LOAN[\\S\\n ]*?' + spacer2 + ')'\n",
    "# except:\n",
    "#     # Try to be less specific. Hope the first capture will work\n",
    "#     # First looks for two Articles, hoping to catch the 2nd article and then 'the loan' after it\n",
    "#     reg_ex = 'ARTICLE[\\S\\n ]*?ARTICLE[\\S\\n ]*?(THE LOAN[\\S\\n ]+?\\(.+?\\d+?\\))'\n",
    "    \n",
    "# print(reg_ex)\n",
    "    \n",
    "# if re.search(reg_ex,text.upper()):\n",
    "#     for txt in re.findall('[\\S\\n ]{50}\\(.+?\\d+?\\)',re.findall(reg_ex,text.upper())[0]): # Loop through all instances\n",
    "#         for nums in re.findall(\"\\((.+?\\d+?)\\)\",txt):\n",
    "#             am = nums.replace(',','')\n",
    "#             am = am.replace('?','')\n",
    "#             am = am.replace(' ','')\n",
    "#             try:\n",
    "#                 curr = re.findall(\"\\D+\",am)[0]\n",
    "#             except:\n",
    "#                 # Most likely means there is no currency present\n",
    "#                 continue\n",
    "#             am = re.findall(\"\\d+\",am)[0]\n",
    "#             am = int(am)\n",
    "\n",
    "#             # Convert currencies\n",
    "#             curr = currency_corr(curr)\n",
    "\n",
    "#             # The document may fail to load the proper currency, try to grab the currency from the name beforehand\n",
    "#             if ((curr != \"$\") and (curr != \"EUR\") and (curr != \"SDR\") and (curr != \"GBP\") and (curr != \"FRF\") \n",
    "#                 and (curr != \"JPY\") and (curr != \"DEM\") and (curr != \"INR\") and (curr != \"RM\") and (curr != \"SEK\")):\n",
    "#                 try:\n",
    "#                     curr = re.findall('MILLION([\\S\\n ]+\\()',txt.upper())[0]\n",
    "#                     curr = re.findall('\\w+(?=\\s+\\()',curr)[0]\n",
    "#                     curr = currency_corr(curr)\n",
    "#                 except:\n",
    "#                     pass\n",
    "#                 try:\n",
    "#                     curr = re.findall('BILLION([\\S\\n ]+\\()',txt.upper())[0]\n",
    "#                     curr = re.findall('\\w+(?=\\s+\\()',curr)[0]\n",
    "#                     curr = currency_corr(curr)\n",
    "#                 except:\n",
    "#                     pass\n",
    "\n",
    "#             if am > amount:\n",
    "#                 amount = am\n",
    "#                 currency = curr\n",
    "\n",
    "# # Likely preferable to a brute-force approach, so settle on this loan amount if reasonable\n",
    "# # Sanity check. Currency should be reasonable in length and amount should be at least 1 million\n",
    "# if (amount >= 1000000) and (len(currency)<5):\n",
    "#     # Correct all currencies to proper forms\n",
    "#     currency = currency_corr(currency)\n",
    "\n",
    "#     # At this point, the currency probably isn't worth remembering\n",
    "#     if ((currency == \"$\") or (currency == \"EUR\") or (currency == \"SDR\") or (currency == \"GBP\")\n",
    "#         or (currency == \"FRF\") or (currency == \"JPY\") or (currency == \"DEM\") or (currency == \"INR\")\n",
    "#         or (currency == \"RM\") or (currency == \"SEK\")):\n",
    "#         print([amount, currency])"
   ]
  },
  {
   "cell_type": "code",
   "execution_count": 6,
   "metadata": {},
   "outputs": [],
   "source": [
    "def loan_amount_currency_preprocess(text):\n",
    "    ''' Grab Loan amount using reg exp'''\n",
    "    amount=0\n",
    "    curr='error'\n",
    "    currency='error'\n",
    "    \n",
    "    # First try to look between Articles II and III for the loan amount...\n",
    "    # Will try to capture the biggest number in Article II in hopes that is correct\n",
    "    if (re.search('ARTICLE II ',text.upper()) or re.search('ARTICLE II\\n',text.upper())):\n",
    "        spacer1 = 'ARTICLE II'\n",
    "    elif (re.search('ARTICLE 11 ',text.upper()) or re.search('ARTICLE 11\\n',text.upper())):\n",
    "        spacer1 = 'ARTICLE 11'\n",
    "    elif (re.search('ARTICLE 2 ',text.upper()) or re.search('ARTICLE 2\\n',text.upper())):\n",
    "        spacer1 = 'ARTICLE 2'\n",
    "        \n",
    "    if (re.search('ARTICLE III ',text.upper()) or re.search('ARTICLE III\\n',text.upper())):\n",
    "        spacer2 = 'ARTICLE III'\n",
    "    elif (re.search('ARTICLE 111 ',text.upper()) or re.search('ARTICLE 111\\n',text.upper())):\n",
    "        spacer2 = 'ARTICLE 111'\n",
    "    elif (re.search('ARTICLE 3 ',text.upper()) or re.search('ARTICLE 3\\n',text.upper())):\n",
    "        spacer2 = 'ARTICLE 3'\n",
    "    \n",
    "    try:\n",
    "        reg_ex = spacer1 + '[\\S\\n ]*?' + '(THE LOAN[\\S\\n ]*?' + spacer2 + ')'\n",
    "    except:\n",
    "        # Try to be less specific. Hope the first capture will work\n",
    "        # First looks for two Articles, hoping to catch the 2nd article and then 'the loan' after it\n",
    "        reg_ex = 'ARTICLE[\\S\\n ]*?ARTICLE[\\S\\n ]*?(THE LOAN[\\S\\n ]+?\\(.+?\\d+?\\))'\n",
    "    \n",
    "    if re.search(reg_ex,text.upper()):\n",
    "        for txt in re.findall('[\\S\\n ]{50}\\(.+?\\d+?\\)',re.findall(reg_ex,text.upper())[0]): # Loop through all instances\n",
    "            for nums in re.findall(\"\\((.+?\\d+?)\\)\",txt):\n",
    "                am = nums.replace(',','')\n",
    "                am = am.replace('?','')\n",
    "                am = am.replace(' ','')\n",
    "                try:\n",
    "                    curr = re.findall(\"\\D+\",am)[0]\n",
    "                except:\n",
    "                    # Most likely means there is no currency present\n",
    "                    continue\n",
    "                am = re.findall(\"\\d+\",am)[0]\n",
    "                am = int(am)\n",
    "\n",
    "                # Convert currencies\n",
    "                curr = currency_corr(curr)\n",
    "\n",
    "                # The document may fail to load the proper currency, try to grab the currency from the name beforehand\n",
    "                if ((curr != \"$\") and (curr != \"EUR\") and (curr != \"SDR\") and (curr != \"GBP\") and (curr != \"FRF\") \n",
    "                    and (curr != \"JPY\") and (curr != \"DEM\") and (curr != \"INR\") and (curr != \"RM\") and (curr != \"SEK\")):\n",
    "                    try:\n",
    "                        curr = re.findall('MILLION([\\S\\n ]+\\()',txt.upper())[0]\n",
    "                        curr = re.findall('\\w+(?=\\s+\\()',curr)[0]\n",
    "                        curr = currency_corr(curr)\n",
    "                    except:\n",
    "                        pass\n",
    "                    try:\n",
    "                        curr = re.findall('BILLION([\\S\\n ]+\\()',txt.upper())[0]\n",
    "                        curr = re.findall('\\w+(?=\\s+\\()',curr)[0]\n",
    "                        curr = currency_corr(curr)\n",
    "                    except:\n",
    "                        pass\n",
    "        \n",
    "                if am > amount:\n",
    "                    amount = am\n",
    "                    currency = curr\n",
    "    \n",
    "    # Likely preferable to a brute-force approach, so settle on this loan amount if reasonable\n",
    "    # Sanity check. Currency should be reasonable in length and amount should be at least 1 million\n",
    "    if (amount >= 1000000) and (len(currency)<5):\n",
    "        # Correct all currencies to proper forms\n",
    "        currency = currency_corr(currency)\n",
    "    \n",
    "        # At this point, the currency probably isn't worth remembering\n",
    "        if ((currency == \"$\") or (currency == \"EUR\") or (currency == \"SDR\") or (currency == \"GBP\")\n",
    "            or (currency == \"FRF\") or (currency == \"JPY\") or (currency == \"DEM\") or (currency == \"INR\")\n",
    "            or (currency == \"RM\") or (currency == \"SEK\")):\n",
    "            return [amount, currency]\n",
    "    \n",
    "    # This could possibly fail as other aspects of the document may mention \"aggregate\". ¯\\_(ツ)_/¯\n",
    "    # Prefer finding the word 'aggregate' for the loan amount\n",
    "    if re.search(\"AGGREGATE\",text.upper()): # Determines if the exact word \"aggregate\" appears in the document\n",
    "        for txt in re.findall('AGGREGATE [\\S\\n ]{150}',text.upper()): # Loop through all instances and capture the next 200 chars\n",
    "            for nums in re.findall(\"\\((.+?\\d+?)\\)\",txt): # Find all numbers with other characters inside of parentheses\n",
    "                am = nums.replace(',','')\n",
    "                am = am.replace('?','')\n",
    "                am = am.replace(' ','')\n",
    "                try:\n",
    "                    curr = re.findall(\"\\D+\",am)[0]\n",
    "                except:\n",
    "                    # Most likely means there is no currency present\n",
    "                    continue\n",
    "                am = re.findall(\"\\d+\",am)[0]\n",
    "                am = int(am)\n",
    "                \n",
    "                # Convert currencies\n",
    "                curr = currency_corr(curr)\n",
    "                \n",
    "                # The document may fail to load the proper currency, try to grab the currency from the name beforehand\n",
    "                if ((curr != \"$\") and (curr != \"EUR\") and (curr != \"SDR\") and (curr != \"GBP\") and (curr != \"FRF\") \n",
    "                    and (curr != \"JPY\") and (curr != \"DEM\") and (curr != \"INR\") and (curr != \"RM\") and (curr != \"SEK\")):\n",
    "                    try:\n",
    "                        curr = re.findall('MILLION([\\S\\n ]+\\()',txt.upper())[0]\n",
    "                        curr = re.findall('\\w+(?=\\s+\\()',curr)[0]\n",
    "                        curr = currency_corr(curr)\n",
    "                    except:\n",
    "                        pass\n",
    "                    try:\n",
    "                        curr = re.findall('BILLION([\\S\\n ]+\\()',txt.upper())[0]\n",
    "                        curr = re.findall('\\w+(?=\\s+\\()',curr)[0]\n",
    "                        curr = currency_corr(curr)\n",
    "                    except:\n",
    "                        pass\n",
    "\n",
    "                # First check if it's USD, if it is, we're likely happy with it if it's large enough\n",
    "                if ((curr=='$') and (am > 1000000)):\n",
    "                    return [am, curr]\n",
    "                elif am > amount:\n",
    "                    amount = am\n",
    "                    currency = curr\n",
    "    \n",
    "    # Sanity check. Currency should be reasonable in length and amount should be at least 1 million\n",
    "    if (amount >= 1000000) and (len(currency)<5):\n",
    "        \n",
    "        # Correct all currencies to proper forms\n",
    "        currency = currency_corr(currency)\n",
    "\n",
    "        # At this point, the currency probably isn't worth remembering\n",
    "        if ((currency == \"$\") or (currency == \"EUR\") or (currency == \"SDR\") or (currency == \"GBP\")\n",
    "            or (currency == \"FRF\") or (currency == \"JPY\") or (currency == \"DEM\") or (currency == \"INR\")\n",
    "            or (currency == \"RM\") or (currency == \"SEK\")):\n",
    "            return [amount, currency]\n",
    "    \n",
    "    # Brute force approach, find all numbers in the document in parentheses, find the largest one inside parentheses\n",
    "    for txt in re.findall('[\\S\\n ]{100}\\(.+?\\d+?\\)',text): # Loop through all instances and capture the next 200\n",
    "        for nums in re.findall(\"\\((.+?\\d+?)\\)\",txt):\n",
    "            am = nums.replace(',','')\n",
    "            am = am.replace('?','')\n",
    "            am = am.replace(' ','')\n",
    "            try:\n",
    "                curr = re.findall(\"\\D+\",am)[0]\n",
    "            except:\n",
    "                # Most likely means there is no currency present\n",
    "                continue\n",
    "            am = re.findall(\"\\d+\",am)[0]\n",
    "            am = int(am)\n",
    "        \n",
    "            # Convert currencies\n",
    "            curr = currency_corr(curr)\n",
    "        \n",
    "            # The document may fail to load the proper currency, try to grab the currency from the name beforehand\n",
    "            if ((curr != \"$\") and (curr != \"EUR\") and (curr != \"SDR\") and (curr != \"GBP\") and (curr != \"FRF\") \n",
    "                and (curr != \"JPY\") and (curr != \"DEM\") and (curr != \"INR\") and (curr != \"RM\") and (curr != \"SEK\")):\n",
    "                try:\n",
    "                    curr = re.findall('MILLION([\\S\\n ]+\\()',txt.upper())[0]\n",
    "                    curr = re.findall('\\w+(?=\\s+\\()',curr)[0]\n",
    "                    curr = currency_corr(curr)\n",
    "                except:\n",
    "                    pass\n",
    "                try:\n",
    "                    curr = re.findall('BILLION([\\S\\n ]+\\()',txt.upper())[0]\n",
    "                    curr = re.findall('\\w+(?=\\s+\\()',curr)[0]\n",
    "                    curr = currency_corr(curr)\n",
    "                except:\n",
    "                    pass\n",
    "        \n",
    "            if am > amount:\n",
    "                amount = am\n",
    "                currency = curr\n",
    "    \n",
    "    # Sanity check. Currency should be reasonable in length and amount should be at least 1 million\n",
    "    if (amount >= 1000000) and (len(currency)<5):\n",
    "        # Correct all currencies to proper forms\n",
    "        currency = currency_corr(currency)\n",
    "        # At this point, the currency probably isn't worth remembering\n",
    "        if ((currency != \"$\") and (currency != \"EUR\") and (currency != \"SDR\") and (currency != \"GBP\")\n",
    "            and (currency != \"FRF\") and (currency != \"JPY\") and (currency != \"DEM\") and (currency != \"INR\")\n",
    "            and (currency != \"RM\") and (currency != \"SEK\")):\n",
    "            return 'Error'\n",
    "        else:\n",
    "            return [amount, currency]\n",
    "    else:\n",
    "        return 'Error'"
   ]
  },
  {
   "cell_type": "code",
   "execution_count": 7,
   "metadata": {},
   "outputs": [],
   "source": [
    "# ## If loading in future, use this to load in the data without having to recompute everything\n",
    "raw_df = pd.read_csv('../Clean_Data/clean_data.csv')\n",
    "raw_df_tess = pd.read_csv('../Clean_Data/clean_data_tess.csv')\n",
    "\n",
    "raw_df = raw_df.drop(columns=raw_df.columns[0])\n",
    "raw_df_tess = raw_df_tess.drop(columns=raw_df_tess.columns[0])"
   ]
  },
  {
   "cell_type": "code",
   "execution_count": 8,
   "metadata": {},
   "outputs": [],
   "source": [
    "raw_df['loan_amount_curr'] = raw_df.raw_text.apply(lambda x: loan_amount_currency_preprocess(x))"
   ]
  },
  {
   "cell_type": "code",
   "execution_count": 9,
   "metadata": {},
   "outputs": [],
   "source": [
    "raw_df_tess['loan_amount_curr'] = raw_df_tess.raw_text.apply(lambda x: loan_amount_currency_preprocess(x))"
   ]
  },
  {
   "cell_type": "code",
   "execution_count": 10,
   "metadata": {},
   "outputs": [],
   "source": [
    "raw_df = create_df_from_list(raw_df, 'loan_amount_curr')\n",
    "raw_df = raw_df.rename(columns={'loan_amount_curr_0': 'loan_amount', 'loan_amount_curr_1': 'currency'})"
   ]
  },
  {
   "cell_type": "code",
   "execution_count": 11,
   "metadata": {},
   "outputs": [],
   "source": [
    "raw_df_tess = create_df_from_list(raw_df_tess, 'loan_amount_curr')\n",
    "raw_df_tess = raw_df_tess.rename(columns={'loan_amount_curr_0': 'loan_amount', 'loan_amount_curr_1': 'currency'})"
   ]
  },
  {
   "cell_type": "code",
   "execution_count": 12,
   "metadata": {
    "scrolled": false
   },
   "outputs": [
    {
     "data": {
      "text/plain": [
       "$      2312\n",
       "EUR     282\n",
       "DEM      31\n",
       "SDR      22\n",
       "FRF      21\n",
       "JPY      10\n",
       "GBP       2\n",
       "INR       1\n",
       "SEK       1\n",
       "Name: currency, dtype: int64"
      ]
     },
     "execution_count": 12,
     "metadata": {},
     "output_type": "execute_result"
    }
   ],
   "source": [
    "raw_df.currency.value_counts()"
   ]
  },
  {
   "cell_type": "code",
   "execution_count": 13,
   "metadata": {
    "scrolled": true
   },
   "outputs": [
    {
     "data": {
      "text/plain": [
       "$      331\n",
       "EUR     42\n",
       "SDR      3\n",
       "JPY      1\n",
       "GBP      1\n",
       "Name: currency, dtype: int64"
      ]
     },
     "execution_count": 13,
     "metadata": {},
     "output_type": "execute_result"
    }
   ],
   "source": [
    "raw_df_tess.currency.value_counts()"
   ]
  },
  {
   "cell_type": "code",
   "execution_count": 11,
   "metadata": {},
   "outputs": [
    {
     "data": {
      "text/plain": [
       "Index(['raw_text', 'num_char', 'clean_text', 'filename', 'loan_amount_curr',\n",
       "       'loan_amount', 'currency'],\n",
       "      dtype='object')"
      ]
     },
     "execution_count": 11,
     "metadata": {},
     "output_type": "execute_result"
    }
   ],
   "source": [
    "raw_df.columns"
   ]
  },
  {
   "cell_type": "code",
   "execution_count": 16,
   "metadata": {},
   "outputs": [],
   "source": [
    "raw_df[['filename', 'loan_amount', 'currency']].to_csv('loan_amount.csv', index=False)"
   ]
  },
  {
   "cell_type": "code",
   "execution_count": 17,
   "metadata": {},
   "outputs": [],
   "source": [
    "raw_df_tess[['filename', 'loan_amount', 'currency']].to_csv('loan_amount_tess.csv', index=False)"
   ]
  },
  {
   "cell_type": "code",
   "execution_count": 18,
   "metadata": {},
   "outputs": [],
   "source": [
    "df = pd.concat([raw_df, raw_df_tess])\n",
    "df[['filename', 'loan_amount', 'currency']].to_csv('loan_data.csv', index=False)"
   ]
  },
  {
   "cell_type": "code",
   "execution_count": 14,
   "metadata": {},
   "outputs": [
    {
     "data": {
      "text/plain": [
       "117"
      ]
     },
     "execution_count": 14,
     "metadata": {},
     "output_type": "execute_result"
    }
   ],
   "source": [
    "len(raw_df[raw_df.loan_amount_curr == 'Error'])"
   ]
  },
  {
   "cell_type": "code",
   "execution_count": 15,
   "metadata": {},
   "outputs": [
    {
     "data": {
      "text/plain": [
       "22"
      ]
     },
     "execution_count": 15,
     "metadata": {},
     "output_type": "execute_result"
    }
   ],
   "source": [
    "len(raw_df_tess[raw_df_tess.loan_amount == 'Error'])"
   ]
  },
  {
   "cell_type": "code",
   "execution_count": 68,
   "metadata": {},
   "outputs": [],
   "source": [
    "# # Possibility 2\n",
    "\n",
    "# def loan_amount_currency_preprocess(text):\n",
    "#     ''' Grab Loan amount using reg exp'''\n",
    "#     try:\n",
    "#         ## Searches to see if 'Article II' is present in the document, if not, will try another form\n",
    "#         # NOTE THE SPACE AND \\n IS IMPORTANT AFTER II\n",
    "        \n",
    "#         if (re.search('ARTICLE II ',text.upper()) or re.search('ARTICLE II\\n',text.upper())):\n",
    "#             spacer = 'ARTICLE II'\n",
    "#         elif (re.search('ARTICLE 11 ',text.upper()) or re.search('ARTICLE 11\\n',text.upper())):\n",
    "#             spacer = 'ARTICLE 11'\n",
    "#         elif (re.search('ARTICLE 2 ',text.upper()) or re.search('ARTICLE 2\\n',text.upper())):\n",
    "#             spacer = 'ARTICLE 2'\n",
    "        \n",
    "#         t1 = text.split(spacer)[1]\n",
    "#         amount = re.findall(\"\\((.+?\\d+?)\\)\",t1)[0]\n",
    "#         amount = amount.replace(',','')\n",
    "#         amount = amount.replace('?','')\n",
    "#         amount = amount.replace(' ','')\n",
    "#         currency = re.findall(\"\\D+\",amount)[0]\n",
    "#         amount = re.findall(\"\\d+\",amount)[0]\n",
    "#         amount = int(amount)\n",
    "        \n",
    "#         ## Some sanity checks. If these fail, then the loan amounts or currencies grabbed are not reasonable.\n",
    "#         ## Attempt other methods to grab loan amount and currency upon these failures\n",
    "        \n",
    "#         # The loan amount is too small if this check passes or the currency is weird and unreasonable\n",
    "#         if (amount < 100000 or len(currency)>=8):\n",
    "#             curr='error'\n",
    "#             # Brute force approach, find all numbers in the document, find the largest one inside parentheses\n",
    "#             for nums in re.findall(\"\\((.+?\\d+?)\\)\",text):\n",
    "#                 am = nums.replace(',','')\n",
    "#                 am = am.replace('?','')\n",
    "#                 am = am.replace(' ','')\n",
    "#                 try:\n",
    "#                     curr = re.findall(\"\\D+\",am)[0]\n",
    "#                 except:\n",
    "#                     # Most likely means there is no currency present\n",
    "#                     continue\n",
    "#                 am = re.findall(\"\\d+\",am)[0]\n",
    "#                 am = int(am)\n",
    "#                 if am > amount:\n",
    "#                     amount = am\n",
    "#                     currency = curr\n",
    "\n",
    "#         return [amount, currency]\n",
    "#     except:\n",
    "#         # If there's any error, return an error (for checking effectiveness)\n",
    "#         return 'error'"
   ]
  },
  {
   "cell_type": "code",
   "execution_count": 535,
   "metadata": {},
   "outputs": [
    {
     "data": {
      "text/plain": [
       "378"
      ]
     },
     "execution_count": 535,
     "metadata": {},
     "output_type": "execute_result"
    }
   ],
   "source": [
    "len(new_df_tess.filename)"
   ]
  },
  {
   "cell_type": "code",
   "execution_count": 843,
   "metadata": {},
   "outputs": [],
   "source": [
    "# new_df = raw_df[raw_df.loan_amount_curr != 'Error']\n",
    "new_df = raw_df"
   ]
  },
  {
   "cell_type": "code",
   "execution_count": 844,
   "metadata": {},
   "outputs": [],
   "source": [
    "# new_df_tess = raw_df_tess[raw_df_tess.loan_amount_curr != 'Error']\n",
    "new_df_tess = raw_df_tess"
   ]
  },
  {
   "cell_type": "code",
   "execution_count": 708,
   "metadata": {},
   "outputs": [
    {
     "data": {
      "text/html": [
       "<div>\n",
       "<style scoped>\n",
       "    .dataframe tbody tr th:only-of-type {\n",
       "        vertical-align: middle;\n",
       "    }\n",
       "\n",
       "    .dataframe tbody tr th {\n",
       "        vertical-align: top;\n",
       "    }\n",
       "\n",
       "    .dataframe thead th {\n",
       "        text-align: right;\n",
       "    }\n",
       "</style>\n",
       "<table border=\"1\" class=\"dataframe\">\n",
       "  <thead>\n",
       "    <tr style=\"text-align: right;\">\n",
       "      <th></th>\n",
       "      <th>raw_text</th>\n",
       "      <th>num_char</th>\n",
       "      <th>clean_text</th>\n",
       "      <th>filename</th>\n",
       "      <th>loan_amount_curr</th>\n",
       "      <th>loan_amount</th>\n",
       "      <th>currency</th>\n",
       "    </tr>\n",
       "  </thead>\n",
       "  <tbody>\n",
       "    <tr>\n",
       "      <th>4</th>\n",
       "      <td>CONFO...</td>\n",
       "      <td>33593</td>\n",
       "      <td>['conformed', 'copy', 'loan', 'number', 'ind',...</td>\n",
       "      <td>1990_april_30_725911468042268845_conformed-cop...</td>\n",
       "      <td>[350000000, $]</td>\n",
       "      <td>350000000</td>\n",
       "      <td>$</td>\n",
       "    </tr>\n",
       "    <tr>\n",
       "      <th>6</th>\n",
       "      <td>CONFORMED  COPY\\n\\nLOAN NUMBER 3203 KO\\n\\n   ...</td>\n",
       "      <td>26018</td>\n",
       "      <td>['conformed', 'copy', 'loan', 'number', 'ko', ...</td>\n",
       "      <td>1990_august_10_460651468271855106_conformed-co...</td>\n",
       "      <td>[45000000, $]</td>\n",
       "      <td>45000000</td>\n",
       "      <td>$</td>\n",
       "    </tr>\n",
       "    <tr>\n",
       "      <th>7</th>\n",
       "      <td>...</td>\n",
       "      <td>18685</td>\n",
       "      <td>['conformed', 'copy', 'loan', 'number', 'ko', ...</td>\n",
       "      <td>1990_august_10_885551468047414878_conformed-co...</td>\n",
       "      <td>[31600000, $]</td>\n",
       "      <td>31600000</td>\n",
       "      <td>$</td>\n",
       "    </tr>\n",
       "    <tr>\n",
       "      <th>8</th>\n",
       "      <td>...</td>\n",
       "      <td>30971</td>\n",
       "      <td>['conformed', 'copy', 'loan', 'number', 'ko', ...</td>\n",
       "      <td>1990_august_10_939121468273631507_conformed-co...</td>\n",
       "      <td>[34000000, $]</td>\n",
       "      <td>34000000</td>\n",
       "      <td>$</td>\n",
       "    </tr>\n",
       "    <tr>\n",
       "      <th>26</th>\n",
       "      <td>...</td>\n",
       "      <td>44157</td>\n",
       "      <td>['loan', 'number', 'yu', 'loan', 'agreement', ...</td>\n",
       "      <td>1990_february_1_328621468247829056_conformed-c...</td>\n",
       "      <td>[28000000, $]</td>\n",
       "      <td>28000000</td>\n",
       "      <td>$</td>\n",
       "    </tr>\n",
       "    <tr>\n",
       "      <th>...</th>\n",
       "      <td>...</td>\n",
       "      <td>...</td>\n",
       "      <td>...</td>\n",
       "      <td>...</td>\n",
       "      <td>...</td>\n",
       "      <td>...</td>\n",
       "      <td>...</td>\n",
       "    </tr>\n",
       "    <tr>\n",
       "      <th>2757</th>\n",
       "      <td>OFFICIAL\\n\\nDOCUMENTS\\n\\n国■ ■■ ■ ■ ■ ■■ ■国 国■■...</td>\n",
       "      <td>18747</td>\n",
       "      <td>['official', 'document', '国■', '■■', '■', '■',...</td>\n",
       "      <td>2018_november_5_261671546532139420_official-do...</td>\n",
       "      <td>[34440000, $]</td>\n",
       "      <td>34440000</td>\n",
       "      <td>$</td>\n",
       "    </tr>\n",
       "    <tr>\n",
       "      <th>2769</th>\n",
       "      <td>OFFICIAL\\n\\nDOCUMENTS\\n\\nLOAN NUMBER 8867-AR\\n...</td>\n",
       "      <td>32720</td>\n",
       "      <td>['official', 'document', 'loan', 'number', 'ar...</td>\n",
       "      <td>2019_january_31_727951551717070453_official-do...</td>\n",
       "      <td>[150000000, $]</td>\n",
       "      <td>150000000</td>\n",
       "      <td>$</td>\n",
       "    </tr>\n",
       "    <tr>\n",
       "      <th>2770</th>\n",
       "      <td>OFFICIAL\\n\\nDOCUMENTS\\n\\nLOAN NUMBER 8974-TR\\n...</td>\n",
       "      <td>29559</td>\n",
       "      <td>['official', 'document', 'loan', 'number', 'tr...</td>\n",
       "      <td>2019_july_10_527321563303180984_official-docum...</td>\n",
       "      <td>[500000000, EUR]</td>\n",
       "      <td>500000000</td>\n",
       "      <td>EUR</td>\n",
       "    </tr>\n",
       "    <tr>\n",
       "      <th>2795</th>\n",
       "      <td>OFFICIAL\\n\\nDOCUMENTS\\n\\nLOAN NUMBER 9014-BY\\n...</td>\n",
       "      <td>28038</td>\n",
       "      <td>['official', 'document', 'loan', 'number', 'by...</td>\n",
       "      <td>2019_november_28_539191576006466769_official-d...</td>\n",
       "      <td>[90000000, EUR]</td>\n",
       "      <td>90000000</td>\n",
       "      <td>EUR</td>\n",
       "    </tr>\n",
       "    <tr>\n",
       "      <th>2798</th>\n",
       "      <td>OFFICIAL\\n\\nDOCUMENTS\\n\\n=＝ ニニ ニニニ ニニ ニニ にニ ニニ...</td>\n",
       "      <td>16758</td>\n",
       "      <td>['official', 'document', '＝', 'ニニ', 'ニニニ', 'ニニ...</td>\n",
       "      <td>2019_september_13_300871570120923592_official-...</td>\n",
       "      <td>[20000000, $]</td>\n",
       "      <td>20000000</td>\n",
       "      <td>$</td>\n",
       "    </tr>\n",
       "  </tbody>\n",
       "</table>\n",
       "<p>300 rows × 7 columns</p>\n",
       "</div>"
      ],
      "text/plain": [
       "                                               raw_text  num_char  \\\n",
       "4                                              CONFO...     33593   \n",
       "6      CONFORMED  COPY\\n\\nLOAN NUMBER 3203 KO\\n\\n   ...     26018   \n",
       "7                                                   ...     18685   \n",
       "8                                                   ...     30971   \n",
       "26                                                  ...     44157   \n",
       "...                                                 ...       ...   \n",
       "2757  OFFICIAL\\n\\nDOCUMENTS\\n\\n国■ ■■ ■ ■ ■ ■■ ■国 国■■...     18747   \n",
       "2769  OFFICIAL\\n\\nDOCUMENTS\\n\\nLOAN NUMBER 8867-AR\\n...     32720   \n",
       "2770  OFFICIAL\\n\\nDOCUMENTS\\n\\nLOAN NUMBER 8974-TR\\n...     29559   \n",
       "2795  OFFICIAL\\n\\nDOCUMENTS\\n\\nLOAN NUMBER 9014-BY\\n...     28038   \n",
       "2798  OFFICIAL\\n\\nDOCUMENTS\\n\\n=＝ ニニ ニニニ ニニ ニニ にニ ニニ...     16758   \n",
       "\n",
       "                                             clean_text  \\\n",
       "4     ['conformed', 'copy', 'loan', 'number', 'ind',...   \n",
       "6     ['conformed', 'copy', 'loan', 'number', 'ko', ...   \n",
       "7     ['conformed', 'copy', 'loan', 'number', 'ko', ...   \n",
       "8     ['conformed', 'copy', 'loan', 'number', 'ko', ...   \n",
       "26    ['loan', 'number', 'yu', 'loan', 'agreement', ...   \n",
       "...                                                 ...   \n",
       "2757  ['official', 'document', '国■', '■■', '■', '■',...   \n",
       "2769  ['official', 'document', 'loan', 'number', 'ar...   \n",
       "2770  ['official', 'document', 'loan', 'number', 'tr...   \n",
       "2795  ['official', 'document', 'loan', 'number', 'by...   \n",
       "2798  ['official', 'document', '＝', 'ニニ', 'ニニニ', 'ニニ...   \n",
       "\n",
       "                                               filename  loan_amount_curr  \\\n",
       "4     1990_april_30_725911468042268845_conformed-cop...    [350000000, $]   \n",
       "6     1990_august_10_460651468271855106_conformed-co...     [45000000, $]   \n",
       "7     1990_august_10_885551468047414878_conformed-co...     [31600000, $]   \n",
       "8     1990_august_10_939121468273631507_conformed-co...     [34000000, $]   \n",
       "26    1990_february_1_328621468247829056_conformed-c...     [28000000, $]   \n",
       "...                                                 ...               ...   \n",
       "2757  2018_november_5_261671546532139420_official-do...     [34440000, $]   \n",
       "2769  2019_january_31_727951551717070453_official-do...    [150000000, $]   \n",
       "2770  2019_july_10_527321563303180984_official-docum...  [500000000, EUR]   \n",
       "2795  2019_november_28_539191576006466769_official-d...   [90000000, EUR]   \n",
       "2798  2019_september_13_300871570120923592_official-...     [20000000, $]   \n",
       "\n",
       "     loan_amount currency  \n",
       "4      350000000        $  \n",
       "6       45000000        $  \n",
       "7       31600000        $  \n",
       "8       34000000        $  \n",
       "26      28000000        $  \n",
       "...          ...      ...  \n",
       "2757    34440000        $  \n",
       "2769   150000000        $  \n",
       "2770   500000000      EUR  \n",
       "2795    90000000      EUR  \n",
       "2798    20000000        $  \n",
       "\n",
       "[300 rows x 7 columns]"
      ]
     },
     "execution_count": 708,
     "metadata": {},
     "output_type": "execute_result"
    }
   ],
   "source": [
    "new_df.iloc[accuracy_check_index]"
   ]
  },
  {
   "cell_type": "code",
   "execution_count": 699,
   "metadata": {},
   "outputs": [
    {
     "data": {
      "text/html": [
       "<div>\n",
       "<style scoped>\n",
       "    .dataframe tbody tr th:only-of-type {\n",
       "        vertical-align: middle;\n",
       "    }\n",
       "\n",
       "    .dataframe tbody tr th {\n",
       "        vertical-align: top;\n",
       "    }\n",
       "\n",
       "    .dataframe thead th {\n",
       "        text-align: right;\n",
       "    }\n",
       "</style>\n",
       "<table border=\"1\" class=\"dataframe\">\n",
       "  <thead>\n",
       "    <tr style=\"text-align: right;\">\n",
       "      <th></th>\n",
       "      <th>raw_text</th>\n",
       "      <th>num_char</th>\n",
       "      <th>clean_text</th>\n",
       "      <th>filename</th>\n",
       "      <th>loan_amount_curr</th>\n",
       "      <th>loan_amount</th>\n",
       "      <th>currency</th>\n",
       "    </tr>\n",
       "  </thead>\n",
       "  <tbody>\n",
       "  </tbody>\n",
       "</table>\n",
       "</div>"
      ],
      "text/plain": [
       "Empty DataFrame\n",
       "Columns: [raw_text, num_char, clean_text, filename, loan_amount_curr, loan_amount, currency]\n",
       "Index: []"
      ]
     },
     "execution_count": 699,
     "metadata": {},
     "output_type": "execute_result"
    }
   ],
   "source": [
    "new_df[new_df.index.isin([accuracy_check_index.tolist()])==True]"
   ]
  },
  {
   "cell_type": "code",
   "execution_count": 698,
   "metadata": {},
   "outputs": [
    {
     "data": {
      "text/plain": [
       "2681"
      ]
     },
     "execution_count": 698,
     "metadata": {},
     "output_type": "execute_result"
    }
   ],
   "source": [
    "len(new_df.index)"
   ]
  },
  {
   "cell_type": "code",
   "execution_count": 697,
   "metadata": {},
   "outputs": [
    {
     "data": {
      "text/plain": [
       "0         4\n",
       "1         6\n",
       "2         7\n",
       "3         8\n",
       "4        26\n",
       "       ... \n",
       "295    2757\n",
       "296    2769\n",
       "297    2770\n",
       "298    2795\n",
       "299    2798\n",
       "Length: 300, dtype: int64"
      ]
     },
     "execution_count": 697,
     "metadata": {},
     "output_type": "execute_result"
    }
   ],
   "source": [
    "accuracy_check_index"
   ]
  },
  {
   "cell_type": "code",
   "execution_count": 691,
   "metadata": {},
   "outputs": [
    {
     "data": {
      "text/plain": [
       "pandas.core.indexes.numeric.Int64Index"
      ]
     },
     "execution_count": 691,
     "metadata": {},
     "output_type": "execute_result"
    }
   ],
   "source": [
    "type(new_df.index)"
   ]
  },
  {
   "cell_type": "code",
   "execution_count": 845,
   "metadata": {},
   "outputs": [],
   "source": [
    "accuracy_check = new_df.iloc[accuracy_check_index][['filename', 'loan_amount', 'currency']].sort_index()\n",
    "accuracy_check_tess = new_df_tess.iloc[accuracy_check_tess_index][['filename', 'loan_amount', 'currency']].sort_index()"
   ]
  },
  {
   "cell_type": "code",
   "execution_count": 846,
   "metadata": {},
   "outputs": [],
   "source": [
    "accuracy_check.to_csv('../accuracy_check.csv')\n",
    "accuracy_check_tess.to_csv('../accuracy_check_tess.csv')"
   ]
  },
  {
   "cell_type": "code",
   "execution_count": 561,
   "metadata": {},
   "outputs": [],
   "source": [
    "accuracy_check_tess_index = pd.Series(accuracy_check_tess.index)\n",
    "accuracy_check_index = pd.Series(accuracy_check.index)"
   ]
  },
  {
   "cell_type": "code",
   "execution_count": 559,
   "metadata": {},
   "outputs": [],
   "source": [
    "pd.Series(accuracy_check.index).to_csv('../accuracy_check_index.csv', index=False)\n",
    "pd.Series(accuracy_check_tess.index).to_csv('../accuracy_check_tess_index.csv', index=False)"
   ]
  }
 ],
 "metadata": {
  "kernelspec": {
   "display_name": "Python 3",
   "language": "python",
   "name": "python3"
  },
  "language_info": {
   "codemirror_mode": {
    "name": "ipython",
    "version": 3
   },
   "file_extension": ".py",
   "mimetype": "text/x-python",
   "name": "python",
   "nbconvert_exporter": "python",
   "pygments_lexer": "ipython3",
   "version": "3.8.5"
  }
 },
 "nbformat": 4,
 "nbformat_minor": 4
}
