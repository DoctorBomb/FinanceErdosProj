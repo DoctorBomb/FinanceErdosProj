{
 "cells": [
  {
   "cell_type": "markdown",
   "id": "6040c7c2",
   "metadata": {},
   "source": [
    "We begin by importing the texts extracted using pdf miner."
   ]
  },
  {
   "cell_type": "code",
   "execution_count": 34,
   "id": "5921787e",
   "metadata": {},
   "outputs": [],
   "source": [
    "#We import the necessary Packages\n",
    "import pandas as pd\n",
    "import re\n",
    "import numpy as np\n",
    "import datetime\n",
    "import os.path\n",
    "import random\n",
    "\n",
    "DATA_DIR = os.path.abspath('/Users/attiliocastano/Documents/GitHub/amethyst-erdos-may-2021/data')"
   ]
  },
  {
   "cell_type": "code",
   "execution_count": 35,
   "id": "a98cd809",
   "metadata": {},
   "outputs": [
    {
     "data": {
      "text/plain": [
       "'/Users/attiliocastano/Documents/GitHub/amethyst-erdos-may-2021/data'"
      ]
     },
     "execution_count": 35,
     "metadata": {},
     "output_type": "execute_result"
    }
   ],
   "source": [
    "DATA_DIR"
   ]
  },
  {
   "cell_type": "code",
   "execution_count": 40,
   "id": "f6d8f485",
   "metadata": {},
   "outputs": [],
   "source": [
    "PDFMINER_TEXT_DIR = os.path.join(DATA_DIR,'pdfminer_texts')\n",
    "pdfminer_text_filenames = os.listdir(PDFMINER_TEXT_DIR)"
   ]
  },
  {
   "cell_type": "code",
   "execution_count": 50,
   "id": "35cd8fca",
   "metadata": {},
   "outputs": [],
   "source": [
    "random_text_names = random.choices(pdfminer_text_filenames, k = 100)"
   ]
  },
  {
   "cell_type": "code",
   "execution_count": 52,
   "id": "bbe5bab3",
   "metadata": {},
   "outputs": [],
   "source": [
    "pdfminer_texts = []\n",
    "for filename in random_text_names:\n",
    "    with open(os.path.join(PDFMINER_TEXT_DIR,filename),'r') as f:\n",
    "        pdfminer_texts.append(f.read())"
   ]
  },
  {
   "cell_type": "code",
   "execution_count": 54,
   "id": "db8a93e6",
   "metadata": {},
   "outputs": [],
   "source": [
    "Files_pdfminer = pd.DataFrame({'filename': random_text_names,\n",
    "                              'extracted_text':pdfminer_texts})"
   ]
  },
  {
   "cell_type": "code",
   "execution_count": 55,
   "id": "fbd2e304",
   "metadata": {},
   "outputs": [
    {
     "data": {
      "text/html": [
       "<div>\n",
       "<style scoped>\n",
       "    .dataframe tbody tr th:only-of-type {\n",
       "        vertical-align: middle;\n",
       "    }\n",
       "\n",
       "    .dataframe tbody tr th {\n",
       "        vertical-align: top;\n",
       "    }\n",
       "\n",
       "    .dataframe thead th {\n",
       "        text-align: right;\n",
       "    }\n",
       "</style>\n",
       "<table border=\"1\" class=\"dataframe\">\n",
       "  <thead>\n",
       "    <tr style=\"text-align: right;\">\n",
       "      <th></th>\n",
       "      <th>filename</th>\n",
       "      <th>extracted_text</th>\n",
       "    </tr>\n",
       "  </thead>\n",
       "  <tbody>\n",
       "    <tr>\n",
       "      <th>0</th>\n",
       "      <td>1993_july_1_803961468286495268_conformed-copy-...</td>\n",
       "      <td>CONFORMED\\n\\n                                 ...</td>\n",
       "    </tr>\n",
       "    <tr>\n",
       "      <th>1</th>\n",
       "      <td>2004_november_1_176131468224998059_loan-agreem...</td>\n",
       "      <td>CONFORMED COPY \\n\\n \\nLOAN NUMBER 4746-CHA \\n\\...</td>\n",
       "    </tr>\n",
       "    <tr>\n",
       "      <th>2</th>\n",
       "      <td>2000_august_10_472421468223191843_conformed-co...</td>\n",
       "      <td>CONFORMED COPY\\n\\nLOAN NUMBER 4570 CHA\\n\\nLoan...</td>\n",
       "    </tr>\n",
       "    <tr>\n",
       "      <th>3</th>\n",
       "      <td>2006_september_26_405771468112484727_loan-agre...</td>\n",
       "      <td>CONFORMED COPY \\n \\n\\nLOAN NUMBER 4836-UA \\n\\n...</td>\n",
       "    </tr>\n",
       "    <tr>\n",
       "      <th>4</th>\n",
       "      <td>1999_june_17_975471468094790343_conformed-copy...</td>\n",
       "      <td>CONFORMED COPY\\n\\nLOAN NUMBER 4491 RO\\n\\n(Priv...</td>\n",
       "    </tr>\n",
       "  </tbody>\n",
       "</table>\n",
       "</div>"
      ],
      "text/plain": [
       "                                            filename  \\\n",
       "0  1993_july_1_803961468286495268_conformed-copy-...   \n",
       "1  2004_november_1_176131468224998059_loan-agreem...   \n",
       "2  2000_august_10_472421468223191843_conformed-co...   \n",
       "3  2006_september_26_405771468112484727_loan-agre...   \n",
       "4  1999_june_17_975471468094790343_conformed-copy...   \n",
       "\n",
       "                                      extracted_text  \n",
       "0  CONFORMED\\n\\n                                 ...  \n",
       "1  CONFORMED COPY \\n\\n \\nLOAN NUMBER 4746-CHA \\n\\...  \n",
       "2  CONFORMED COPY\\n\\nLOAN NUMBER 4570 CHA\\n\\nLoan...  \n",
       "3  CONFORMED COPY \\n \\n\\nLOAN NUMBER 4836-UA \\n\\n...  \n",
       "4  CONFORMED COPY\\n\\nLOAN NUMBER 4491 RO\\n\\n(Priv...  "
      ]
     },
     "execution_count": 55,
     "metadata": {},
     "output_type": "execute_result"
    }
   ],
   "source": [
    "Files_pdfminer.head()"
   ]
  },
  {
   "cell_type": "markdown",
   "id": "951c0964",
   "metadata": {},
   "source": [
    "We attempt to use TensorFlow to extract features from the texts"
   ]
  },
  {
   "cell_type": "code",
   "execution_count": 63,
   "id": "4dc8ac8d",
   "metadata": {},
   "outputs": [],
   "source": [
    "import tensorflow as tf"
   ]
  },
  {
   "cell_type": "code",
   "execution_count": 66,
   "id": "2e165059",
   "metadata": {},
   "outputs": [],
   "source": [
    "import collections\n",
    "import pathlib\n",
    "\n",
    "import tensorflow as tf\n",
    "\n",
    "from tensorflow.keras import layers\n",
    "from tensorflow.keras import losses\n",
    "from tensorflow.keras import utils\n",
    "from tensorflow.keras.layers import TextVectorization\n",
    "\n",
    "import tensorflow_datasets as tfds\n",
    "import tensorflow_text as tf_text"
   ]
  },
  {
   "cell_type": "code",
   "execution_count": 67,
   "id": "ef5cf81e",
   "metadata": {},
   "outputs": [],
   "source": [
    "Extracted_DF=pd.read_csv(os.path.join(DATA_DIR,'Extracted_Attributes_LoanUSD_Country.csv'))"
   ]
  },
  {
   "cell_type": "code",
   "execution_count": 69,
   "id": "244e8ca1",
   "metadata": {},
   "outputs": [
    {
     "data": {
      "text/html": [
       "<div>\n",
       "<style scoped>\n",
       "    .dataframe tbody tr th:only-of-type {\n",
       "        vertical-align: middle;\n",
       "    }\n",
       "\n",
       "    .dataframe tbody tr th {\n",
       "        vertical-align: top;\n",
       "    }\n",
       "\n",
       "    .dataframe thead th {\n",
       "        text-align: right;\n",
       "    }\n",
       "</style>\n",
       "<table border=\"1\" class=\"dataframe\">\n",
       "  <thead>\n",
       "    <tr style=\"text-align: right;\">\n",
       "      <th></th>\n",
       "      <th>filename</th>\n",
       "      <th>Project_name</th>\n",
       "      <th>Project_desc</th>\n",
       "      <th>Date</th>\n",
       "      <th>Amount_loan</th>\n",
       "      <th>Currency_name</th>\n",
       "      <th>Year</th>\n",
       "      <th>Value</th>\n",
       "      <th>Amount_in_usd</th>\n",
       "      <th>Country_Code</th>\n",
       "      <th>Country</th>\n",
       "      <th>Region</th>\n",
       "      <th>Income_level</th>\n",
       "    </tr>\n",
       "  </thead>\n",
       "  <tbody>\n",
       "    <tr>\n",
       "      <th>0</th>\n",
       "      <td>1990_april_24_587321468019152780_conformed-cop...</td>\n",
       "      <td>forestry sector project</td>\n",
       "      <td>Description of the Project The objectives of t...</td>\n",
       "      <td>1990-04-24</td>\n",
       "      <td>80000000.0</td>\n",
       "      <td>USD</td>\n",
       "      <td>1990</td>\n",
       "      <td>1.0</td>\n",
       "      <td>80000000.0</td>\n",
       "      <td>CIV</td>\n",
       "      <td>Cote d'Ivoire</td>\n",
       "      <td>Sub-Saharan Africa</td>\n",
       "      <td>Lower middle income</td>\n",
       "    </tr>\n",
       "    <tr>\n",
       "      <th>1</th>\n",
       "      <td>1990_april_24_668811468165272290_conformed-cop...</td>\n",
       "      <td>water supply project</td>\n",
       "      <td>NaN</td>\n",
       "      <td>1990-04-24</td>\n",
       "      <td>2500000.0</td>\n",
       "      <td>USD</td>\n",
       "      <td>1990</td>\n",
       "      <td>1.0</td>\n",
       "      <td>2500000.0</td>\n",
       "      <td>LCA</td>\n",
       "      <td>St. Lucia</td>\n",
       "      <td>Latin America &amp; Caribbean</td>\n",
       "      <td>Upper middle income</td>\n",
       "    </tr>\n",
       "    <tr>\n",
       "      <th>2</th>\n",
       "      <td>1990_april_25_904191468298750561_conformed-cop...</td>\n",
       "      <td>environment management project</td>\n",
       "      <td>Description of the Project The objectives of t...</td>\n",
       "      <td>1990-04-25</td>\n",
       "      <td>18000000.0</td>\n",
       "      <td>USD</td>\n",
       "      <td>1990</td>\n",
       "      <td>1.0</td>\n",
       "      <td>18000000.0</td>\n",
       "      <td>POL</td>\n",
       "      <td>Poland</td>\n",
       "      <td>Europe &amp; Central Asia</td>\n",
       "      <td>High income</td>\n",
       "    </tr>\n",
       "    <tr>\n",
       "      <th>3</th>\n",
       "      <td>1990_april_30_410811468040573756_conformed-cop...</td>\n",
       "      <td>rural electrification project</td>\n",
       "      <td>Description of the Project The objective of th...</td>\n",
       "      <td>1990-04-30</td>\n",
       "      <td>329000000.0</td>\n",
       "      <td>USD</td>\n",
       "      <td>1990</td>\n",
       "      <td>1.0</td>\n",
       "      <td>329000000.0</td>\n",
       "      <td>IDN</td>\n",
       "      <td>Indonesia</td>\n",
       "      <td>East Asia &amp; Pacific</td>\n",
       "      <td>Upper middle income</td>\n",
       "    </tr>\n",
       "    <tr>\n",
       "      <th>4</th>\n",
       "      <td>1990_april_30_725911468042268845_conformed-cop...</td>\n",
       "      <td>third telecommunications project</td>\n",
       "      <td>Description of the Project The objectives of t...</td>\n",
       "      <td>1990-04-30</td>\n",
       "      <td>350000000.0</td>\n",
       "      <td>USD</td>\n",
       "      <td>1990</td>\n",
       "      <td>1.0</td>\n",
       "      <td>350000000.0</td>\n",
       "      <td>IDN</td>\n",
       "      <td>Indonesia</td>\n",
       "      <td>East Asia &amp; Pacific</td>\n",
       "      <td>Upper middle income</td>\n",
       "    </tr>\n",
       "  </tbody>\n",
       "</table>\n",
       "</div>"
      ],
      "text/plain": [
       "                                            filename  \\\n",
       "0  1990_april_24_587321468019152780_conformed-cop...   \n",
       "1  1990_april_24_668811468165272290_conformed-cop...   \n",
       "2  1990_april_25_904191468298750561_conformed-cop...   \n",
       "3  1990_april_30_410811468040573756_conformed-cop...   \n",
       "4  1990_april_30_725911468042268845_conformed-cop...   \n",
       "\n",
       "                       Project_name  \\\n",
       "0           forestry sector project   \n",
       "1              water supply project   \n",
       "2    environment management project   \n",
       "3     rural electrification project   \n",
       "4  third telecommunications project   \n",
       "\n",
       "                                        Project_desc        Date  Amount_loan  \\\n",
       "0  Description of the Project The objectives of t...  1990-04-24   80000000.0   \n",
       "1                                                NaN  1990-04-24    2500000.0   \n",
       "2  Description of the Project The objectives of t...  1990-04-25   18000000.0   \n",
       "3  Description of the Project The objective of th...  1990-04-30  329000000.0   \n",
       "4  Description of the Project The objectives of t...  1990-04-30  350000000.0   \n",
       "\n",
       "  Currency_name  Year  Value  Amount_in_usd Country_Code        Country  \\\n",
       "0           USD  1990    1.0     80000000.0          CIV  Cote d'Ivoire   \n",
       "1           USD  1990    1.0      2500000.0          LCA      St. Lucia   \n",
       "2           USD  1990    1.0     18000000.0          POL         Poland   \n",
       "3           USD  1990    1.0    329000000.0          IDN      Indonesia   \n",
       "4           USD  1990    1.0    350000000.0          IDN      Indonesia   \n",
       "\n",
       "                       Region         Income_level  \n",
       "0         Sub-Saharan Africa   Lower middle income  \n",
       "1  Latin America & Caribbean   Upper middle income  \n",
       "2       Europe & Central Asia          High income  \n",
       "3         East Asia & Pacific  Upper middle income  \n",
       "4         East Asia & Pacific  Upper middle income  "
      ]
     },
     "execution_count": 69,
     "metadata": {},
     "output_type": "execute_result"
    }
   ],
   "source": [
    "Extracted_DF.head()"
   ]
  },
  {
   "cell_type": "code",
   "execution_count": 81,
   "id": "38fb2b17",
   "metadata": {},
   "outputs": [
    {
     "name": "stdout",
     "output_type": "stream",
     "text": [
      "Description of the Project The objectives of the Project are to assist the Borrower to improve overall management of the telecommunications sector develop PERUMTELs institutional capability and accelerate implementation of telecommunications network investments The Project consists of the following parts subject to such modifications thereof as the Borrower and the Bank may agree upon from time to time to achieve such objectives\n"
     ]
    },
    {
     "data": {
      "text/plain": [
       "str"
      ]
     },
     "execution_count": 81,
     "metadata": {},
     "output_type": "execute_result"
    }
   ],
   "source": [
    "T = Extracted_DF.loc[4, \"Project_desc\"]\n",
    "print(T)\n",
    "type(T)"
   ]
  },
  {
   "cell_type": "code",
   "execution_count": 124,
   "id": "d4efc2cc",
   "metadata": {},
   "outputs": [],
   "source": [
    "VOCAB_SIZE = 100\n",
    "\n",
    "binary_vectorize_layer = TextVectorization(\n",
    "    max_tokens=VOCAB_SIZE,\n",
    "    output_mode='binary')"
   ]
  },
  {
   "cell_type": "code",
   "execution_count": 125,
   "id": "a92bf636",
   "metadata": {},
   "outputs": [],
   "source": [
    "MAX_SEQUENCE_LENGTH = 250\n",
    "\n",
    "int_vectorize_layer = TextVectorization(\n",
    "    max_tokens=VOCAB_SIZE,\n",
    "    output_mode='int',\n",
    "    output_sequence_length=MAX_SEQUENCE_LENGTH)"
   ]
  },
  {
   "cell_type": "code",
   "execution_count": 193,
   "id": "446f603b",
   "metadata": {},
   "outputs": [
    {
     "data": {
      "text/plain": [
       "TensorShape([62])"
      ]
     },
     "execution_count": 193,
     "metadata": {},
     "output_type": "execute_result"
    }
   ],
   "source": [
    "text_dataset = tf.convert_to_tensor(T.split())\n",
    "text_dataset.shape"
   ]
  },
  {
   "cell_type": "code",
   "execution_count": 179,
   "id": "0b2cc9f0",
   "metadata": {},
   "outputs": [],
   "source": [
    "binary_vectorize_layer.adapt(text_dataset)"
   ]
  },
  {
   "cell_type": "code",
   "execution_count": 197,
   "id": "e8fe8d32",
   "metadata": {},
   "outputs": [],
   "source": [
    "# Create the model that uses the vectorize text layer\n",
    "model = tf.keras.models.Sequential()\n",
    "\n",
    "# Start by creating an explicit input layer. It needs to have a shape of\n",
    "# (1,) (because we need to guarantee that there is exactly one string\n",
    "# input per batch), and the dtype needs to be 'string'.\n",
    "model.add(tf.keras.Input(shape=(1,), dtype=tf.string))\n",
    "\n",
    "# The first layer in our model is the vectorization layer. After this\n",
    "# layer, we have a tensor of shape (batch_size, max_len) containing vocab\n",
    "# indices.\n",
    "model.add(binary_vectorize_layer)\n",
    "\n"
   ]
  },
  {
   "cell_type": "code",
   "execution_count": 198,
   "id": "ec2beb2c",
   "metadata": {},
   "outputs": [
    {
     "name": "stdout",
     "output_type": "stream",
     "text": [
      "[[0. 0. 0. ... 0. 0. 0.]\n",
      " [0. 0. 0. ... 0. 0. 0.]\n",
      " [0. 1. 0. ... 0. 0. 0.]\n",
      " ...\n",
      " [0. 0. 0. ... 0. 1. 0.]\n",
      " [0. 0. 0. ... 0. 0. 0.]\n",
      " [0. 0. 0. ... 0. 0. 0.]]\n"
     ]
    }
   ],
   "source": [
    "print(model.predict(text_dataset))"
   ]
  },
  {
   "cell_type": "code",
   "execution_count": 189,
   "id": "088b5a9a",
   "metadata": {},
   "outputs": [
    {
     "data": {
      "text/plain": [
       "(62, 39)"
      ]
     },
     "execution_count": 189,
     "metadata": {},
     "output_type": "execute_result"
    }
   ],
   "source": [
    "model.predict(text_dataset).shape"
   ]
  },
  {
   "cell_type": "code",
   "execution_count": 200,
   "id": "481b8a3f",
   "metadata": {},
   "outputs": [
    {
     "data": {
      "text/plain": [
       "['',\n",
       " '[UNK]',\n",
       " 'the',\n",
       " 'to',\n",
       " 'of',\n",
       " 'project',\n",
       " 'time',\n",
       " 'telecommunications',\n",
       " 'such',\n",
       " 'objectives',\n",
       " 'borrower',\n",
       " 'and',\n",
       " 'upon',\n",
       " 'thereof',\n",
       " 'subject',\n",
       " 'sector',\n",
       " 'perumtels',\n",
       " 'parts',\n",
       " 'overall',\n",
       " 'network',\n",
       " 'modifications',\n",
       " 'may',\n",
       " 'management',\n",
       " 'investments',\n",
       " 'institutional',\n",
       " 'improve',\n",
       " 'implementation',\n",
       " 'from',\n",
       " 'following',\n",
       " 'develop',\n",
       " 'description',\n",
       " 'consists',\n",
       " 'capability',\n",
       " 'bank',\n",
       " 'assist',\n",
       " 'as',\n",
       " 'are',\n",
       " 'agree',\n",
       " 'achieve',\n",
       " 'accelerate']"
      ]
     },
     "execution_count": 200,
     "metadata": {},
     "output_type": "execute_result"
    }
   ],
   "source": [
    "int_vectorize_layer.get_vocabulary()"
   ]
  },
  {
   "cell_type": "code",
   "execution_count": 191,
   "id": "b1e70617",
   "metadata": {},
   "outputs": [],
   "source": [
    "embedding_layer = tf.keras.layers.Embedding(61, 4)"
   ]
  },
  {
   "cell_type": "code",
   "execution_count": 185,
   "id": "e307900e",
   "metadata": {},
   "outputs": [
    {
     "data": {
      "text/plain": [
       "array([[[-0.00074903,  0.02337625,  0.00013349,  0.02313804],\n",
       "        [-0.00074903,  0.02337625,  0.00013349,  0.02313804],\n",
       "        [-0.00074903,  0.02337625,  0.00013349,  0.02313804],\n",
       "        ...,\n",
       "        [-0.00074903,  0.02337625,  0.00013349,  0.02313804],\n",
       "        [-0.00074903,  0.02337625,  0.00013349,  0.02313804],\n",
       "        [-0.00074903,  0.02337625,  0.00013349,  0.02313804]],\n",
       "\n",
       "       [[-0.00074903,  0.02337625,  0.00013349,  0.02313804],\n",
       "        [-0.00074903,  0.02337625,  0.00013349,  0.02313804],\n",
       "        [-0.00074903,  0.02337625,  0.00013349,  0.02313804],\n",
       "        ...,\n",
       "        [-0.00074903,  0.02337625,  0.00013349,  0.02313804],\n",
       "        [-0.00074903,  0.02337625,  0.00013349,  0.02313804],\n",
       "        [-0.00074903,  0.02337625,  0.00013349,  0.02313804]],\n",
       "\n",
       "       [[-0.00074903,  0.02337625,  0.00013349,  0.02313804],\n",
       "        [-0.00061349,  0.0449929 , -0.04672283,  0.00196093],\n",
       "        [-0.00074903,  0.02337625,  0.00013349,  0.02313804],\n",
       "        ...,\n",
       "        [-0.00074903,  0.02337625,  0.00013349,  0.02313804],\n",
       "        [-0.00074903,  0.02337625,  0.00013349,  0.02313804],\n",
       "        [-0.00074903,  0.02337625,  0.00013349,  0.02313804]],\n",
       "\n",
       "       ...,\n",
       "\n",
       "       [[-0.00074903,  0.02337625,  0.00013349,  0.02313804],\n",
       "        [-0.00074903,  0.02337625,  0.00013349,  0.02313804],\n",
       "        [-0.00074903,  0.02337625,  0.00013349,  0.02313804],\n",
       "        ...,\n",
       "        [-0.00074903,  0.02337625,  0.00013349,  0.02313804],\n",
       "        [-0.00061349,  0.0449929 , -0.04672283,  0.00196093],\n",
       "        [-0.00074903,  0.02337625,  0.00013349,  0.02313804]],\n",
       "\n",
       "       [[-0.00074903,  0.02337625,  0.00013349,  0.02313804],\n",
       "        [-0.00074903,  0.02337625,  0.00013349,  0.02313804],\n",
       "        [-0.00074903,  0.02337625,  0.00013349,  0.02313804],\n",
       "        ...,\n",
       "        [-0.00074903,  0.02337625,  0.00013349,  0.02313804],\n",
       "        [-0.00074903,  0.02337625,  0.00013349,  0.02313804],\n",
       "        [-0.00074903,  0.02337625,  0.00013349,  0.02313804]],\n",
       "\n",
       "       [[-0.00074903,  0.02337625,  0.00013349,  0.02313804],\n",
       "        [-0.00074903,  0.02337625,  0.00013349,  0.02313804],\n",
       "        [-0.00074903,  0.02337625,  0.00013349,  0.02313804],\n",
       "        ...,\n",
       "        [-0.00074903,  0.02337625,  0.00013349,  0.02313804],\n",
       "        [-0.00074903,  0.02337625,  0.00013349,  0.02313804],\n",
       "        [-0.00074903,  0.02337625,  0.00013349,  0.02313804]]],\n",
       "      dtype=float32)"
      ]
     },
     "execution_count": 185,
     "metadata": {},
     "output_type": "execute_result"
    }
   ],
   "source": [
    "result = embedding_layer(model.predict(text_dataset))\n",
    "result.numpy()\n"
   ]
  },
  {
   "cell_type": "code",
   "execution_count": 186,
   "id": "db9822ec",
   "metadata": {},
   "outputs": [
    {
     "data": {
      "text/plain": [
       "TensorShape([62, 39, 4])"
      ]
     },
     "execution_count": 186,
     "metadata": {},
     "output_type": "execute_result"
    }
   ],
   "source": [
    "result.shape"
   ]
  },
  {
   "cell_type": "code",
   "execution_count": null,
   "id": "30166cca",
   "metadata": {},
   "outputs": [],
   "source": []
  },
  {
   "cell_type": "code",
   "execution_count": null,
   "id": "1011fad4",
   "metadata": {},
   "outputs": [],
   "source": []
  }
 ],
 "metadata": {
  "kernelspec": {
   "display_name": "Python 3",
   "language": "python",
   "name": "python3"
  },
  "language_info": {
   "codemirror_mode": {
    "name": "ipython",
    "version": 3
   },
   "file_extension": ".py",
   "mimetype": "text/x-python",
   "name": "python",
   "nbconvert_exporter": "python",
   "pygments_lexer": "ipython3",
   "version": "3.8.8"
  }
 },
 "nbformat": 4,
 "nbformat_minor": 5
}
