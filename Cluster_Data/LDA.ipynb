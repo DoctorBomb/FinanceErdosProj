{
 "cells": [
  {
   "cell_type": "markdown",
   "metadata": {},
   "source": [
    "# Topic Modeling\n",
    "In order to cluster our documents, we used the unsupervised topic modeling technique of LDA. With topic modeling we hope to discover the categories that the topics are clustered into and use this structure to summarize/organize the documents."
   ]
  },
  {
   "cell_type": "markdown",
   "metadata": {},
   "source": [
    "# LDA (Latent Dirichlet Allocation)\n",
    " It builds a topic per document model and words per topic model, modeled as Dirichlet distributions. This model was chosen due to the following advantages of LDA over its common counter part, non-negative matrix factorization.\n",
    "1. Assumes each document has multiple topics.\n",
    "2. Works best with longer texts such as full articles, essays, and books.\n",
    "3. Evolves as you process new documents with the same model.\n",
    "4. Results are not deterministic, meaning you might get different results each time for the same data set.\n",
    "\n",
    "In particular, on the world bank's webpage, we have that there are 11 categories of loans. Some loans are wide ranging social programs that can have effects in more than one of these categories. LDA will be better to capture this multi-topic property of the loans. Additionally, the project descriptions (580 words on average) can be relatively long compared to say a tweet (280 words on average), so LDA should handle it better. The non-deterministic nature of the algorithm"
   ]
  },
  {
   "cell_type": "markdown",
   "metadata": {},
   "source": [
    "## Assumptions for LDA\n",
    "The following assumptions are necessary in order for this algorithm to be used:\n",
    "1. The semantic content of a document is composed by combining one or more terms from one or more topics.\n",
    "2. Certain terms are ambiguous, belonging to more than one topic, with different probability. However, in a document, the accompanying presence of specific neighboring terms (which belong to only one topic) will disambiguate their usage.\n",
    "3. Most documents will contain only a relatively small number of topics. In the collection, individual topics will occur with differing frequencies. That is, they have a probability distribution, so that a given document is more likely to contain some topics than others.\n",
    "4. Within a topic, certain terms will be used much more frequently than others. In other words, the terms within a topic will also have their own probability distribution.\n"
   ]
  },
  {
   "cell_type": "code",
   "execution_count": 51,
   "metadata": {},
   "outputs": [
    {
     "name": "stderr",
     "output_type": "stream",
     "text": [
      "[nltk_data] Downloading package stopwords to /home/kbari/nltk_data...\n",
      "[nltk_data]   Package stopwords is already up-to-date!\n",
      "[nltk_data] Downloading package wordnet to /home/kbari/nltk_data...\n",
      "[nltk_data]   Package wordnet is already up-to-date!\n"
     ]
    }
   ],
   "source": [
    "from itertools import *\n",
    "import numpy as np\n",
    "import pandas as pd\n",
    "from collections import Counter\n",
    "import re\n",
    "import os\n",
    "import sys\n",
    "\n",
    "from IPython.display import display\n",
    "import seaborn as sns\n",
    "import matplotlib.pyplot as plt\n",
    "import matplotlib.image as mpimg\n",
    "import base64\n",
    "import io\n",
    "%matplotlib inline\n",
    "sns.set()  \n",
    "\n",
    "\n",
    "import string\n",
    "import nltk\n",
    "from nltk.util import ngrams\n",
    "from nltk.tokenize import RegexpTokenizer\n",
    "from nltk.stem.porter import PorterStemmer\n",
    "from nltk.corpus import stopwords\n",
    "from nltk.stem import WordNetLemmatizer\n",
    "nltk.download('stopwords')\n",
    "nltk.download('wordnet')\n",
    "words = set(nltk.corpus.words.words())\n",
    "#!{sys.executable} -m pip install spacy\n",
    "from stop_words import get_stop_words\n",
    "import spacy\n",
    "from gensim import corpora, models\n",
    "from gensim.corpora import Dictionary\n",
    "import gensim\n",
    "from gensim.models.ldamulticore import LdaMulticore\n",
    "from gensim.models.word2vec import Word2Vec\n",
    "from gensim.models import CoherenceModel\n",
    "from gensim.utils import simple_preprocess\n",
    "\n",
    "import pyLDAvis\n",
    "import pyLDAvis.gensim_models"
   ]
  },
  {
   "cell_type": "code",
   "execution_count": 54,
   "metadata": {},
   "outputs": [
    {
     "name": "stdout",
     "output_type": "stream",
     "text": [
      "2021-11-09 10:45:17.014861: W tensorflow/stream_executor/platform/default/dso_loader.cc:64] Could not load dynamic library 'libcudart.so.11.0'; dlerror: libcudart.so.11.0: cannot open shared object file: No such file or directory\n",
      "2021-11-09 10:45:17.014897: I tensorflow/stream_executor/cuda/cudart_stub.cc:29] Ignore above cudart dlerror if you do not have a GPU set up on your machine.\n",
      "\u001b[38;5;3m⚠ As of spaCy v3.0, shortcuts like 'en' are deprecated. Please use the\n",
      "full pipeline package name 'en_core_web_sm' instead.\u001b[0m\n",
      "\u001b[33mWARNING: The directory '/home/kbari/.cache/pip' or its parent directory is not owned or is not writable by the current user. The cache has been disabled. Check the permissions and owner of that directory. If executing pip with sudo, you may want sudo's -H flag.\u001b[0m\n",
      "Collecting en-core-web-sm==3.2.0\n",
      "  Downloading https://github.com/explosion/spacy-models/releases/download/en_core_web_sm-3.2.0/en_core_web_sm-3.2.0-py3-none-any.whl (13.9 MB)\n",
      "\u001b[K     |████████████████████████████████| 13.9 MB 2.9 MB/s eta 0:00:01\n",
      "\u001b[?25hRequirement already satisfied: spacy<3.3.0,>=3.2.0 in /home/kbari/.local/lib/python3.8/site-packages (from en-core-web-sm==3.2.0) (3.2.0)\n",
      "Requirement already satisfied: numpy>=1.15.0 in /home/kbari/.local/lib/python3.8/site-packages (from spacy<3.3.0,>=3.2.0->en-core-web-sm==3.2.0) (1.21.3)\n",
      "Requirement already satisfied: thinc<8.1.0,>=8.0.12 in /home/kbari/.local/lib/python3.8/site-packages (from spacy<3.3.0,>=3.2.0->en-core-web-sm==3.2.0) (8.0.13)\n",
      "Requirement already satisfied: jinja2 in /usr/lib/python3/dist-packages (from spacy<3.3.0,>=3.2.0->en-core-web-sm==3.2.0) (2.10.1)\n",
      "Requirement already satisfied: requests<3.0.0,>=2.13.0 in /usr/lib/python3/dist-packages (from spacy<3.3.0,>=3.2.0->en-core-web-sm==3.2.0) (2.22.0)\n",
      "Requirement already satisfied: preshed<3.1.0,>=3.0.2 in /home/kbari/.local/lib/python3.8/site-packages (from spacy<3.3.0,>=3.2.0->en-core-web-sm==3.2.0) (3.0.6)\n",
      "Requirement already satisfied: packaging>=20.0 in /usr/lib/python3/dist-packages (from spacy<3.3.0,>=3.2.0->en-core-web-sm==3.2.0) (20.3)\n",
      "Requirement already satisfied: murmurhash<1.1.0,>=0.28.0 in /home/kbari/.local/lib/python3.8/site-packages (from spacy<3.3.0,>=3.2.0->en-core-web-sm==3.2.0) (1.0.6)\n",
      "Requirement already satisfied: tqdm<5.0.0,>=4.38.0 in /home/kbari/.local/lib/python3.8/site-packages (from spacy<3.3.0,>=3.2.0->en-core-web-sm==3.2.0) (4.62.3)\n",
      "Requirement already satisfied: srsly<3.0.0,>=2.4.1 in /home/kbari/.local/lib/python3.8/site-packages (from spacy<3.3.0,>=3.2.0->en-core-web-sm==3.2.0) (2.4.2)\n",
      "Requirement already satisfied: catalogue<2.1.0,>=2.0.6 in /home/kbari/.local/lib/python3.8/site-packages (from spacy<3.3.0,>=3.2.0->en-core-web-sm==3.2.0) (2.0.6)\n",
      "Requirement already satisfied: spacy-legacy<3.1.0,>=3.0.8 in /home/kbari/.local/lib/python3.8/site-packages (from spacy<3.3.0,>=3.2.0->en-core-web-sm==3.2.0) (3.0.8)\n",
      "Requirement already satisfied: pathy>=0.3.5 in /home/kbari/.local/lib/python3.8/site-packages (from spacy<3.3.0,>=3.2.0->en-core-web-sm==3.2.0) (0.6.1)\n",
      "Requirement already satisfied: typer<0.5.0,>=0.3.0 in /home/kbari/.local/lib/python3.8/site-packages (from spacy<3.3.0,>=3.2.0->en-core-web-sm==3.2.0) (0.4.0)\n",
      "Requirement already satisfied: blis<0.8.0,>=0.4.0 in /home/kbari/.local/lib/python3.8/site-packages (from spacy<3.3.0,>=3.2.0->en-core-web-sm==3.2.0) (0.7.5)\n",
      "Requirement already satisfied: pydantic!=1.8,!=1.8.1,<1.9.0,>=1.7.4 in /home/kbari/.local/lib/python3.8/site-packages (from spacy<3.3.0,>=3.2.0->en-core-web-sm==3.2.0) (1.8.2)\n",
      "Requirement already satisfied: langcodes<4.0.0,>=3.2.0 in /home/kbari/.local/lib/python3.8/site-packages (from spacy<3.3.0,>=3.2.0->en-core-web-sm==3.2.0) (3.2.1)\n",
      "Requirement already satisfied: setuptools in /usr/lib/python3/dist-packages (from spacy<3.3.0,>=3.2.0->en-core-web-sm==3.2.0) (45.2.0)\n",
      "Requirement already satisfied: spacy-loggers<2.0.0,>=1.0.0 in /home/kbari/.local/lib/python3.8/site-packages (from spacy<3.3.0,>=3.2.0->en-core-web-sm==3.2.0) (1.0.1)\n",
      "Requirement already satisfied: cymem<2.1.0,>=2.0.2 in /home/kbari/.local/lib/python3.8/site-packages (from spacy<3.3.0,>=3.2.0->en-core-web-sm==3.2.0) (2.0.6)\n",
      "Requirement already satisfied: wasabi<1.1.0,>=0.8.1 in /home/kbari/.local/lib/python3.8/site-packages (from spacy<3.3.0,>=3.2.0->en-core-web-sm==3.2.0) (0.8.2)\n",
      "Requirement already satisfied: smart-open<6.0.0,>=5.0.0 in /home/kbari/.local/lib/python3.8/site-packages (from pathy>=0.3.5->spacy<3.3.0,>=3.2.0->en-core-web-sm==3.2.0) (5.2.1)\n",
      "Requirement already satisfied: click<9.0.0,>=7.1.1 in /home/kbari/.local/lib/python3.8/site-packages (from typer<0.5.0,>=0.3.0->spacy<3.3.0,>=3.2.0->en-core-web-sm==3.2.0) (8.0.3)\n",
      "Requirement already satisfied: typing-extensions>=3.7.4.3 in /home/kbari/.local/lib/python3.8/site-packages (from pydantic!=1.8,!=1.8.1,<1.9.0,>=1.7.4->spacy<3.3.0,>=3.2.0->en-core-web-sm==3.2.0) (3.10.0.2)\n",
      "Installing collected packages: en-core-web-sm\n",
      "Successfully installed en-core-web-sm-3.2.0\n",
      "\u001b[38;5;2m✔ Download and installation successful\u001b[0m\n",
      "You can now load the package via spacy.load('en_core_web_sm')\n"
     ]
    }
   ],
   "source": [
    "#!{sys.executable} -m spacy download en"
   ]
  },
  {
   "cell_type": "markdown",
   "metadata": {},
   "source": [
    "## Extract project descriptions from each document\n",
    "Currently extracts 2941/3205 project descriptions (91%)"
   ]
  },
  {
   "cell_type": "code",
   "execution_count": 2,
   "metadata": {},
   "outputs": [
    {
     "name": "stdout",
     "output_type": "stream",
     "text": [
      "<class 'pandas.core.frame.DataFrame'>\n",
      "Index: 3205 entries, 2006_july_4_213051468296429321_loan-agreement-l4825-ro-conformed.txt to 2019_april_2_393831555439741186_official-documents-loan-agreement-for-loan-8932-ph-closing-package.txt\n",
      "Data columns (total 4 columns):\n",
      " #   Column     Non-Null Count  Dtype \n",
      "---  ------     --------------  ----- \n",
      " 0   raw_text   3205 non-null   object\n",
      " 1   proj_desc  3205 non-null   object\n",
      " 2   proj_name  3205 non-null   object\n",
      " 3   corp       3205 non-null   object\n",
      "dtypes: object(4)\n",
      "memory usage: 125.2+ KB\n"
     ]
    }
   ],
   "source": [
    "## Path to text files\n",
    "path = \"/home/kbari/git_repo/FinanceErdosProj/PyMuPdf_Text/\"\n",
    "path1 = \"/home/kbari/git_repo/FinanceErdosProj/Tesseract_Text/\"\n",
    "\n",
    "## Load from txt from files to a dataframe; Other information to include possibly?\n",
    "\n",
    "#pd.read_table(file,header=None,quotechar=None,quoting=3,error_bad_lines=False) for file in DIR]\n",
    "def txt_to_df(path):\n",
    "    ''' Put all txt files into single dataframe'''\n",
    "    DIR = os.listdir(path)\n",
    "    raw_df_lst = []\n",
    "    for i in range(len(DIR)):\n",
    "        with open(path+DIR[i],encoding = \"ISO-8859-1\") as f:\n",
    "            lines = f.readlines()\n",
    "            data = '\\n'.join(map(str,lines))\n",
    "            #print(DIR[i])\n",
    "            p = proj_desc_preprocess(data)\n",
    "            if p is not None:\n",
    "                p = p.replace(\"\\n\",\"\")\n",
    "                l = len(p)\n",
    "            else:\n",
    "                l = 0\n",
    "            try:\n",
    "                c = proj_name_preprocess(data)\n",
    "                n = int(len(c))\n",
    "            except:\n",
    "                c = None\n",
    "                n = int(0)\n",
    "            di= pd.DataFrame([data,p,c],index=['raw_text','proj_desc','proj_name'],columns=[DIR[i]]).T\n",
    "            raw_df_lst.append(di)\n",
    "    #print(len(raw_df_lst))\n",
    "    df_raw = pd.concat(raw_df_lst)\n",
    "    return df_raw\n",
    "\n",
    "## Grab Project Description   \n",
    "def proj_desc_preprocess(text):\n",
    "    ''' Grab Project Description'''\n",
    "    if len(re.findall('Project Description',text,re.IGNORECASE)) > 0:\n",
    "        start = 'Project Description'\n",
    "        end = 'SCHEDULE'\n",
    "        try:\n",
    "            return text.split(start)[1].split(end)[0]\n",
    "        except:\n",
    "            return None\n",
    "    elif len(re.findall('Description of the Project',text,re.IGNORECASE)) > 0:\n",
    "        start = 'Description of the Project'\n",
    "        end = 'SCHEDULE'\n",
    "        try:\n",
    "            return text.split(start)[1].split(end)[0]\n",
    "        except:\n",
    "            return None\n",
    "    elif len(re.findall('Program Actions',text,re.IGNORECASE)) > 0:\n",
    "        start = 'Program Actions'\n",
    "        end = 'Section II'\n",
    "        try:\n",
    "            return text.split(start)[1].split(end)[0]\n",
    "        except:\n",
    "            return None\n",
    "    elif len(re.findall('Schedule 3',text,re.IGNORECASE)) > 0:\n",
    "        start = 'SCHEDULE 3'\n",
    "        #end = 'SCHEDULE 3'\n",
    "        try:\n",
    "            return text.split(start)[1]\n",
    "        except:\n",
    "            return None\n",
    "    elif len(re.findall('Schedule III',text,re.IGNORECASE)) > 0:\n",
    "        start = 'SCHEDULE III'\n",
    "        #end = 'SCHEDULE 3'\n",
    "        try:\n",
    "            return text.split(start)[1]\n",
    "        except:\n",
    "            return None\n",
    "    else:\n",
    "        #print('CASE 4')\n",
    "        return None\n",
    "    \n",
    "## Grab Project Name   \n",
    "def proj_name_preprocess(text):\n",
    "    start = 'agreement'\n",
    "    start1 = 'number'\n",
    "    end = 'between'\n",
    "    end1 = 'among'\n",
    "    t = text.lower().split(start)[1].split(end)[0].strip()\n",
    "    s = text.lower().split(start1)[1].split(end)[0].strip()\n",
    "    r = text.lower().split(start)[1].split(end1)[0].strip()\n",
    "    if 'date' in t:\n",
    "        if 'date' in s:\n",
    "            if 'date' in r:\n",
    "                return None\n",
    "            else:\n",
    "                return r\n",
    "        else:\n",
    "            return s\n",
    "    else:\n",
    "        return t\n",
    "\n",
    "\n",
    "\n",
    "df = txt_to_df(path)\n",
    "df1 = txt_to_df(path1)\n",
    "dF = pd.concat([df,df1])\n",
    "dF.fillna('',inplace=True)\n",
    "dF['corp'] = dF[['proj_desc', 'proj_name']].agg(' '.join, axis=1)\n",
    "## Drop null proj desc/proj_name\n",
    "dG = dF[dF['corp'].map(len)!=0]\n",
    "dG.info()\n"
   ]
  },
  {
   "cell_type": "markdown",
   "metadata": {},
   "source": [
    "### Explore project description lengths and common words"
   ]
  },
  {
   "cell_type": "code",
   "execution_count": 3,
   "metadata": {},
   "outputs": [
    {
     "name": "stdout",
     "output_type": "stream",
     "text": [
      "The average number of words in a document is: 538.5753510140405.\n",
      "The minimum number of words in a document is: 2.\n",
      "The maximum number of words in a document is: 6604.\n"
     ]
    }
   ],
   "source": [
    "document_lengths = np.array(list(map(len, dG.corp.str.split(' '))))\n",
    "\n",
    "print(\"The average number of words in a document is: {}.\".format(np.mean(document_lengths)))\n",
    "print(\"The minimum number of words in a document is: {}.\".format(min(document_lengths)))\n",
    "print(\"The maximum number of words in a document is: {}.\".format(max(document_lengths)))"
   ]
  },
  {
   "cell_type": "code",
   "execution_count": 4,
   "metadata": {},
   "outputs": [
    {
     "name": "stderr",
     "output_type": "stream",
     "text": [
      "/home/kbari/.local/lib/python3.8/site-packages/seaborn/distributions.py:2619: FutureWarning: `distplot` is a deprecated function and will be removed in a future version. Please adapt your code to use either `displot` (a figure-level function with similar flexibility) or `histplot` (an axes-level function for histograms).\n",
      "  warnings.warn(msg, FutureWarning)\n"
     ]
    },
    {
     "data": {
      "image/png": "[encoded data removed]",
      "text/plain": [
       "<Figure size 1080x432 with 1 Axes>"
      ]
     },
     "metadata": {},
     "output_type": "display_data"
    }
   ],
   "source": [
    "fig, ax = plt.subplots(figsize=(15,6))\n",
    "\n",
    "ax.set_title(\"Distribution of number of words\", fontsize=16)\n",
    "ax.set_xlabel(\"Number of words\")\n",
    "sns.distplot(document_lengths, bins=50, ax=ax);"
   ]
  },
  {
   "cell_type": "markdown",
   "metadata": {},
   "source": [
    "### Function to tokenize texts in monograms. Additionally removes punctuation, numeric terms, non-english terms, non-english characters then lemmatizes."
   ]
  },
  {
   "cell_type": "code",
   "execution_count": 5,
   "metadata": {},
   "outputs": [],
   "source": [
    "W = ['policy','inter','selected','new','thereof','equipment','principal','amount','withdrawal','withdrawn','subject','plan','taken','least','schedule','training','carrying','technical','capacity','following','agree','upon','said','part','made','paragraph','implementation','borrower','date','strengthen','assistance','support','january','february','march','april','may','june','july','august','september','october','november','december','for','management','section','id','the','payment','objective','improvement','provision','bank','project','system','program','sector','time','loan','development','shall','set','forth','agreement','general','improve','improvement','down','strengthening']\n",
    "\n",
    "def text_preprocess(text):\n",
    "    '''\n",
    "    Remove all punctuation,stopwords, non-english words, numbers, lemmatize -> returns list of words\n",
    "    '''\n",
    "    stemmer = WordNetLemmatizer()\n",
    "    nopunc = [char for char in text if char not in string.punctuation]\n",
    "    nopunc = ''.join([i for i in nopunc if not i.isdigit()])\n",
    "    nopunc =  [word for word in nopunc.split() if word.isalnum()]\n",
    "    nopunc =  [word.lower() for word in nopunc if word not in stopwords.words('english')]\n",
    "    nopunc =  [word for word in nopunc if len(word)>2]\n",
    "    nopunc = [word for word in nopunc if word not in W]\n",
    "    nopunc = [w for w in nopunc if w.lower() in words or not w.isalpha()]\n",
    "    return [stemmer.lemmatize(word) for word in nopunc]"
   ]
  },
  {
   "cell_type": "code",
   "execution_count": 56,
   "metadata": {},
   "outputs": [
    {
     "name": "stdout",
     "output_type": "stream",
     "text": [
      "['objective', 'project', 'improve', 'living', 'condition', 'social', 'inclusion', 'disadvantage', 'vulnerable', 'people', 'project', 'consist', 'follow', 'part', 'part', 'priority', 'intervention', 'programsupport', 'rsdf', 'improve', 'living', 'condition', 'social', 'inclusion', 'roma', 'living', 'one_hundre', 'poor', 'settlement', 'finance', 'priority', 'intervention', 'sub', 'project', 'awarded_competitive', 'basis', 'ii', 'carry', 'promotion', 'information', 'education', 'campaign', 'monitor', 'evaluation', 'activity', 'provision', 'training', 'local', 'authority', 'community', 'group', 'ngo', 'provision', 'assistance', 'capacity', 'building', 'community', 'level', 'preparation', 'facilitation', 'evaluation', 'priority', 'intervention', 'sub', 'project', 'provision', 'training', 'relation_thereto', 'include', 'train', 'rsdf', 'provision', 'technical', 'assistance', 'poor', 'roma', 'community', 'prepare', 'project', 'finance', 'fund', 'part', 'inclusive', 'education', 'programsupport', 'mer', 'mainstream', 'roma', 'regular', 'policy', 'program', 'mer', 'construction', 'extension', 'rehabilitation', 'furnish', 'ece', 'infrastructure', 'community', 'high', 'percentage', 'development', 'inclusive', 'ece', 'curriculum', 'provision', 'training', 'ece', 'staff', 'development', 'distribution', 'ece', 'teach', 'learn', 'material', 'provision', 'technical', 'assistance', 'entity', 'entitle', 'submit', 'financing', 'application', 'project', 'finance', 'structural', 'fund', 'iii', 'promotion', 'integrate', 'service', 'alternative', 'community', 'base', 'solution', 'ece', 'include', 'development', 'coherent', 'ece', 'legislation', 'provision', 'training', 'counseling', 'program', 'parent', 'iv', 'carry', 'monitor', 'evaluation', 'information', 'education', 'communication', 'activity', 'part', 'social', 'assistance', 'program', 'disability', 'program', 'support', 'mlssf', 'naph', 'improve', 'quality', 'care', 'residential', 'service', 'increase', 'access', 'community', 'base', 'service', 'person', 'disability', 'need', 'financing', 'disability', 'sub', 'project', 'awarded_competitive', 'basis', 'iii', 'provision', 'train', 'professional', 'staff', 'implement', 'new', 'standard', 'care', 'development', 'monitoring', 'evaluation', 'system', 'naph', 'iv', 'provision', 'occupational_counsele', 'service', 'youth', 'risk', 'program', 'support', 'mlssf', 'enhance', 'social', 'integration', 'youth', 'age', 'graduate', 'child', 'care', 'system', 'financing', 'youth', 'risk', 'sub', 'project', 'awarded_competitive', 'basis', 'ii', 'carry', 'monitor', 'evaluation', 'activity', 'development', 'specific', 'methodology', 'iii', 'provision', 'training', 'staff', 'multi', 'functional', 'center', 'establish', 'youth', 'risk', 'sub', 'project', 'mlssf', 'staff', 'involve', 'supervise', 'function', 'multi', 'functional', 'center', 'iv', 'carry', 'public', 'awareness', 'activity', 'victim', 'domestic_violence', 'program', 'support', 'mlssf', 'nafp', 'develop', 'specialize', 'integrate', 'social', 'service', 'victim', 'domestic_violence', 'financing', 'domestic_violence', 'sub', 'project', 'awarded_competitive', 'basis', 'provision', 'training', 'staff', 'center', 'victim', 'domestic_violence', 'nafp', 'staff', 'iii', 'carry', 'monitor', 'evaluation', 'activity', 'development', 'specific', 'methodology', 'development', 'specific', 'management', 'information', 'system', 'regard', 'victim', 'aggressor', 'maintain', 'nafp', 'iv', 'carry', 'public', 'awareness', 'activity', 'part', 'iv', 'capacity', 'build', 'social', 'nar', 'regional', 'branch', 'coordinate', 'activity', 'aim', 'improve', 'inclusive', 'planning', 'monitor', 'evaluation', 'identification', 'preparation', 'implementation', 'program', 'finance', 'fund', 'provision', 'training', 'nar', 'staff', 'roma', 'ngo', 'local', 'authority', 'group', 'preparation', 'implementation', 'information', 'education', 'communication', 'strategy', 'strengthen', 'monitor', 'evaluation', 'system', 'social', 'inclusion', 'project']\n"
     ]
    }
   ],
   "source": [
    "stop_words = stopwords.words('english')\n",
    "data1 = dG.corp.values.tolist()\n",
    "\n",
    "def sent_to_words(sentences):\n",
    "    for sentence in sentences:\n",
    "        yield(gensim.utils.simple_preprocess(str(sentence), deacc=True))\n",
    "              \n",
    "def remove_stopwords(texts):\n",
    "    return [[word for word in simple_preprocess(str(doc)) if word not in stop_words] for doc in texts]\n",
    "\n",
    "def make_bigrams(texts):\n",
    "    return [bigram_mod[doc] for doc in texts]\n",
    "\n",
    "def make_trigrams(texts):\n",
    "    return [trigram_mod[bigram_mod[doc]] for doc in texts]\n",
    "\n",
    "def lemmatization(texts, allowed_postags=['NOUN', 'ADJ', 'VERB', 'ADV']):\n",
    "    \"\"\"https://spacy.io/api/annotation\"\"\"\n",
    "    texts_out = []\n",
    "    for sent in texts:\n",
    "        doc = nlp(\" \".join(sent)) \n",
    "        texts_out.append([token.lemma_ for token in doc if token.pos_ in allowed_postags])\n",
    "    return texts_out\n",
    "              \n",
    "data_words = list(sent_to_words(data1))\n",
    "bigram = gensim.models.Phrases(data_words, min_count=5, threshold=100)\n",
    "bigram_mod = gensim.models.phrases.Phraser(bigram)\n",
    "data_words_nostops = remove_stopwords(data_words)\n",
    "data_words_bigrams = make_bigrams(data_words_nostops)\n",
    "# Initialize spacy 'en' model\n",
    "#!{sys.executable} -m python3 -m spacy download en\n",
    "nlp = spacy.load('en_core_web_sm', disable=['parser', 'ner'])\n",
    "data_lemmatized = lemmatization(data_words_bigrams, allowed_postags=['NOUN', 'ADJ', 'VERB', 'ADV'])\n",
    "              \n",
    "print(data_lemmatized[0])"
   ]
  },
  {
   "cell_type": "code",
   "execution_count": 58,
   "metadata": {},
   "outputs": [
    {
     "name": "stdout",
     "output_type": "stream",
     "text": [
      "[(0, '0.051*\"project\" + 0.033*\"part\" + 0.024*\"time\" + 0.024*\"equipment\" + 0.023*\"objective\" + 0.021*\"provision\" + 0.020*\"system\" + 0.015*\"carry\" + 0.015*\"program\" + 0.013*\"sector\"'), (1, '0.069*\"bank\" + 0.045*\"mining\" + 0.022*\"paragraph\" + 0.021*\"borrower\" + 0.021*\"contract\" + 0.020*\"make\" + 0.018*\"procedure\" + 0.017*\"guideline\" + 0.015*\"respect\" + 0.015*\"accordance\"'), (2, '0.028*\"project\" + 0.019*\"development\" + 0.019*\"provision\" + 0.018*\"include\" + 0.018*\"management\" + 0.018*\"part\" + 0.017*\"support\" + 0.017*\"service\" + 0.015*\"carry\" + 0.014*\"training\"'), (3, '0.108*\"energy\" + 0.044*\"gas\" + 0.034*\"land\" + 0.029*\"efficiency\" + 0.024*\"electricity\" + 0.016*\"housing\" + 0.015*\"petroleum\" + 0.014*\"pipeline\" + 0.013*\"heat\" + 0.013*\"registration\"'), (4, '0.046*\"loan\" + 0.037*\"amount\" + 0.035*\"date\" + 0.028*\"bank\" + 0.027*\"borrower\" + 0.025*\"section\" + 0.024*\"mean\" + 0.020*\"agreement\" + 0.015*\"paragraph\" + 0.015*\"schedule\"'), (5, '0.055*\"disaster\" + 0.045*\"risk\" + 0.025*\"emergency\" + 0.024*\"add\" + 0.021*\"riskmanagement\" + 0.020*\"reconstruction\" + 0.014*\"disaster_risk\" + 0.014*\"emergency_response\" + 0.012*\"resilience\" + 0.011*\"climate\"'), (6, '0.034*\"agricultural\" + 0.032*\"geological\" + 0.026*\"research\" + 0.022*\"rural\" + 0.021*\"forest\" + 0.019*\"production\" + 0.018*\"environmental\" + 0.017*\"land\" + 0.017*\"resource\" + 0.016*\"farm\"'), (7, '0.186*\"road\" + 0.053*\"safety\" + 0.048*\"transport\" + 0.038*\"maintenance\" + 0.027*\"traffic\" + 0.025*\"highway\" + 0.022*\"work\" + 0.020*\"rehabilitation\" + 0.020*\"network\" + 0.019*\"improvement\"'), (8, '0.055*\"water\" + 0.025*\"management\" + 0.022*\"project\" + 0.021*\"construction\" + 0.019*\"part\" + 0.017*\"urban\" + 0.017*\"area\" + 0.015*\"supply\" + 0.015*\"include\" + 0.014*\"environmental\"'), (9, '0.159*\"health\" + 0.044*\"care\" + 0.023*\"thebank\" + 0.019*\"hospital\" + 0.016*\"service\" + 0.013*\"financing\" + 0.013*\"medical\" + 0.012*\"facility\" + 0.012*\"sub\" + 0.011*\"primary\"'), (10, '0.048*\"borrower\" + 0.019*\"law\" + 0.018*\"borrowera\" + 0.017*\"public\" + 0.014*\"budget\" + 0.013*\"policy\" + 0.012*\"date\" + 0.012*\"program\" + 0.011*\"financial\" + 0.011*\"tax\"')]\n",
      "\n",
      "Perplexity:  -7.796957166225135\n",
      "\n",
      "Coherence Score:  0.5608763928028254\n"
     ]
    }
   ],
   "source": [
    "# Create Dictionary\n",
    "id2word = corpora.Dictionary(data_lemmatized)\n",
    "\n",
    "# Create Corpus\n",
    "texts = data_lemmatized\n",
    "\n",
    "# Term Document Frequency\n",
    "corpus = [id2word.doc2bow(text) for text in texts]\n",
    "\n",
    "lda_model = gensim.models.ldamodel.LdaModel(corpus=corpus,\n",
    "                                           id2word=id2word,\n",
    "                                           num_topics=11, \n",
    "                                           random_state=100,\n",
    "                                           update_every=1,\n",
    "                                           chunksize=100,\n",
    "                                           passes=10,\n",
    "                                           alpha='auto',\n",
    "                                           per_word_topics=True)\n",
    "\n",
    "print(lda_model.print_topics())\n",
    "\n",
    "# Compute Perplexity\n",
    "print('\\nPerplexity: ', lda_model.log_perplexity(corpus))  # a measure of how good the model is. lower the better.\n",
    "\n",
    "# Compute Coherence Score\n",
    "coherence_model_lda = CoherenceModel(model=lda_model, texts=data_lemmatized, dictionary=id2word, coherence='c_v')\n",
    "coherence_lda = coherence_model_lda.get_coherence()\n",
    "print('\\nCoherence Score: ', coherence_lda)"
   ]
  },
  {
   "cell_type": "markdown",
   "metadata": {},
   "source": [
    "### Same function as above but for bigrams"
   ]
  },
  {
   "cell_type": "code",
   "execution_count": 6,
   "metadata": {},
   "outputs": [],
   "source": [
    "#W = ['principal','amount','withdrawal','withdrawn','subject','plan','taken','least','schedule','training','carrying','technical','capacity','following','agree','upon','said','part','made','paragraph','implementation','borrower','date','strengthen','assistance','support','january','february','march','april','may','june','july','august','september','october','november','december','for','management','section','id','the','payment','objective','improvement','provision','bank','project','system','program','sector','time','loan','development','shall','set','forth','agreement','general','improve','improvement','down','strengthening']\n",
    "\n",
    "\n",
    "def text_preprocess_2(text):\n",
    "    '''\n",
    "    Remove all punctuation,stopwords, non-english words, numbers, lemmatize -> returns list of words\n",
    "    '''\n",
    "    bigrm = nltk.bigrams(text)\n",
    "    B = [b for b in bigrm]\n",
    "    return B\n",
    "\n",
    "# Build the bigram and trigram models\n",
    "#bigram = gensim.models.Phrases(list(dictionary.values()), min_count=5, threshold=100) # higher threshold fewer phrases.\n",
    "#trigram = gensim.models.Phrases(bigram[data_words], threshold=100)\n",
    "# Faster way to get a sentence clubbed as a trigram/bigram\n",
    "#bigram_mod = gensim.models.phrases.Phraser(bigram)\n",
    "#trigram_mod = gensim.models.phrases.Phraser(trigram)\n",
    "# See trigram example\n",
    "#print(bigram_mod[data_words[0]])"
   ]
  },
  {
   "cell_type": "code",
   "execution_count": 7,
   "metadata": {},
   "outputs": [],
   "source": [
    "docLabels= dG.index\n",
    "data = dG.corp"
   ]
  },
  {
   "cell_type": "markdown",
   "metadata": {},
   "source": [
    "### Example to see how processing performs"
   ]
  },
  {
   "cell_type": "code",
   "execution_count": 8,
   "metadata": {},
   "outputs": [
    {
     "name": "stdout",
     "output_type": "stream",
     "text": [
      "['facilitate', 'reduction', 'pollution', 'attributable', 'petroleum', 'meeting', 'gasoline', 'diesel', 'oil', 'established', 'improving', 'refinery', 'appropriate', 'reduce', 'refinery', 'safety', 'strategy', 'abate', 'concentration', 'achieve', 'meeting', 'fuel', 'refinery', 'meet', 'fuel', 'acquisition', 'installation', 'deep', 'gas', 'oil', 'enable', 'production', 'diesel', 'oil', 'acquisition', 'installation', 'fluid', 'catalytic', 'cracker', 'stream', 'per', 'naphtha', 'reformer', 'produce', 'low', 'aromatic', 'low', 'benzene', 'content', 'gasoline', 'utility', 'power', 'plant', 'acquisition', 'environmental', 'safety', 'refinery', 'identification', 'process', 'refinery', 'toa', 'reduce', 'gaseous', 'liquid', 'solid', 'environment', 'enhance', 'refinery', 'operating', 'safety', 'acquisition', 'installation', 'pursuant', 'acquisition', 'acquisition', 'ambient', 'air', 'quality', 'mobile', 'clean', 'environmental', 'public', 'disclosure', 'authorized']\n"
     ]
    }
   ],
   "source": [
    "i = 3150\n",
    "#print(data[i])\n",
    "print(text_preprocess(data[i]))\n",
    "#print(text_preprocess_2(text_preprocess(data[i])))"
   ]
  },
  {
   "cell_type": "markdown",
   "metadata": {},
   "source": [
    "### Add column of processed text as well as create bag of words for each"
   ]
  },
  {
   "cell_type": "code",
   "execution_count": 9,
   "metadata": {},
   "outputs": [],
   "source": [
    "## Add column of processed textx\n",
    "def lem_stem(df):\n",
    "    df['stem'] = list(map(lambda sentence: text_preprocess(sentence),df.corp))\n",
    "    return\n",
    "    \n",
    "def lem_stem2(df):\n",
    "    df['stem2'] = list(map(lambda sentence: text_preprocess_2(sentence),df.corp))\n",
    "    return\n",
    "\n",
    "lem_stem(dG)"
   ]
  },
  {
   "cell_type": "markdown",
   "metadata": {},
   "source": [
    "### Word frequency"
   ]
  },
  {
   "cell_type": "code",
   "execution_count": 10,
   "metadata": {},
   "outputs": [
    {
     "name": "stderr",
     "output_type": "stream",
     "text": [
      "/home/kbari/.local/lib/python3.8/site-packages/seaborn/_decorators.py:36: FutureWarning: Pass the following variables as keyword args: x, y. From version 0.12, the only valid positional argument will be `data`, and passing other arguments without an explicit keyword will result in an error or misinterpretation.\n",
      "  warnings.warn(\n"
     ]
    },
    {
     "data": {
      "image/png": "[encoded data removed]",
      "text/plain": [
       "<Figure size 1440x360 with 1 Axes>"
      ]
     },
     "metadata": {},
     "output_type": "display_data"
    }
   ],
   "source": [
    "token_dict = Counter(np.concatenate(dG.stem.values))\n",
    "\n",
    "token_df = pd.DataFrame.from_dict(token_dict, orient='index')\n",
    "token_df.rename(columns={0: 'count'}, inplace=True)\n",
    "token_df.sort_values('count', ascending=False, inplace=True)\n",
    "\n",
    "def word_frequency_barplot(df, nr_top_words=50):\n",
    "    \"\"\" df should have a column named count.\n",
    "    \"\"\"\n",
    "    fig, ax = plt.subplots(1,1,figsize=(20,5))\n",
    "\n",
    "    sns.barplot(list(range(nr_top_words)), df['count'].values[:nr_top_words], palette='hls', ax=ax)\n",
    "\n",
    "    ax.set_xticks(list(range(nr_top_words)))\n",
    "    ax.set_xticklabels(df.index[:nr_top_words], fontsize=14, rotation=90)\n",
    "    return ax\n",
    "    \n",
    "ax = word_frequency_barplot(token_df)\n",
    "ax.set_title(\"Word Frequencies\", fontsize=16);"
   ]
  },
  {
   "cell_type": "code",
   "execution_count": 60,
   "metadata": {},
   "outputs": [
    {
     "name": "stdout",
     "output_type": "stream",
     "text": [
      "Found 847 words.\n"
     ]
    }
   ],
   "source": [
    "dictionary = Dictionary(documents=dG.stem.values)\n",
    "\n",
    "print(\"Found {} words.\".format(len(dictionary.values())))"
   ]
  },
  {
   "cell_type": "code",
   "execution_count": 61,
   "metadata": {},
   "outputs": [
    {
     "name": "stdout",
     "output_type": "stream",
     "text": [
      "Left with 384 words.\n"
     ]
    }
   ],
   "source": [
    "dictionary.filter_extremes(no_above=0.8, no_below=3)\n",
    "\n",
    "dictionary.compactify() \n",
    "print(\"Left with {} words.\".format(len(dictionary.values())))"
   ]
  },
  {
   "cell_type": "markdown",
   "metadata": {},
   "source": [
    "### Create column for bag of words to run LDA"
   ]
  },
  {
   "cell_type": "code",
   "execution_count": 13,
   "metadata": {},
   "outputs": [],
   "source": [
    "# Bag of Words for each lemmatized document\n",
    "def document_to_bow(df):\n",
    "    df['bow'] = list(map(lambda doc: dictionary.doc2bow(doc), df.stem))\n",
    "    \n",
    "document_to_bow(dG)"
   ]
  },
  {
   "cell_type": "markdown",
   "metadata": {},
   "source": [
    "## Train LDA Model on 2941 documents"
   ]
  },
  {
   "cell_type": "code",
   "execution_count": 59,
   "metadata": {},
   "outputs": [],
   "source": [
    "corpus = dG.bow\n",
    "num_topics = 11"
   ]
  },
  {
   "cell_type": "code",
   "execution_count": 15,
   "metadata": {},
   "outputs": [
    {
     "name": "stdout",
     "output_type": "stream",
     "text": [
      "CPU times: user 6.51 s, sys: 311 ms, total: 6.82 s\n",
      "Wall time: 6.76 s\n"
     ]
    }
   ],
   "source": [
    "%%time\n",
    "#LDA multicore approach\n",
    "LDAmodel = LdaMulticore(corpus=corpus,\n",
    "                        id2word=dictionary,\n",
    "                        num_topics=num_topics,\n",
    "                        workers=4,\n",
    "                        chunksize=4000,\n",
    "                        passes=7,\n",
    "                        alpha='asymmetric')"
   ]
  },
  {
   "cell_type": "code",
   "execution_count": 16,
   "metadata": {},
   "outputs": [
    {
     "data": {
      "text/plain": [
       "[(0,\n",
       "  '0.048*\"power\" + 0.047*\"energy\" + 0.039*\"highway\" + 0.033*\"efficiency\" + 0.027*\"additional\" + 0.027*\"social\" + 0.026*\"agricultural\" + 0.023*\"state\" + 0.023*\"irrigation\" + 0.022*\"agriculture\"'),\n",
       " (1,\n",
       "  '0.117*\"second\" + 0.107*\"water\" + 0.088*\"rural\" + 0.054*\"supply\" + 0.039*\"investment\" + 0.037*\"sanitation\" + 0.034*\"education\" + 0.033*\"reform\" + 0.030*\"additional\" + 0.029*\"municipal\"'),\n",
       " (2,\n",
       "  '0.042*\"reduction\" + 0.037*\"poverty\" + 0.037*\"rural\" + 0.034*\"second\" + 0.034*\"waste\" + 0.033*\"export\" + 0.031*\"additional\" + 0.031*\"housing\" + 0.031*\"solid\" + 0.029*\"basin\"'),\n",
       " (3,\n",
       "  '0.116*\"infrastructure\" + 0.102*\"rehabilitation\" + 0.074*\"road\" + 0.059*\"small\" + 0.045*\"transmission\" + 0.045*\"finance\" + 0.038*\"medium\" + 0.036*\"second\" + 0.029*\"electricity\" + 0.029*\"maintenance\"'),\n",
       " (4,\n",
       "  '0.085*\"national\" + 0.081*\"modernization\" + 0.059*\"administration\" + 0.043*\"additional\" + 0.042*\"quality\" + 0.040*\"land\" + 0.040*\"innovation\" + 0.038*\"technology\" + 0.031*\"rural\" + 0.030*\"education\"'),\n",
       " (5,\n",
       "  '0.196*\"policy\" + 0.073*\"public\" + 0.063*\"programmatic\" + 0.059*\"second\" + 0.050*\"first\" + 0.041*\"competitiveness\" + 0.039*\"fiscal\" + 0.037*\"growth\" + 0.036*\"third\" + 0.033*\"reform\"'),\n",
       " (6,\n",
       "  '0.221*\"adjustment\" + 0.197*\"financial\" + 0.080*\"structural\" + 0.068*\"social\" + 0.058*\"enterprise\" + 0.054*\"control\" + 0.036*\"pollution\" + 0.030*\"fund\" + 0.022*\"coastal\" + 0.014*\"one\"'),\n",
       " (7,\n",
       "  '0.208*\"health\" + 0.170*\"education\" + 0.096*\"reform\" + 0.067*\"basic\" + 0.055*\"secondary\" + 0.029*\"care\" + 0.028*\"rio\" + 0.023*\"public\" + 0.020*\"primary\" + 0.019*\"insurance\"'),\n",
       " (8,\n",
       "  '0.254*\"urban\" + 0.175*\"environment\" + 0.067*\"local\" + 0.047*\"railway\" + 0.044*\"river\" + 0.043*\"decentralization\" + 0.033*\"transformation\" + 0.026*\"national\" + 0.025*\"government\" + 0.025*\"delivery\"'),\n",
       " (9,\n",
       "  '0.318*\"private\" + 0.213*\"institutional\" + 0.062*\"safety\" + 0.040*\"learning\" + 0.039*\"equity\" + 0.034*\"regulatory\" + 0.033*\"reform\" + 0.027*\"accountability\" + 0.002*\"road\" + 0.001*\"rehabilitation\"'),\n",
       " (10,\n",
       "  '0.311*\"transport\" + 0.141*\"urban\" + 0.096*\"additional\" + 0.049*\"trade\" + 0.041*\"safety\" + 0.040*\"provincial\" + 0.039*\"social\" + 0.037*\"integration\" + 0.030*\"facilitation\" + 0.026*\"net\"')]"
      ]
     },
     "execution_count": 16,
     "metadata": {},
     "output_type": "execute_result"
    }
   ],
   "source": [
    "LDAmodel.print_topics()"
   ]
  },
  {
   "cell_type": "code",
   "execution_count": 66,
   "metadata": {},
   "outputs": [
    {
     "name": "stdout",
     "output_type": "stream",
     "text": [
      "\n",
      "Perplexity:  -5.469372820600691\n",
      "\n",
      "Coherence Score:  0.5328872802209528\n"
     ]
    }
   ],
   "source": [
    "# Compute Perplexity\n",
    "print('\\nPerplexity: ', LDAmodel.log_perplexity(corpus))  \n",
    "# a measure of how good the model is. lower the better.\n",
    "\n",
    "# Compute Coherence Score\n",
    "coherence_model_lda = CoherenceModel(model=LDAmodel, texts=dG.stem.values.tolist(), dictionary=dictionary, coherence='c_v')\n",
    "coherence_lda = coherence_model_lda.get_coherence()\n",
    "print('\\nCoherence Score: ', coherence_lda)"
   ]
  },
  {
   "cell_type": "markdown",
   "metadata": {},
   "source": [
    "## Visualize output of model\n",
    "Adjusting lambda to values close to 0 highlights potentially rare but more exclusive terms for the selected topic. Larger lambda values (closer to 1) highlight more frequently occurring terms in the document that might not be exclusive to the topic. \n",
    "http://www.kennyshirley.com/LDAvis/"
   ]
  },
  {
   "cell_type": "code",
   "execution_count": 18,
   "metadata": {},
   "outputs": [
    {
     "name": "stderr",
     "output_type": "stream",
     "text": [
      "/home/kbari/.local/lib/python3.8/site-packages/pyLDAvis/_prepare.py:246: FutureWarning: In a future version of pandas all arguments of DataFrame.drop except for the argument 'labels' will be keyword-only\n",
      "  default_term_info = default_term_info.sort_values(\n"
     ]
    },
    {
     "data": {
      "text/html": [
       "\n",
       "<link rel=\"stylesheet\" type=\"text/css\" href=\"https://cdn.jsdelivr.net/gh/bmabey/pyLDAvis@3.3.1/pyLDAvis/js/ldavis.v1.0.0.css\">\n",
       "\n",
       "\n",
       "<div id=\"ldavis_el2599001396697247978569961231415\"></div>\n",
       "<script type=\"text/javascript\">\n",
       "\n",
       "var ldavis_el2599001396697247978569961231415_data = {\"mdsDat\": {\"x\": [0.010460685870592604, 0.19193850496485446, 0.103387898904368, 0.026887598872586467, 0.08379542393084485, -0.000299322239757548, -0.00916214020917374, 0.16779973859574204, -0.2644812777673999, -0.29108550162935964, -0.019241609293297216], \"y\": [0.007148079387666568, 0.030447264574476277, -0.09678141280136307, -0.014844124180030739, 0.06671790383812053, -0.1848068056829449, 0.3521492771610146, -0.12182026003222313, -0.07706286598355665, -0.010572826985087916, 0.049425770703928666], \"topics\": [1, 2, 3, 4, 5, 6, 7, 8, 9, 10, 11], \"cluster\": [1, 1, 1, 1, 1, 1, 1, 1, 1, 1, 1], \"Freq\": [18.66739126575557, 17.830667158330364, 14.67290675151908, 9.030313940108261, 8.527691150087088, 8.374139101071504, 6.382269769651883, 6.003094059081927, 4.160028401589053, 3.880054328311844, 2.471444074493425]}, \"tinfo\": {\"Term\": [\"policy\", \"urban\", \"transport\", \"adjustment\", \"health\", \"financial\", \"education\", \"private\", \"infrastructure\", \"environment\", \"water\", \"institutional\", \"rural\", \"second\", \"additional\", \"rehabilitation\", \"reform\", \"modernization\", \"national\", \"public\", \"programmatic\", \"social\", \"road\", \"structural\", \"first\", \"supply\", \"power\", \"small\", \"administration\", \"energy\", \"agriculture\", \"irrigation\", \"prevention\", \"power\", \"efficiency\", \"renewable\", \"conservation\", \"institution\", \"research\", \"geothermal\", \"enhancement\", \"tourism\", \"solar\", \"revenue\", \"earthquake\", \"inland\", \"dam\", \"energy\", \"highway\", \"gas\", \"da\", \"equitable\", \"strategic\", \"income\", \"state\", \"drought\", \"abatement\", \"efficient\", \"gateway\", \"prosperity\", \"west\", \"sewerage\", \"regional\", \"agricultural\", \"forestry\", \"emergency\", \"protection\", \"recovery\", \"reconstruction\", \"fourth\", \"social\", \"modernization\", \"estado\", \"additional\", \"service\", \"third\", \"rehabilitation\", \"water\", \"second\", \"supply\", \"first\", \"authorized\", \"policy\", \"option\", \"drawdown\", \"deferred\", \"green\", \"programmatic\", \"growth\", \"disclosure\", \"expenditure\", \"competitiveness\", \"fiscal\", \"town\", \"public\", \"sustaining\", \"inclusive\", \"economic\", \"promote\", \"supplemental\", \"consolidation\", \"catastrophe\", \"operation\", \"environmental\", \"performance\", \"disaster\", \"lake\", \"international\", \"inclusion\", \"third\", \"risk\", \"resilience\", \"second\", \"employment\", \"reform\", \"social\", \"sustainable\", \"recovery\", \"climate\", \"finance\", \"sanitation\", \"watershed\", \"vocational\", \"youth\", \"early\", \"credit\", \"bay\", \"northern\", \"petroleum\", \"childhood\", \"heritage\", \"cultural\", \"forest\", \"supply\", \"investment\", \"agrarian\", \"water\", \"pension\", \"sao\", \"federal\", \"linha\", \"student\", \"authority\", \"southwest\", \"field\", \"socioeconomic\", \"essential\", \"justice\", \"tuberculosis\", \"special\", \"improving\", \"rural\", \"industrial\", \"higher\", \"municipal\", \"second\", \"line\", \"partnership\", \"tertiary\", \"education\", \"finance\", \"reform\", \"additional\", \"oil\", \"rehabilitation\", \"phase\", \"health\", \"national\", \"poverty\", \"economic\", \"sustainable\", \"protection\", \"adjustment\", \"waste\", \"solid\", \"export\", \"western\", \"transit\", \"basin\", \"refer\", \"city\", \"preparedness\", \"mass\", \"affordable\", \"intermediation\", \"electrification\", \"disposal\", \"resource\", \"reduction\", \"transition\", \"housing\", \"crisis\", \"approach\", \"jordan\", \"autonomous\", \"excellency\", \"amman\", \"economy\", \"labor\", \"safe\", \"hazard\", \"response\", \"vulnerability\", \"poverty\", \"mitigation\", \"natural\", \"rio\", \"region\", \"flood\", \"risk\", \"rural\", \"municipal\", \"additional\", \"emergency\", \"second\", \"sustainable\", \"disaster\", \"finance\", \"policy\", \"small\", \"medium\", \"transmission\", \"road\", \"infrastructure\", \"maintenance\", \"distribution\", \"micro\", \"district\", \"heating\", \"grid\", \"electricity\", \"school\", \"village\", \"reinforcement\", \"transparency\", \"hard\", \"term\", \"knowledge\", \"pilot\", \"based\", \"building\", \"rehabilitation\", \"access\", \"judicial\", \"community\", \"disease\", \"coal\", \"china\", \"resilience\", \"finance\", \"enterprise\", \"third\", \"second\", \"highway\", \"reform\", \"additional\", \"market\", \"land\", \"innovation\", \"tax\", \"administration\", \"port\", \"nutrition\", \"empowerment\", \"cadastre\", \"technology\", \"real\", \"registration\", \"science\", \"quality\", \"lifeline\", \"estate\", \"child\", \"information\", \"southeast\", \"farmer\", \"iodine\", \"deficiency\", \"reuse\", \"property\", \"superior\", \"life\", \"south\", \"storage\", \"ecological\", \"network\", \"national\", \"modernization\", \"governance\", \"community\", \"phase\", \"access\", \"additional\", \"sustainable\", \"education\", \"rural\", \"agricultural\", \"reform\", \"higher\", \"protection\", \"structural\", \"adjustment\", \"financial\", \"coastal\", \"one\", \"industry\", \"rate\", \"demonstration\", \"single\", \"control\", \"floating\", \"fund\", \"enterprise\", \"pollution\", \"currency\", \"security\", \"poor\", \"mine\", \"alleviation\", \"social\", \"china\", \"pilot\", \"response\", \"housing\", \"poverty\", \"mitigation\", \"investment\", \"reform\", \"disclosure\", \"central\", \"agricultural\", \"care\", \"coral\", \"primary\", \"basic\", \"upper\", \"secondary\", \"health\", \"guarantee\", \"reef\", \"foster\", \"supporting\", \"universal\", \"teacher\", \"better\", \"insurance\", \"initiative\", \"education\", \"facility\", \"rio\", \"do\", \"reform\", \"flood\", \"service\", \"inclusive\", \"consolidation\", \"delivery\", \"phase\", \"poor\", \"public\", \"third\", \"rehabilitation\", \"environment\", \"river\", \"railway\", \"local\", \"decentralization\", \"shanghai\", \"statistic\", \"government\", \"transformation\", \"urban\", \"delta\", \"delivery\", \"initiative\", \"network\", \"human\", \"service\", \"national\", \"phase\", \"economic\", \"state\", \"additional\", \"social\", \"electricity\", \"water\", \"central\", \"custom\", \"enhance\", \"sixth\", \"rapid\", \"bus\", \"authorized\", \"disclosure\", \"rehabilitation\", \"second\", \"public\", \"health\", \"transport\", \"net\", \"facilitation\", \"integration\", \"trade\", \"rail\", \"adaptation\", \"metropolitan\", \"provincial\", \"safety\", \"logistics\", \"urban\", \"climate\", \"additional\", \"social\", \"service\", \"modernization\", \"red\", \"central\", \"custom\", \"enhance\", \"sixth\", \"rapid\", \"bus\", \"living\", \"treasury\", \"equilibrio\", \"north\", \"cyclone\", \"pipeline\", \"rehabilitation\", \"agricultural\", \"expenditure\", \"public\", \"national\", \"administration\", \"first\", \"policy\", \"southeast\", \"international\", \"manila\", \"dam\", \"center\", \"institutional\", \"private\", \"learning\", \"regulatory\", \"equity\", \"safety\", \"accountability\", \"reform\", \"custom\", \"central\", \"enhance\", \"sixth\", \"rapid\", \"bus\", \"living\", \"treasury\", \"equilibrio\", \"red\", \"north\", \"cyclone\", \"pipeline\", \"heat\", \"mountainous\", \"northwest\", \"ose\", \"freight\", \"concentrated\", \"competitive\", \"stabilization\", \"post\", \"road\", \"rehabilitation\", \"ministry\", \"work\", \"dam\", \"business\", \"transfer\", \"credit\", \"bay\", \"building\", \"performance\", \"justice\", \"partnership\", \"investment\", \"agriculture\", \"estado\", \"da\", \"phase\", \"public\", \"second\", \"social\"], \"Freq\": [284.0, 133.0, 95.0, 118.0, 112.0, 106.0, 136.0, 64.0, 80.0, 57.0, 145.0, 42.0, 146.0, 279.0, 162.0, 107.0, 160.0, 87.0, 85.0, 125.0, 93.0, 126.0, 51.0, 42.0, 70.0, 71.0, 72.0, 39.0, 40.0, 75.0, 31.14744982640917, 32.33138429345715, 15.648508469964447, 68.11774539030074, 47.148012734288635, 13.875898096799126, 12.166693672887188, 10.443658671043064, 9.593270045237155, 8.706806304142733, 8.686802670552634, 7.863306871872856, 7.863306211229057, 7.841756010505486, 7.810524074907486, 6.998310090383329, 6.976788957986916, 66.70834376495286, 55.52174687879318, 12.127802893727313, 6.081302143885671, 6.058474258054823, 5.245434138460011, 5.233675009159606, 33.189925263742786, 4.403264582157533, 4.403237165439875, 4.403319085270951, 4.4032173461259045, 4.402719881345253, 8.70896066357129, 20.746511686628818, 27.851019607058536, 36.466937840553044, 12.269254658820051, 30.98780128851661, 25.302168625512525, 26.6776237298923, 12.122770109266487, 14.785567611977427, 38.0531911683196, 29.523301970331637, 12.434784247811358, 38.682213912529825, 11.73798077111073, 18.726762395980998, 18.961323976818022, 18.27839137732132, 21.12023391986363, 10.736356245548803, 67.17491754052018, 21.38079504243692, 264.9633352315333, 13.617184129954335, 13.617088213102996, 11.842469967416783, 11.77086298963691, 85.45509939831835, 49.67649840717725, 24.821203769454623, 9.899679191801358, 55.52351898922595, 52.971211961138735, 3.676001968991373, 99.05572525077838, 3.582361880807874, 19.82874553996361, 43.879773593017504, 2.754507638608717, 2.702994610152442, 7.418021866076373, 7.315919008857961, 16.48043465912498, 26.969067297360425, 6.630059884071433, 15.690751222051272, 2.773284939838111, 2.7890818773249135, 13.475434168441344, 48.891625957436496, 15.364825761201466, 8.738984325493197, 79.67110628411001, 8.650559716101254, 44.99915353767524, 30.23823667933374, 17.838198268892047, 13.908216049938092, 8.48501290997745, 9.81152718819743, 41.7885448925006, 10.96089633572246, 6.468136657840564, 6.417455128924808, 7.199637808320153, 16.06510892741047, 5.555547704299585, 5.533205250783916, 5.522710123930264, 5.4882212396475, 7.772430477989195, 7.772427881599394, 7.686012759130268, 59.671385281043726, 43.97853114496357, 4.608032634433351, 119.58151379707012, 3.7315592033854705, 3.7057547237091315, 3.699358257795358, 2.819321281745588, 2.8193101172694437, 2.819038534896258, 2.8188523737475255, 2.7968118803657136, 2.796740220007206, 2.796448645432552, 5.556095023269639, 2.7834840922391586, 2.7397554355715323, 8.241336918218101, 98.53284339635691, 18.479058725552818, 13.702099258608056, 32.72111670840632, 130.47358918617104, 6.417859127177845, 4.290982542691141, 4.81151118386071, 38.099124835946576, 24.865145311457717, 36.88226132667927, 33.53484396605008, 5.4753161437805495, 13.934560268828193, 9.504732925499148, 12.983970034881642, 11.50477145434375, 7.711300037958245, 8.046018302657362, 7.513853421316598, 6.8348289436611855, 6.550566321965136, 23.061238354021057, 20.94101719631779, 22.71177839182383, 10.52451017811675, 11.458643489438547, 19.841033257511246, 8.45214114304921, 7.398860098704066, 7.327700631587375, 6.409128560049852, 6.407309481415742, 10.8330363968545, 6.3565913192173475, 5.3742856609465095, 10.68050416062026, 29.05374869074769, 6.196862025562138, 21.24133902526375, 4.313477108142505, 4.2863277110720714, 4.264696910251428, 4.261110206191235, 4.261139927609537, 4.221942170646982, 5.033945380390703, 4.992481445178943, 4.166052801249267, 4.160558813055489, 9.02093366724648, 5.731365811294074, 25.305804977513862, 8.848611440615432, 13.54924805276721, 12.31535538235118, 6.358319635670838, 8.903628662157827, 11.620374025259391, 25.16445630377471, 13.379075355808162, 21.603840617977625, 12.21727725863732, 23.138695565966238, 12.071839173407994, 8.53365325128912, 10.476548757362107, 7.422527296056078, 38.082293241061556, 24.77426113452046, 29.283400918046727, 48.10842332578676, 75.48553796990096, 18.524866991816033, 13.694794866434833, 9.065003204824528, 12.551348077292365, 13.326877530439056, 6.081842377287876, 18.778779834693122, 5.00431352737008, 4.026860324738504, 3.0987745032865615, 3.8164666370418385, 3.049216989875557, 3.049326240459297, 3.782319491882032, 11.93473778266361, 2.90266638570408, 11.344016858409317, 66.21810429810509, 16.409597026670916, 4.051657792869951, 15.51419614298038, 2.0697898827054404, 4.276170156833262, 2.0628841593431764, 6.503023296220424, 29.092928259442637, 12.807225016299233, 13.610572927475816, 23.537220999992748, 6.753521605659847, 6.994091994649788, 6.245449049802082, 3.9648295333551906, 25.602583892121835, 25.528597475385766, 17.171074675537387, 37.544637861636225, 9.390076198103024, 10.238435283628807, 9.333661140433646, 6.780076489129222, 24.291957883468598, 6.756056272358174, 6.756114359495585, 6.61350273171608, 26.687478542990526, 4.858149151803914, 4.840634101696956, 5.59408354650103, 10.942616166842676, 3.9186252677417284, 3.894632019998764, 3.8950018809553373, 3.894993286429904, 2.973089068594604, 2.9490540336762576, 2.949250818672383, 2.9492579313830865, 5.543902187037231, 4.727289500283992, 3.8946969234839317, 3.918828869085611, 53.83472744765164, 51.55173698416714, 8.866878238735467, 13.407066105790605, 14.19670857900859, 10.298459449254235, 27.234528977701714, 15.274801107541327, 18.966825488615026, 19.47372585685768, 11.737036010749732, 11.07934143378928, 5.808400781784402, 5.260042793755587, 38.986605386709066, 107.0229631523325, 95.61680838831332, 10.558162231691052, 6.935836596628663, 5.942085070713648, 5.902541527296184, 4.978079743470645, 4.976804480458084, 26.405831746542507, 3.058427866580428, 14.425808626871083, 28.249375086606058, 17.34163810123457, 4.568297035729257, 5.895193970477446, 6.188988729023288, 2.0842852599773942, 4.612434778522471, 32.76682377661911, 1.1023767849900432, 3.035755921814438, 1.376313489419998, 2.689370003275933, 3.575533917703539, 1.1335830084784186, 3.14351700159686, 6.706313648346748, 1.016859851860648, 0.09187579266267476, 0.6916397757559059, 13.226322791671596, 7.222914178559506, 8.983849543932466, 30.4404588569268, 6.125751524254964, 25.192431847407764, 94.72131059679, 4.1759280553227995, 4.176105239498044, 4.10760762193723, 7.2246401308852715, 3.162071494079176, 3.1620443003448457, 3.1600838020604827, 8.884800615655944, 4.197969001899471, 77.54247114889111, 5.063537067585632, 12.63850218058724, 2.147360879616746, 43.732559042922, 4.253195652205082, 4.595965875002828, 4.676222233248831, 1.7740898032275385, 2.56567997030669, 5.579383937038005, 1.298548615749986, 10.556617014803871, 7.5511077099521025, 5.94210628769419, 55.463188063970385, 13.964398550155533, 14.820111982644422, 21.04432131259907, 13.712151193344585, 6.098284699045783, 4.09447148954979, 8.041026544305119, 10.342612747584043, 80.30277037251614, 2.1059696259467247, 7.804352592961034, 2.106079013735171, 1.1118619435639785, 3.0995293388158793, 3.7475758703058744, 8.28127687271104, 3.3933178492791365, 3.3008361422900183, 2.0996048172386184, 6.280185254947514, 4.530544215110587, 0.6253144093080287, 3.8766472772446963, 0.09266756869325961, 0.09266756869325961, 0.09266756869325961, 0.09266756869325961, 0.09266756869325961, 0.09266756869325961, 0.4816381499484303, 0.4423897231191075, 0.670957973088284, 0.8780490791469153, 0.414744204762549, 0.16911644702495632, 91.60663208603698, 7.591091894545056, 8.876300518354435, 11.00526454994163, 14.361686986558741, 3.7895422116568414, 2.9348141469653815, 5.758133642369292, 11.705513072577311, 12.115988320081438, 1.9937765811921433, 41.633282383640214, 4.257434549021269, 28.264744706910893, 11.562784495231472, 1.0482296225331418, 2.8161150675915363, 0.08773606972177392, 0.0877274445526746, 0.0877274445526746, 0.0877274445526746, 0.0877274445526746, 0.0877274445526746, 0.0877274445526746, 0.0877274445526746, 0.0877274445526746, 0.0877274445526746, 0.0877274445526746, 0.0877274445526746, 0.0877274445526746, 0.6698891632512103, 0.33646405320639705, 0.146847975272188, 0.32754077079978283, 0.24167184850495246, 0.11149908000650095, 0.11151112949646658, 0.1227754029482447, 0.08778174449784015, 0.08777322231583455, 0.08775919032431477, 0.08774828227463792, 0.08774722665692726, 39.916404034834265, 59.7721222103663, 7.515099457687386, 6.377962219549867, 7.4074383849052206, 11.722326221140703, 5.029226047850083, 6.272195989485536, 0.11570650114159145, 0.1156405087657326, 0.1156405087657326, 0.1156405087657326, 0.1156405087657326, 0.1156405087657326, 0.1156405087657326, 0.1156405087657326, 0.1156405087657326, 0.1156405087657326, 0.1156405087657326, 0.1156405087657326, 0.1156405087657326, 0.1156405087657326, 0.1156405087657326, 0.1156405087657326, 0.1156405087657326, 0.1156405087657326, 0.1156405087657326, 0.1156405087657326, 0.1156405087657326, 0.1156405087657326, 0.3946607783466649, 0.17195444015715974, 0.11569700025116379, 0.11570076124806496, 0.11571344367947586, 0.11570513450027561, 0.1156930205916521, 0.11567593210863894, 0.11566990795371876, 0.11566874904188293, 0.11566726213613131, 0.11566545816959442, 0.1156611395830364, 0.11565874522745105, 0.11565820950405525, 0.11565729112109101, 0.11565637273812678, 0.11565397838254143, 0.1156518682883498, 0.11565074217590555, 0.11565026111816237], \"Total\": [284.0, 133.0, 95.0, 118.0, 112.0, 106.0, 136.0, 64.0, 80.0, 57.0, 145.0, 42.0, 146.0, 279.0, 162.0, 107.0, 160.0, 87.0, 85.0, 125.0, 93.0, 126.0, 51.0, 42.0, 70.0, 71.0, 72.0, 39.0, 40.0, 75.0, 32.14674746829299, 33.97137475070875, 16.572493457241624, 72.14504740090777, 50.43237664721682, 14.846202627929246, 13.113599646264195, 11.383166515875963, 10.517177596241362, 9.653355395907287, 9.654543496287504, 8.787214807867548, 8.787260204391425, 8.78816569378276, 8.793769815032613, 7.922249876573839, 7.923288842596755, 75.80947030300712, 63.352616817895395, 14.029000792302742, 7.062263715914583, 7.060802123145776, 6.193254898219656, 6.19362398472882, 39.58866322746434, 5.327135601742735, 5.327113409164428, 5.327225219497701, 5.327151668359124, 5.326591632296338, 10.717433895127744, 26.499563721001053, 36.168891022050495, 49.95629180697343, 16.101041678123412, 44.901280387034625, 38.24525609147653, 42.38814477142531, 16.758643254548524, 23.064800504548405, 126.20795580894406, 87.66319501653645, 20.39804914782032, 162.25512295797967, 22.407248191061388, 90.47260321130479, 107.12861134861781, 145.7931991770288, 279.68606636827434, 71.6027059793521, 70.91782661343635, 22.878818774489076, 284.76395430809043, 14.663066722202695, 14.663047233210293, 12.836012638581844, 12.823895880054181, 93.29573182048993, 54.663476847169775, 27.53461259225309, 11.013187137915335, 63.42896186328188, 60.771144241181005, 4.6410691367196915, 125.66173831524685, 4.654804850686067, 26.123996201212872, 59.01044405887362, 3.7287736257160518, 3.726149439293807, 10.305893935115462, 10.22115128134161, 23.24954746206829, 40.71207566425626, 10.041024811586379, 25.904707337367196, 4.6987931944656625, 4.79226274313451, 23.89572698538561, 90.47260321130479, 30.061765394345827, 17.01809077081517, 279.68606636827434, 17.208813809340644, 160.23287289049784, 126.20795580894406, 62.50962854701821, 42.38814477142531, 18.232570548970518, 77.92998148939648, 43.81997302266494, 11.945548198135349, 7.387926756201377, 7.38863787106405, 8.290680407278185, 18.527321090268806, 6.47547540511466, 6.4744411291438135, 6.477219880214309, 6.472136975441259, 9.185411862598173, 9.185409141679061, 9.180817189334611, 71.6027059793521, 53.05871951983451, 5.561578475328029, 145.7931991770288, 4.651203169522966, 4.649856918821473, 4.649436001300653, 3.738941915333168, 3.7389586731875797, 3.738703717872622, 3.738499843763302, 3.737788347896843, 3.7377330598144938, 3.737494584451173, 7.445109657854847, 3.736791055988764, 3.734180707638405, 11.322647803913727, 146.1858858205168, 27.176194606249325, 20.49011418704953, 52.302890608264505, 279.68606636827434, 9.979978363761354, 6.409574624617073, 7.486945982485867, 136.5594845068171, 77.92998148939648, 160.23287289049784, 162.25512295797967, 9.074780855990745, 107.12861134861781, 39.04657323087762, 112.4334251400532, 85.37347161794936, 37.71101820809797, 59.01044405887362, 62.50962854701821, 38.24525609147653, 118.08448124877997, 24.277568734936523, 22.15485047872766, 24.241729432349125, 11.580734051772973, 12.617468046886968, 22.031566975299985, 9.469792671774247, 8.406723620949093, 8.395998802360713, 7.359104581076356, 7.358769299549628, 12.503113575442045, 7.352749480060737, 6.301852980074173, 12.524046248235987, 34.24091263821698, 7.322616819754459, 25.180168380860493, 5.240917354990642, 5.237445699366584, 5.234049674874959, 5.233573225693402, 5.234787341632642, 5.223990305584235, 6.2495646963333975, 6.247920444856424, 5.219044532050871, 5.222270640384736, 11.486286986078099, 7.314740221950333, 37.71101820809797, 13.200227414210676, 23.53923845199327, 28.813338377478352, 10.085592743304435, 18.045116623709188, 30.061765394345827, 146.1858858205168, 52.302890608264505, 162.25512295797967, 44.901280387034625, 279.68606636827434, 62.50962854701821, 25.904707337367196, 77.92998148939648, 284.76395430809043, 39.96587152911512, 26.01654033650869, 30.979855329449332, 51.076575113253774, 80.73689726492917, 20.037237260378465, 14.986535985302037, 10.019130377735529, 13.957589952260701, 14.929037549005482, 7.014624210853387, 21.828381702865872, 6.001596870747824, 5.002504091707194, 4.010157967263573, 4.985380029963219, 4.00445882582881, 4.0056839582850134, 4.979587807344469, 16.02933900214794, 3.982981545249336, 18.128228681621476, 107.12861134861781, 28.616040549973576, 7.855781479461082, 31.442056957532603, 4.734770916917244, 10.28852784260421, 5.074113872866992, 17.01809077081517, 77.92998148939648, 43.182140283082134, 90.47260321130479, 279.68606636827434, 63.352616817895395, 160.23287289049784, 162.25512295797967, 16.53726502979662, 27.137784928854625, 27.115438613366344, 18.42853467248087, 40.54717624339288, 10.656582230461353, 11.63910225642548, 10.671333717873868, 7.785850772718792, 27.902475280949435, 7.777727867980254, 7.78690635942613, 7.7617976427495465, 31.728700136069968, 5.844961240757687, 5.840461242806253, 6.800275632140157, 13.45099232912165, 4.878056559878122, 4.873241211061693, 4.882739243704302, 4.882744479613925, 3.912179889201589, 3.90661254468312, 3.907425830111962, 3.908589386035172, 7.8419592679095915, 6.742435182889216, 5.782695833494965, 5.896274902605516, 85.37347161794936, 87.66319501653645, 15.185650705525056, 31.442056957532603, 39.04657323087762, 28.616040549973576, 162.25512295797967, 62.50962854701821, 136.5594845068171, 146.1858858205168, 49.95629180697343, 160.23287289049784, 20.49011418704953, 38.24525609147653, 42.154537752713914, 118.08448124877997, 106.59478398349269, 12.035231884633259, 8.063213013113966, 7.041084087107528, 7.043106283067547, 6.039856445200725, 6.042359692317218, 33.918776985897125, 4.031283361106645, 21.56150621085801, 43.182140283082134, 26.850493871555145, 7.926428901183776, 10.511426829616456, 11.244593235961702, 4.021845092164168, 10.572409924894641, 126.20795580894406, 5.074113872866992, 16.02933900214794, 11.486286986078099, 25.180168380860493, 37.71101820809797, 13.200227414210676, 53.05871951983451, 160.23287289049784, 27.53461259225309, 3.5969480035836416, 49.95629180697343, 14.478362154475882, 8.258204701185305, 10.30324524211704, 34.9717542288102, 7.212523628407039, 29.6918308875162, 112.4334251400532, 5.148032366104322, 5.1492652789710975, 5.136333235146836, 9.22894212409609, 4.112740962195187, 4.112712467642122, 4.112365796954144, 12.267635647764653, 7.1878512435979935, 136.5594845068171, 9.022564914121487, 28.813338377478352, 5.8149410786170845, 160.23287289049784, 18.045116623709188, 22.407248191061388, 26.123996201212872, 10.305893935115462, 15.559971503162153, 39.04657323087762, 11.244593235961702, 125.66173831524685, 90.47260321130479, 107.12861134861781, 57.942683571073346, 15.225729406469815, 16.207273939518874, 23.257898336850257, 15.189974909706205, 7.102847818033792, 5.072058525772466, 10.041648499883713, 14.072366014812426, 133.49886930264722, 3.9019706211485046, 15.559971503162153, 7.1878512435979935, 5.896274902605516, 16.584662138756048, 22.407248191061388, 85.37347161794936, 39.04657323087762, 59.01044405887362, 39.58866322746434, 162.25512295797967, 126.20795580894406, 21.828381702865872, 145.7931991770288, 3.5969480035836416, 3.596975854890506, 3.5970340463396333, 3.5970777072056634, 3.5970810269262037, 3.5970823718863283, 22.878818774489076, 27.53461259225309, 107.12861134861781, 279.68606636827434, 125.66173831524685, 112.4334251400532, 95.42083527885005, 8.701716854609401, 10.709298040280645, 13.442226616051114, 18.26342779184859, 4.869555560628672, 3.89348661885039, 9.516697122908038, 20.905760284654942, 25.883778169996557, 5.843714007301417, 133.49886930264722, 18.232570548970518, 162.25512295797967, 126.20795580894406, 22.407248191061388, 87.66319501653645, 3.597149531608454, 3.5969480035836416, 3.596975854890506, 3.5970340463396333, 3.5970777072056634, 3.5970810269262037, 3.5970823718863283, 3.597095474983014, 3.5970976163684223, 3.5971372172862255, 3.5971610245080505, 3.597164319880365, 3.597177909803566, 107.12861134861781, 49.95629180697343, 11.013187137915335, 125.66173831524685, 85.37347161794936, 40.54717624339288, 70.91782661343635, 284.76395430809043, 4.878056559878122, 4.79226274313451, 6.044381349233002, 7.923288842596755, 6.231900976099608, 42.35947056900115, 64.3017869304514, 8.568969241700756, 7.335096086546662, 8.525670516815197, 25.883778169996557, 15.259401808992333, 160.23287289049784, 3.596975854890506, 3.5969480035836416, 3.5970340463396333, 3.5970777072056634, 3.5970810269262037, 3.5970823718863283, 3.597095474983014, 3.5970976163684223, 3.5971372172862255, 3.597149531608454, 3.5971610245080505, 3.597164319880365, 3.597177909803566, 3.597190015166669, 3.597211927453711, 3.5972132609829597, 3.5972255577227186, 3.597225941595563, 3.59724532731362, 3.5978568339448684, 3.5979635365431406, 3.598111720478294, 51.076575113253774, 107.12861134861781, 3.615311850753136, 3.7343915612449416, 7.923288842596755, 8.255269177529849, 4.479219706301277, 18.527321090268806, 6.47547540511466, 18.128228681621476, 10.041024811586379, 7.445109657854847, 6.409574624617073, 53.05871951983451, 32.14674746829299, 20.39804914782032, 7.062263715914583, 39.04657323087762, 125.66173831524685, 279.68606636827434, 126.20795580894406], \"Category\": [\"Default\", \"Default\", \"Default\", \"Default\", \"Default\", \"Default\", \"Default\", \"Default\", \"Default\", \"Default\", \"Default\", \"Default\", \"Default\", \"Default\", \"Default\", \"Default\", \"Default\", \"Default\", \"Default\", \"Default\", \"Default\", \"Default\", \"Default\", \"Default\", \"Default\", \"Default\", \"Default\", \"Default\", \"Default\", \"Default\", \"Topic1\", \"Topic1\", \"Topic1\", \"Topic1\", \"Topic1\", \"Topic1\", \"Topic1\", \"Topic1\", \"Topic1\", \"Topic1\", \"Topic1\", \"Topic1\", \"Topic1\", \"Topic1\", \"Topic1\", \"Topic1\", \"Topic1\", \"Topic1\", \"Topic1\", \"Topic1\", \"Topic1\", \"Topic1\", \"Topic1\", \"Topic1\", \"Topic1\", \"Topic1\", \"Topic1\", \"Topic1\", \"Topic1\", \"Topic1\", \"Topic1\", \"Topic1\", \"Topic1\", \"Topic1\", \"Topic1\", \"Topic1\", \"Topic1\", \"Topic1\", \"Topic1\", \"Topic1\", \"Topic1\", \"Topic1\", \"Topic1\", \"Topic1\", \"Topic1\", \"Topic1\", \"Topic1\", \"Topic1\", \"Topic1\", \"Topic1\", \"Topic2\", \"Topic2\", \"Topic2\", \"Topic2\", \"Topic2\", \"Topic2\", \"Topic2\", \"Topic2\", \"Topic2\", \"Topic2\", \"Topic2\", \"Topic2\", \"Topic2\", \"Topic2\", \"Topic2\", \"Topic2\", \"Topic2\", \"Topic2\", \"Topic2\", \"Topic2\", \"Topic2\", \"Topic2\", \"Topic2\", \"Topic2\", \"Topic2\", \"Topic2\", \"Topic2\", \"Topic2\", \"Topic2\", \"Topic2\", \"Topic2\", \"Topic2\", \"Topic2\", \"Topic2\", \"Topic2\", \"Topic2\", \"Topic2\", \"Topic2\", \"Topic2\", \"Topic2\", \"Topic3\", \"Topic3\", \"Topic3\", \"Topic3\", \"Topic3\", \"Topic3\", \"Topic3\", \"Topic3\", \"Topic3\", \"Topic3\", \"Topic3\", \"Topic3\", \"Topic3\", \"Topic3\", \"Topic3\", \"Topic3\", \"Topic3\", \"Topic3\", \"Topic3\", \"Topic3\", \"Topic3\", \"Topic3\", \"Topic3\", \"Topic3\", \"Topic3\", \"Topic3\", \"Topic3\", \"Topic3\", \"Topic3\", \"Topic3\", \"Topic3\", \"Topic3\", \"Topic3\", \"Topic3\", \"Topic3\", \"Topic3\", \"Topic3\", \"Topic3\", \"Topic3\", \"Topic3\", \"Topic3\", \"Topic3\", \"Topic3\", \"Topic3\", \"Topic3\", \"Topic3\", \"Topic3\", \"Topic3\", \"Topic3\", \"Topic3\", \"Topic3\", \"Topic3\", \"Topic3\", \"Topic4\", \"Topic4\", \"Topic4\", \"Topic4\", \"Topic4\", \"Topic4\", \"Topic4\", \"Topic4\", \"Topic4\", \"Topic4\", \"Topic4\", \"Topic4\", \"Topic4\", \"Topic4\", \"Topic4\", \"Topic4\", \"Topic4\", \"Topic4\", \"Topic4\", \"Topic4\", \"Topic4\", \"Topic4\", \"Topic4\", \"Topic4\", \"Topic4\", \"Topic4\", \"Topic4\", \"Topic4\", \"Topic4\", \"Topic4\", \"Topic4\", \"Topic4\", \"Topic4\", \"Topic4\", \"Topic4\", \"Topic4\", \"Topic4\", \"Topic4\", \"Topic4\", \"Topic4\", \"Topic4\", \"Topic4\", \"Topic4\", \"Topic4\", \"Topic4\", \"Topic4\", \"Topic5\", \"Topic5\", \"Topic5\", \"Topic5\", \"Topic5\", \"Topic5\", \"Topic5\", \"Topic5\", \"Topic5\", \"Topic5\", \"Topic5\", \"Topic5\", \"Topic5\", \"Topic5\", \"Topic5\", \"Topic5\", \"Topic5\", \"Topic5\", \"Topic5\", \"Topic5\", \"Topic5\", \"Topic5\", \"Topic5\", \"Topic5\", \"Topic5\", \"Topic5\", \"Topic5\", \"Topic5\", \"Topic5\", \"Topic5\", \"Topic5\", \"Topic5\", \"Topic5\", \"Topic5\", \"Topic5\", \"Topic5\", \"Topic5\", \"Topic5\", \"Topic6\", \"Topic6\", \"Topic6\", \"Topic6\", \"Topic6\", \"Topic6\", \"Topic6\", \"Topic6\", \"Topic6\", \"Topic6\", \"Topic6\", \"Topic6\", \"Topic6\", \"Topic6\", \"Topic6\", \"Topic6\", \"Topic6\", \"Topic6\", \"Topic6\", \"Topic6\", \"Topic6\", \"Topic6\", \"Topic6\", \"Topic6\", \"Topic6\", \"Topic6\", \"Topic6\", \"Topic6\", \"Topic6\", \"Topic6\", \"Topic6\", \"Topic6\", \"Topic6\", \"Topic6\", \"Topic6\", \"Topic6\", \"Topic6\", \"Topic6\", \"Topic6\", \"Topic6\", \"Topic6\", \"Topic6\", \"Topic6\", \"Topic7\", \"Topic7\", \"Topic7\", \"Topic7\", \"Topic7\", \"Topic7\", \"Topic7\", \"Topic7\", \"Topic7\", \"Topic7\", \"Topic7\", \"Topic7\", \"Topic7\", \"Topic7\", \"Topic7\", \"Topic7\", \"Topic7\", \"Topic7\", \"Topic7\", \"Topic7\", \"Topic7\", \"Topic7\", \"Topic7\", \"Topic7\", \"Topic7\", \"Topic7\", \"Topic7\", \"Topic7\", \"Topic7\", \"Topic7\", \"Topic7\", \"Topic8\", \"Topic8\", \"Topic8\", \"Topic8\", \"Topic8\", \"Topic8\", \"Topic8\", \"Topic8\", \"Topic8\", \"Topic8\", \"Topic8\", \"Topic8\", \"Topic8\", \"Topic8\", \"Topic8\", \"Topic8\", \"Topic8\", \"Topic8\", \"Topic8\", \"Topic8\", \"Topic8\", \"Topic8\", \"Topic8\", \"Topic8\", \"Topic8\", \"Topic8\", \"Topic8\", \"Topic8\", \"Topic8\", \"Topic8\", \"Topic8\", \"Topic9\", \"Topic9\", \"Topic9\", \"Topic9\", \"Topic9\", \"Topic9\", \"Topic9\", \"Topic9\", \"Topic9\", \"Topic9\", \"Topic9\", \"Topic9\", \"Topic9\", \"Topic9\", \"Topic9\", \"Topic9\", \"Topic9\", \"Topic9\", \"Topic9\", \"Topic9\", \"Topic9\", \"Topic9\", \"Topic9\", \"Topic9\", \"Topic9\", \"Topic9\", \"Topic9\", \"Topic9\", \"Topic9\", \"Topic9\", \"Topic9\", \"Topic9\", \"Topic9\", \"Topic9\", \"Topic9\", \"Topic9\", \"Topic10\", \"Topic10\", \"Topic10\", \"Topic10\", \"Topic10\", \"Topic10\", \"Topic10\", \"Topic10\", \"Topic10\", \"Topic10\", \"Topic10\", \"Topic10\", \"Topic10\", \"Topic10\", \"Topic10\", \"Topic10\", \"Topic10\", \"Topic10\", \"Topic10\", \"Topic10\", \"Topic10\", \"Topic10\", \"Topic10\", \"Topic10\", \"Topic10\", \"Topic10\", \"Topic10\", \"Topic10\", \"Topic10\", \"Topic10\", \"Topic10\", \"Topic10\", \"Topic10\", \"Topic10\", \"Topic10\", \"Topic10\", \"Topic10\", \"Topic10\", \"Topic10\", \"Topic10\", \"Topic10\", \"Topic10\", \"Topic10\", \"Topic11\", \"Topic11\", \"Topic11\", \"Topic11\", \"Topic11\", \"Topic11\", \"Topic11\", \"Topic11\", \"Topic11\", \"Topic11\", \"Topic11\", \"Topic11\", \"Topic11\", \"Topic11\", \"Topic11\", \"Topic11\", \"Topic11\", \"Topic11\", \"Topic11\", \"Topic11\", \"Topic11\", \"Topic11\", \"Topic11\", \"Topic11\", \"Topic11\", \"Topic11\", \"Topic11\", \"Topic11\", \"Topic11\", \"Topic11\", \"Topic11\", \"Topic11\", \"Topic11\", \"Topic11\", \"Topic11\", \"Topic11\", \"Topic11\", \"Topic11\", \"Topic11\", \"Topic11\", \"Topic11\", \"Topic11\", \"Topic11\", \"Topic11\", \"Topic11\", \"Topic11\", \"Topic11\", \"Topic11\", \"Topic11\", \"Topic11\", \"Topic11\"], \"logprob\": [30.0, 29.0, 28.0, 27.0, 26.0, 25.0, 24.0, 23.0, 22.0, 21.0, 20.0, 19.0, 18.0, 17.0, 16.0, 15.0, 14.0, 13.0, 12.0, 11.0, 10.0, 9.0, 8.0, 7.0, 6.0, 5.0, 4.0, 3.0, 2.0, 1.0, -3.8188, -3.7815, -4.5071, -3.0363, -3.4042, -4.6274, -4.7588, -4.9115, -4.9964, -5.0934, -5.0957, -5.1953, -5.1953, -5.198, -5.202, -5.3118, -5.3149, -3.0572, -3.2407, -4.762, -5.4523, -5.4561, -5.6002, -5.6024, -3.7553, -5.7752, -5.7752, -5.7752, -5.7752, -5.7753, -5.0932, -4.2251, -3.9306, -3.6611, -4.7504, -3.8239, -4.0266, -3.9737, -4.7624, -4.5639, -3.6185, -3.8723, -4.737, -3.6021, -4.7947, -4.3276, -4.3151, -4.3518, -4.2073, -4.8839, -3.0044, -4.1492, -1.6321, -4.6003, -4.6003, -4.74, -4.746, -2.7637, -3.3061, -4.0, -4.9192, -3.1948, -3.2419, -5.9098, -2.616, -5.9356, -4.2245, -3.4302, -6.1984, -6.2173, -5.2077, -5.2216, -4.4095, -3.917, -5.32, -4.4586, -6.1916, -6.1859, -4.6108, -3.322, -4.4796, -5.0439, -2.8337, -5.054, -3.405, -3.8025, -4.3303, -4.5792, -5.0734, -4.9281, -3.2841, -4.6224, -5.1498, -5.1577, -5.0427, -4.2401, -5.3019, -5.306, -5.3079, -5.3141, -4.9662, -4.9662, -4.9773, -2.9279, -3.233, -5.4889, -2.2327, -5.6999, -5.7068, -5.7086, -5.9802, -5.9802, -5.9803, -5.9804, -5.9883, -5.9883, -5.9884, -5.3018, -5.993, -6.0089, -4.9076, -2.4263, -4.1001, -4.3992, -3.5287, -2.1456, -5.1577, -5.5602, -5.4457, -3.3765, -3.8033, -3.409, -3.5042, -5.3165, -4.3824, -4.7649, -4.453, -4.574, -4.974, -4.9316, -5.0, -5.0947, -5.1372, -3.3932, -3.4896, -3.4084, -4.1776, -4.0926, -3.5436, -4.3969, -4.53, -4.5397, -4.6736, -4.6739, -4.1487, -4.6818, -4.8497, -4.1629, -3.1622, -4.7073, -3.4754, -5.0696, -5.0759, -5.0809, -5.0818, -5.0818, -5.091, -4.9151, -4.9234, -5.1044, -5.1057, -4.3318, -4.7854, -3.3003, -4.3511, -3.925, -4.0205, -4.6816, -4.3449, -4.0786, -3.3059, -3.9376, -3.4584, -4.0285, -3.3898, -4.0404, -4.3873, -4.1822, -4.5268, -2.8343, -3.2642, -3.097, -2.6006, -2.1501, -3.5549, -3.857, -4.2696, -3.9442, -3.8843, -4.6687, -3.5413, -4.8638, -5.0811, -5.343, -5.1347, -5.3592, -5.3591, -5.1437, -3.9946, -5.4084, -4.0454, -2.2811, -3.6762, -5.0749, -3.7323, -5.7466, -5.021, -5.7499, -4.6018, -3.1036, -3.924, -3.8632, -3.3155, -4.564, -4.529, -4.6422, -5.0966, -3.2132, -3.2161, -3.6127, -2.8304, -4.2162, -4.1297, -4.2223, -4.5419, -3.2657, -4.5454, -4.5454, -4.5668, -3.1717, -4.8752, -4.8788, -4.7342, -4.0632, -5.0901, -5.0963, -5.0962, -5.0962, -5.3663, -5.3744, -5.3743, -5.3743, -4.7432, -4.9025, -5.0963, -5.0901, -2.47, -2.5133, -4.2736, -3.8601, -3.8029, -4.1239, -3.1514, -3.7297, -3.5132, -3.4868, -3.9931, -4.0508, -4.6966, -4.7957, -2.521, -1.5112, -1.6239, -3.8274, -4.2476, -4.4022, -4.4089, -4.5792, -4.5795, -2.9107, -5.0664, -3.5152, -2.8432, -3.3311, -4.6651, -4.4101, -4.3615, -5.4498, -4.6555, -2.6948, -6.0868, -5.0738, -5.8648, -5.195, -4.9101, -6.0589, -5.0389, -4.2812, -6.1675, -8.5716, -6.5529, -3.5408, -4.1457, -3.9276, -2.7072, -4.3105, -2.8965, -1.5721, -4.6937, -4.6936, -4.7102, -4.1455, -4.9718, -4.9718, -4.9724, -3.9387, -4.6884, -1.7722, -4.5009, -3.5863, -5.3588, -2.3449, -4.6753, -4.5978, -4.5805, -5.5497, -5.1808, -4.4039, -5.8618, -3.7663, -4.1013, -4.3409, -1.7405, -3.1197, -3.0603, -2.7096, -3.138, -3.9482, -4.3466, -3.6717, -3.42, -1.3705, -5.0115, -3.7016, -5.0114, -5.6502, -4.625, -4.4351, -3.6423, -4.5344, -4.5621, -5.0145, -3.9189, -4.2454, -6.2258, -4.4013, -8.135, -8.135, -8.135, -8.135, -8.135, -8.135, -6.4868, -6.5718, -6.1553, -5.8863, -6.6363, -7.5334, -1.1691, -3.6596, -3.5032, -3.2882, -3.022, -4.3543, -4.6099, -3.936, -3.2265, -3.1921, -4.9966, -1.9577, -4.2379, -2.345, -3.2388, -5.6395, -4.6512, -8.12, -8.1201, -8.1201, -8.1201, -8.1201, -8.1201, -8.1201, -8.1201, -8.1201, -8.1201, -8.1201, -8.1201, -8.1201, -6.0872, -6.7758, -7.6049, -6.8027, -7.1068, -7.8803, -7.8802, -7.784, -8.1195, -8.1196, -8.1197, -8.1199, -8.1199, -1.5487, -1.145, -3.2186, -3.3827, -3.2331, -2.774, -3.6203, -3.3994, -7.3922, -7.3928, -7.3928, -7.3928, -7.3928, -7.3928, -7.3928, -7.3928, -7.3928, -7.3928, -7.3928, -7.3928, -7.3928, -7.3928, -7.3928, -7.3928, -7.3928, -7.3928, -7.3928, -7.3928, -7.3928, -7.3928, -6.1653, -6.9961, -7.3923, -7.3923, -7.3922, -7.3922, -7.3924, -7.3925, -7.3926, -7.3926, -7.3926, -7.3926, -7.3926, -7.3926, -7.3927, -7.3927, -7.3927, -7.3927, -7.3927, -7.3927, -7.3927], \"loglift\": [30.0, 29.0, 28.0, 27.0, 26.0, 25.0, 24.0, 23.0, 22.0, 21.0, 20.0, 19.0, 18.0, 17.0, 16.0, 15.0, 14.0, 13.0, 12.0, 11.0, 10.0, 9.0, 8.0, 7.0, 6.0, 5.0, 4.0, 3.0, 2.0, 1.0, 1.6468, 1.6289, 1.621, 1.621, 1.6111, 1.6108, 1.6034, 1.5923, 1.5864, 1.5752, 1.5728, 1.5673, 1.5673, 1.5644, 1.5598, 1.5544, 1.5512, 1.5505, 1.5465, 1.5328, 1.5288, 1.5253, 1.5123, 1.51, 1.5021, 1.4879, 1.4879, 1.4879, 1.4879, 1.4879, 1.4709, 1.4336, 1.4171, 1.3636, 1.4066, 1.3075, 1.2653, 1.2153, 1.3546, 1.2337, 0.4794, 0.5901, 1.1835, 0.2446, 1.0318, 0.1033, -0.0532, -0.3981, -0.905, -0.2191, 1.67, 1.6565, 1.6522, 1.6503, 1.6502, 1.6437, 1.6386, 1.6365, 1.6286, 1.6205, 1.6177, 1.5911, 1.5869, 1.4911, 1.4863, 1.4624, 1.4485, 1.428, 1.4214, 1.4032, 1.3954, 1.3898, 1.3801, 1.3124, 1.3092, 1.2229, 1.197, 1.183, 1.1514, 1.1088, 1.0531, 1.0578, 0.4685, 1.0365, 0.4543, 0.2954, 0.4703, 0.6099, 0.9593, -0.348, 1.8717, 1.8331, 1.7862, 1.7782, 1.7781, 1.7766, 1.7659, 1.7621, 1.7597, 1.7543, 1.7521, 1.7521, 1.7415, 1.7369, 1.7315, 1.7311, 1.721, 1.6989, 1.6922, 1.6906, 1.6369, 1.6369, 1.6368, 1.6368, 1.6292, 1.6291, 1.6291, 1.6265, 1.6246, 1.6095, 1.6015, 1.5247, 1.5335, 1.5168, 1.4501, 1.1567, 1.4777, 1.5179, 1.477, 0.6426, 0.7768, 0.4503, 0.3426, 1.4139, -0.1205, 0.5062, -0.2395, -0.0851, 0.3319, -0.0734, -0.1994, 0.1972, -0.9727, 2.3532, 2.3482, 2.3394, 2.3089, 2.3082, 2.2999, 2.2909, 2.2769, 2.2685, 2.2664, 2.2661, 2.2612, 2.259, 2.2454, 2.2454, 2.2403, 2.2377, 2.2345, 2.2098, 2.2042, 2.1998, 2.199, 2.1988, 2.1916, 2.1883, 2.1803, 2.1792, 2.1773, 2.163, 2.1606, 2.0057, 2.0046, 1.8522, 1.5546, 1.9432, 1.6982, 1.4541, 0.6451, 1.0412, 0.3883, 1.103, -0.0876, 0.7601, 1.2942, 0.3979, -1.2426, 2.4136, 2.4129, 2.4055, 2.402, 2.3946, 2.3834, 2.3717, 2.3618, 2.3557, 2.3483, 2.3192, 2.3114, 2.2801, 2.2449, 2.204, 2.1947, 2.1893, 2.1891, 2.1868, 2.1669, 2.1455, 1.9931, 1.9808, 1.9058, 1.7997, 1.7555, 1.6344, 1.5839, 1.5618, 1.4998, 1.4765, 1.2464, 0.5677, -0.0132, 0.2232, -0.6697, -0.7955, 1.0337, 2.4218, 2.4197, 2.4093, 2.4031, 2.3535, 2.3518, 2.3461, 2.3417, 2.3415, 2.3392, 2.338, 2.3199, 2.307, 2.2951, 2.2923, 2.2848, 2.2736, 2.261, 2.2559, 2.254, 2.254, 2.2055, 2.1988, 2.1987, 2.1984, 2.1332, 2.125, 2.0848, 2.0715, 2.0189, 1.9491, 1.942, 1.6277, 1.4683, 1.458, 0.6953, 1.0709, 0.506, 0.4642, 1.0316, -0.1915, 1.2194, 0.4961, 2.6735, 2.6533, 2.643, 2.6207, 2.601, 2.5819, 2.575, 2.5583, 2.5576, 2.5013, 2.4755, 2.3498, 2.3273, 2.3145, 2.2006, 2.1733, 2.1545, 2.0943, 1.9222, 1.4031, 1.225, 1.0877, 0.6299, 0.5149, 0.3958, 0.2968, -0.0744, -0.4219, -0.5471, -0.9158, -1.5282, 2.7224, 2.6789, 2.6759, 2.6741, 2.6496, 2.6486, 2.6415, 2.6036, 2.6034, 2.5894, 2.568, 2.55, 2.55, 2.5495, 2.4903, 2.2751, 2.247, 2.2352, 1.9888, 1.8167, 1.5144, 1.3677, 1.2287, 1.0925, 1.0535, 1.0104, 0.8672, 0.6543, 0.3361, 0.3295, -0.0791, 3.1359, 3.0932, 3.0902, 3.0796, 3.0773, 3.0272, 2.9655, 2.9575, 2.8717, 2.6714, 2.5629, 2.4896, 1.9521, 1.5114, 1.5024, 1.3914, 0.8466, 0.7367, 0.2961, 0.2429, -0.0721, -0.1474, -0.3731, -0.4476, -0.4792, -0.4792, -0.4792, -0.4792, -0.4792, -0.4792, -0.6811, -0.9514, -1.8934, -2.5841, -2.534, -3.3199, 3.2085, 3.1128, 3.0616, 3.0493, 3.009, 2.9986, 2.9667, 2.7469, 2.6694, 2.4902, 2.174, 2.0841, 1.7948, 1.5018, 0.8592, 0.187, -0.1888, -0.4642, -0.4643, -0.4643, -0.4643, -0.4643, -0.4643, -0.4643, -0.4643, -0.4643, -0.4643, -0.4643, -0.4643, -0.4643, -1.8254, -1.7511, -1.0681, -2.7004, -2.6179, -2.6469, -3.2058, -4.4997, -0.7683, -0.7507, -0.983, -1.2538, -1.0137, 3.641, 3.6273, 3.5691, 3.5605, 3.5598, 2.9082, 2.5904, 0.4599, 0.2636, 0.263, 0.263, 0.263, 0.263, 0.263, 0.263, 0.263, 0.263, 0.263, 0.263, 0.263, 0.2629, 0.2629, 0.2629, 0.2629, 0.2629, 0.2629, 0.2629, 0.2628, 0.2627, 0.2627, -1.1627, -2.7342, 0.2584, 0.226, -0.5261, -0.5672, 0.0441, -1.3758, -0.3247, -1.3541, -0.7633, -0.4642, -0.3145, -2.4281, -1.9271, -1.4722, -0.4115, -2.1215, -3.2904, -4.0905, -3.2947]}, \"token.table\": {\"Topic\": [1, 3, 5, 6, 2, 5, 11, 10, 1, 3, 4, 5, 6, 9, 10, 1, 3, 4, 7, 1, 6, 4, 3, 1, 6, 7, 1, 3, 7, 4, 4, 3, 2, 4, 5, 1, 3, 4, 6, 8, 2, 4, 3, 8, 1, 5, 1, 1, 3, 5, 6, 8, 2, 6, 4, 5, 1, 6, 3, 4, 5, 7, 4, 2, 4, 10, 4, 5, 1, 7, 3, 5, 6, 1, 1, 2, 1, 1, 2, 8, 1, 3, 6, 7, 8, 3, 4, 4, 1, 3, 3, 5, 7, 1, 1, 1, 1, 9, 2, 6, 1, 8, 9, 1, 9, 7, 2, 4, 5, 2, 7, 1, 5, 4, 5, 1, 5, 3, 8, 2, 1, 3, 1, 2, 6, 2, 3, 4, 6, 9, 4, 1, 3, 6, 8, 1, 2, 3, 1, 1, 5, 9, 4, 1, 4, 8, 1, 2, 3, 6, 1, 2, 1, 1, 1, 3, 5, 7, 1, 4, 9, 1, 2, 3, 1, 1, 11, 3, 1, 2, 3, 6, 4, 2, 4, 4, 10, 2, 6, 8, 6, 3, 3, 1, 2, 3, 4, 5, 7, 1, 3, 7, 1, 2, 1, 2, 7, 1, 4, 8, 1, 3, 1, 5, 8, 1, 2, 3, 5, 1, 1, 2, 7, 1, 2, 1, 1, 2, 6, 2, 9, 2, 5, 1, 2, 8, 8, 5, 4, 1, 3, 4, 5, 8, 1, 1, 5, 1, 3, 3, 6, 1, 5, 4, 7, 2, 3, 4, 9, 3, 4, 1, 2, 3, 4, 6, 1, 2, 8, 1, 1, 3, 4, 7, 1, 6, 1, 4, 5, 8, 9, 1, 1, 6, 1, 1, 11, 6, 8, 2, 10, 1, 4, 2, 4, 1, 3, 7, 6, 1, 5, 4, 3, 5, 6, 3, 6, 5, 4, 2, 6, 6, 11, 6, 6, 1, 3, 3, 1, 1, 9, 2, 5, 10, 5, 1, 4, 1, 4, 5, 4, 5, 3, 10, 5, 5, 7, 1, 1, 4, 7, 1, 3, 5, 6, 10, 1, 1, 3, 4, 6, 1, 3, 4, 5, 6, 9, 1, 3, 4, 10, 6, 9, 1, 3, 1, 6, 1, 3, 7, 2, 3, 4, 2, 1, 1, 3, 3, 1, 2, 3, 3, 1, 3, 6, 8, 9, 5, 7, 1, 1, 2, 3, 4, 8, 1, 7, 4, 7, 8, 6, 1, 3, 4, 7, 1, 2, 3, 5, 4, 1, 8, 1, 3, 11, 1, 2, 3, 4, 2, 6, 1, 1, 3, 6, 1, 3, 5, 10, 1, 2, 3, 6, 8, 1, 3, 6, 10, 1, 9, 1, 7, 6, 1, 2, 1, 2, 3, 1, 1, 4, 5, 8, 4, 1, 2, 3, 5, 6, 7, 8, 11, 3, 4, 1, 2, 6, 6, 11, 1, 3, 5, 8, 9, 10, 5, 1, 1, 1, 2, 5, 3, 4, 4, 7, 6, 1, 1, 4, 6, 8, 2, 4, 6, 9, 5, 6, 1, 3, 4, 5, 6, 7, 4, 1, 10, 11, 1, 3, 3, 5, 6, 1, 2, 3, 4, 5, 9, 3, 6, 8, 1, 7, 1, 4, 8, 9, 10, 1, 3, 6, 9, 7, 1, 1, 5, 1, 2, 3, 4, 5, 7, 9, 10, 3, 1, 4, 4, 6, 6, 3, 3, 1, 1, 3, 6, 9, 9, 2, 6, 1, 1, 3, 7, 3, 6, 2, 1, 3, 6, 8, 1, 2, 3, 4, 5, 6, 2, 6, 8, 1, 3, 6, 5, 3, 6, 1, 2, 3, 5, 8, 1, 2, 2, 4, 10, 1, 6, 9, 4, 4, 1, 5, 5, 1, 4, 10, 1, 3, 8, 8, 1, 3, 4, 5, 9, 10, 5, 3, 4, 5, 4, 1, 2, 3, 4, 9, 3, 1, 4, 4, 1, 5, 3], \"Freq\": [0.7508756981067183, 0.034945435524305034, 0.5591269683888805, 0.34945435524305035, 0.5242669470362604, 0.06553336837953255, 0.32766684189766276, 0.7705176089409022, 0.24036221038210362, 0.20954654238439804, 0.1355889391899046, 0.03697880159724671, 0.1664046071876102, 0.03697880159724671, 0.1725677407871513, 0.025405539900536216, 0.05927959310125117, 0.008468513300178738, 0.906130923119125, 0.04932525974175323, 0.9371799350933114, 0.8153537304624039, 0.8990253436467232, 0.7206299486579333, 0.24020998288597778, 0.02001749857383148, 0.9643277295961573, 0.47292907062055933, 0.47292907062055933, 0.7656982050146918, 0.7637310684641101, 0.8024171548172436, 0.9178795551899714, 0.7642961753859926, 0.7532045945777032, 0.02859450496698809, 0.02859450496698809, 0.02859450496698809, 0.05718900993397618, 0.8578351490096428, 0.04538941788031325, 0.907788357606265, 0.9265728961399335, 0.7295070886500353, 0.3309755247120664, 0.6067884619721218, 0.8340092580161806, 0.3634042616279247, 0.4845390155038996, 0.1211347538759749, 0.8990668077697596, 0.8978916165583787, 0.6848543581170039, 0.19567267374771538, 0.6418587226178136, 0.1604646806544534, 0.8340404134313585, 0.8823171772100218, 0.7725423641330008, 0.1970787461722803, 0.3941574923445606, 0.1970787461722803, 0.8326668409267536, 0.43877521156509175, 0.21938760578254587, 0.21938760578254587, 0.48597817651766306, 0.3887825412141304, 0.08308938370159806, 0.9139832207175786, 0.03180453496890028, 0.5088725595024045, 0.41345895459570364, 0.8338297321048908, 0.11035968104110183, 0.8828774483288147, 0.8339714773471857, 0.9150805517704335, 0.6792229809535272, 0.1940637088438649, 0.029482195080789135, 0.029482195080789135, 0.14741097540394568, 0.7665370721005176, 0.8476418608266378, 0.8635895023379152, 0.1079486877922394, 0.7632251625168286, 0.10886831327550461, 0.8709465062040369, 0.1261602182353083, 0.1261602182353083, 0.6308010911765414, 0.8340339554743332, 0.8339902582208906, 0.8495859460018739, 0.8834715153090191, 0.9216605085406806, 0.9348697557316983, 0.8192114120860727, 0.2570698795423311, 0.19280240965674836, 0.5141397590846623, 0.2562807609519265, 0.512561521903853, 0.8278342449633889, 0.6176483598762844, 0.34742720243041, 0.038603022492267776, 0.9079481295129531, 0.03631792518051813, 0.42240692001677194, 0.42240692001677194, 0.7934174306841969, 0.9341718468984709, 0.07164560668570369, 0.931392886914148, 0.5159123642768644, 0.34394157618457627, 0.9547810749931598, 0.7508725699964214, 0.8443215340751613, 0.9097349792263503, 0.1729297249576443, 0.6917188998305772, 0.7456307218447978, 0.13556922215359962, 0.033892305538399906, 0.016946152769199953, 0.05083845830759986, 0.8000557227503359, 0.007322816160382324, 0.2782670140945283, 0.13913350704726415, 0.5711796605098213, 0.9319410094188721, 0.01982853211529515, 0.01982853211529515, 0.7508599383709097, 0.045811916504497854, 0.8704264135854592, 0.045811916504497854, 0.8160212742554146, 0.6904034747514982, 0.2672529579683219, 0.02227107983069349, 0.23243903062213794, 0.5229878188998104, 0.23243903062213794, 0.8433809904122406, 0.883794593633275, 0.10552771267262985, 0.8340204627901203, 0.9322035789119187, 0.023157721999059393, 0.023157721999059393, 0.3010503859877721, 0.6484162159736631, 0.017258434341816172, 0.017258434341816172, 0.9492138887998895, 0.17193915775082302, 0.6631938941817459, 0.14737642092927686, 0.8339965419120927, 0.8497618111023963, 0.8210497914731617, 0.8026767483438456, 0.5882915524439889, 0.09804859207399814, 0.24512148018499536, 0.8560967690965408, 0.764118910464177, 0.9080023679587526, 0.9487771928230454, 0.09337680175103188, 0.8403912157592869, 0.11083322863489406, 0.22166645726978812, 0.5541661431744702, 0.8208089496822902, 0.8603194019405844, 0.8026136636891231, 0.03849609537515666, 0.12832031791718887, 0.3208007947929722, 0.12832031791718887, 0.3721289219598477, 0.012832031791718887, 0.07505057659518202, 0.018762644148795506, 0.9006069191421843, 0.042302480818435136, 0.9447554049450514, 0.09873106841937913, 0.8721244377045156, 0.7441798879591677, 0.22166661947446017, 0.4987498938175354, 0.22166661947446017, 0.10892276573829437, 0.871382125906355, 0.7452933940481923, 0.18632334851204807, 0.7787656713214888, 0.650341631918385, 0.26013665276735404, 0.043356108794559, 0.043356108794559, 0.8339759716814837, 0.04637894914300639, 0.23189474571503194, 0.6493052880020894, 0.8553709688707132, 0.07128091407255943, 0.7508703053750457, 0.9323183111869797, 0.32925819887196733, 0.5926647579695412, 0.09958524240433037, 0.7966819392346429, 0.9357530747473053, 0.8553558707701678, 0.054881251121064144, 0.9146875186844023, 0.018293750373688047, 0.7769958919327709, 0.749164901047293, 0.7659503452516032, 0.008894152239463892, 0.11562397911303059, 0.017788304478927784, 0.008894152239463892, 0.8449444627490696, 0.8339843008991007, 0.06698355448014907, 0.8707862082419381, 0.10886828102633837, 0.870946248210707, 0.6832563192277615, 0.2928241368118978, 0.883941387314273, 0.11049267341428412, 0.8339896573512253, 0.11914137962160361, 0.36178005616278636, 0.12059335205426212, 0.30148338013565534, 0.18089002808139318, 0.7065485157309903, 0.17663712893274758, 0.08369697231740135, 0.5440303200631088, 0.20924243079350338, 0.041848486158700675, 0.041848486158700675, 0.03827898275201757, 0.7655796550403514, 0.19139491376008785, 0.8072818130916805, 0.2575783733308382, 0.6623443885650125, 0.03679691047583403, 0.8521415063038674, 0.07434395734766581, 0.817783530824324, 0.03715773211046039, 0.012385910703486797, 0.9289433027615097, 0.5564945439797021, 0.27824727198985105, 0.883587378466698, 0.03687935918200703, 0.9588633387321828, 0.8784901798680641, 0.023607471636621552, 0.9442988654648621, 0.1630305999807249, 0.733637699913262, 0.0743924372474065, 0.8183168097214716, 0.07998007807944311, 0.8797808588738744, 0.6260090818888966, 0.20866969396296553, 0.09423521798581834, 0.8292699182752015, 0.05654113079149101, 0.8192122905513566, 0.9419695327264429, 0.02943654789770134, 0.7642266024339097, 0.1272947831625023, 0.5091791326500092, 0.2545895663250046, 0.8058981365935683, 0.13431635609892806, 0.8032793385228271, 0.8002662716546319, 0.6384618083497403, 0.21282060278324677, 0.9580737730865846, 0.9336012038727043, 0.7675403332769026, 0.8554376657169835, 0.3006018540975403, 0.6012037081950806, 0.8023660350799211, 0.8340062199806265, 0.042996146320563325, 0.9029190727318298, 0.17112404863594488, 0.34224809727188976, 0.34224809727188976, 0.9482345172191232, 0.16544290345394808, 0.6617716138157923, 0.3023474553374495, 0.36281694640493944, 0.2418779642699596, 0.8153165828664483, 0.9609271515981627, 0.31523541847082376, 0.6304708369416475, 0.8982815534569512, 0.24864209761542477, 0.49728419523084955, 0.5532026233320269, 0.15151254120416927, 0.6818064354187617, 0.07575627060208463, 0.34221887525706673, 0.011407295841902225, 0.03422188752570667, 0.5931793837789157, 0.03422188752570667, 0.8339792207137354, 0.01911940216631139, 0.6309402714882758, 0.24855222816204806, 0.07647760866524556, 0.08199268305880024, 0.14055888524365756, 0.023426480873942924, 0.023426480873942924, 0.632514983596459, 0.0937059234957717, 0.25489354773463063, 0.12744677386731532, 0.5947516113808049, 0.9193588039769769, 0.678394421235759, 0.16959860530893975, 0.8339910222424034, 0.9267209138703599, 0.8339789115478331, 0.8591727935442274, 0.3305864954325085, 0.5509774923875141, 0.8681402796397959, 0.6881854378500937, 0.12903476959689256, 0.12903476959689256, 0.9547798059734199, 0.8339760606780516, 0.15601659370020096, 0.6240663748008038, 0.8599925340200191, 0.0995914280428922, 0.6971399963002454, 0.0995914280428922, 0.9263233472014664, 0.153662652149338, 0.2561044202488966, 0.3585461883484553, 0.153662652149338, 0.076831326074669, 0.7486272514663265, 0.18715681286658162, 0.8339871074555285, 0.028093443285117044, 0.9305953088195021, 0.007023360821279261, 0.024581762874477414, 0.007023360821279261, 0.33518936534476235, 0.63313546787344, 0.26679488862305856, 0.5335897772461171, 0.08893162954101952, 0.8445484495276461, 0.8337706644643075, 0.2121395915605933, 0.662936223626854, 0.10606979578029666, 0.9425456417281997, 0.027721930639064696, 0.013860965319532348, 0.013860965319532348, 0.8337304667113341, 0.9654552008894315, 0.8735111888058623, 0.031103334689021836, 0.015551667344510918, 0.9331000406706551, 0.010718603954188357, 0.9110813361060104, 0.021437207908376714, 0.032155811862565074, 0.8045540708907738, 0.767928727429851, 0.7509492516278308, 0.6536758425725796, 0.18302923592032228, 0.13073516851451591, 0.04783370642272269, 0.2870022385363361, 0.09566741284544537, 0.5740044770726722, 0.07957871770731884, 0.7878293053024564, 0.03183148708292753, 0.007957871770731883, 0.08753658947805072, 0.0315172066838999, 0.09455162005169969, 0.8509645804652972, 0.8214302003946311, 0.06170069092012187, 0.925510363801828, 0.8340095698549153, 0.8518968419409918, 0.9000057753136306, 0.7160484185820375, 0.2386828061940125, 0.6369705526296409, 0.3302810272894434, 0.023591501949245957, 0.833993686845306, 0.08761448713991457, 0.8469400423525075, 0.029204829046638188, 0.7768098521424908, 0.8447914624197502, 0.018722749869498886, 0.2808412480424833, 0.23091391505715292, 0.04368641636216407, 0.06865008285482925, 0.04368641636216407, 0.274600331419317, 0.03744549973899777, 0.29745400953172757, 0.5949080190634551, 0.7741459361562869, 0.11059227659375527, 0.11059227659375527, 0.8989449310028531, 0.8179851946322327, 0.17735691484108032, 0.13068404251448024, 0.6160819147111212, 0.0560074467919201, 0.009334574465320017, 0.009334574465320017, 0.7481002056502831, 0.943002082812925, 0.9508254385258084, 0.05876099813234806, 0.5288489831911325, 0.41132698692643643, 0.07984639949256417, 0.8783103944182058, 0.7835430205521078, 0.08706033561690087, 0.7668359035024461, 0.9103151076975764, 0.06941229696463355, 0.4164737817878013, 0.034706148482316776, 0.45117993027011805, 0.49897269183070925, 0.3991781534645674, 0.06652969224409457, 0.9194961782291382, 0.9397654383358324, 0.019578446631996507, 0.006840605673982602, 0.6772199617242776, 0.17101514184956504, 0.006840605673982602, 0.12997150780566943, 0.006840605673982602, 0.7664238109936501, 0.03863423621668803, 0.46361083460025637, 0.46361083460025637, 0.02282064389867998, 0.9584670437445592, 0.8602415235206459, 0.8331116047414526, 0.9018529369338613, 0.07508418375175123, 0.28603498572095704, 0.46480685179655523, 0.08223505839477516, 0.08581049571628711, 0.003575437321511963, 0.06735859461064395, 0.03367929730532197, 0.8419824326330493, 0.28540368958735024, 0.5708073791747005, 0.5355409953814406, 0.044628416281786716, 0.22314208140893357, 0.17851366512714686, 0.044628416281786716, 0.7924658768384697, 0.07547294065128282, 0.11320941097692425, 0.8447315997347269, 0.8274912872792786, 0.8340103395571361, 0.025021348509102332, 0.9508112433458886, 0.3010903691168654, 0.23770292298699897, 0.0158468615324666, 0.0316937230649332, 0.023770292298699897, 0.2614732152856989, 0.03961715383116649, 0.09508116919479959, 0.8026255358505704, 0.9104089117563638, 0.9478736956570071, 0.12751915252762683, 0.7651149151657609, 0.8199986922865733, 0.8024609135679667, 0.8033890791260822, 0.8338050037278439, 0.8335719700963911, 0.07577927000876282, 0.02525975666958761, 0.05051951333917522, 0.7886344330758303, 0.14831436608212045, 0.7415718304106023, 0.8073299229840072, 0.023722238537311913, 0.023722238537311913, 0.9251673029551647, 0.8023624389093357, 0.7677688919597583, 0.8051206879583902, 0.15362547894729067, 0.8379571578943128, 0.10835478070548016, 0.758483464938361, 0.1279802837731246, 0.2879556384895303, 0.1279802837731246, 0.1919704256596869, 0.015997535471640574, 0.2399630320746086, 0.8593271100098738, 0.9224824600615651, 0.7294455966964167, 0.07167822853929776, 0.03583911426964888, 0.8601387424715731, 0.7489357700811761, 0.6678290469433661, 0.2671316187773464, 0.21000832656074056, 0.5416004211303309, 0.011053069818986344, 0.15474297746580884, 0.08842455855189076, 0.9104136151124106, 0.8618703755891903, 0.10950846811421942, 0.05475423405710971, 0.766559276799536, 0.6697595109656399, 0.21318376716766968, 0.7106125572255656, 0.8718072404957636, 0.8193792120616782, 0.03227904034301296, 0.9360921699473758, 0.802346055056812, 0.020959782988226455, 0.010479891494113228, 0.9641500174584169, 0.8340057234890269, 0.8028278688989189, 0.7294405428341739, 0.8318863561664563, 0.01498140029535322, 0.02996280059070644, 0.02996280059070644, 0.00749070014767661, 0.5992560118141288, 0.3146094062024176, 0.7995995458816164, 0.8121358261928678, 0.820261529178437, 0.13671025486307284, 0.9473765784010306, 0.12346254901878909, 0.006859030501043838, 0.8230836601252606, 0.013718061002087676, 0.02743612200417535, 0.9208451397581783, 0.8397532551230843, 0.09330591723589826, 0.9498534333681495, 0.5355624784384571, 0.26778123921922853, 0.8120576626847094], \"Term\": [\"abatement\", \"access\", \"access\", \"access\", \"accountability\", \"accountability\", \"accountability\", \"adaptation\", \"additional\", \"additional\", \"additional\", \"additional\", \"additional\", \"additional\", \"additional\", \"adjustment\", \"adjustment\", \"adjustment\", \"adjustment\", \"administration\", \"administration\", \"affordable\", \"agrarian\", \"agricultural\", \"agricultural\", \"agricultural\", \"agriculture\", \"alleviation\", \"alleviation\", \"amman\", \"approach\", \"authority\", \"authorized\", \"autonomous\", \"based\", \"basic\", \"basic\", \"basic\", \"basic\", \"basic\", \"basin\", \"basin\", \"bay\", \"better\", \"building\", \"building\", \"bus\", \"business\", \"business\", \"business\", \"cadastre\", \"care\", \"catastrophe\", \"catastrophe\", \"center\", \"center\", \"central\", \"child\", \"childhood\", \"china\", \"china\", \"china\", \"city\", \"climate\", \"climate\", \"climate\", \"coal\", \"coal\", \"coastal\", \"coastal\", \"community\", \"community\", \"community\", \"competitive\", \"competitiveness\", \"competitiveness\", \"concentrated\", \"conservation\", \"consolidation\", \"consolidation\", \"control\", \"control\", \"control\", \"control\", \"coral\", \"credit\", \"credit\", \"crisis\", \"cultural\", \"cultural\", \"currency\", \"currency\", \"currency\", \"custom\", \"cyclone\", \"da\", \"dam\", \"decentralization\", \"deferred\", \"deficiency\", \"delivery\", \"delivery\", \"delivery\", \"delta\", \"delta\", \"demonstration\", \"disaster\", \"disaster\", \"disaster\", \"disclosure\", \"disclosure\", \"disease\", \"disease\", \"disposal\", \"distribution\", \"district\", \"district\", \"do\", \"do\", \"drawdown\", \"drought\", \"early\", \"earthquake\", \"ecological\", \"ecological\", \"economic\", \"economic\", \"economic\", \"economic\", \"economic\", \"economy\", \"education\", \"education\", \"education\", \"education\", \"efficiency\", \"efficiency\", \"efficiency\", \"efficient\", \"electricity\", \"electricity\", \"electricity\", \"electrification\", \"emergency\", \"emergency\", \"emergency\", \"employment\", \"employment\", \"employment\", \"empowerment\", \"energy\", \"energy\", \"enhance\", \"enhancement\", \"enterprise\", \"enterprise\", \"enterprise\", \"enterprise\", \"environment\", \"environment\", \"environment\", \"environmental\", \"environmental\", \"environmental\", \"equilibrio\", \"equitable\", \"equity\", \"essential\", \"estado\", \"estado\", \"estado\", \"estate\", \"excellency\", \"expenditure\", \"export\", \"facilitation\", \"facilitation\", \"facility\", \"facility\", \"facility\", \"farmer\", \"federal\", \"field\", \"finance\", \"finance\", \"finance\", \"finance\", \"finance\", \"finance\", \"financial\", \"financial\", \"financial\", \"first\", \"first\", \"fiscal\", \"fiscal\", \"floating\", \"flood\", \"flood\", \"flood\", \"forest\", \"forest\", \"forestry\", \"forestry\", \"foster\", \"fourth\", \"fourth\", \"fourth\", \"fourth\", \"freight\", \"fund\", \"fund\", \"fund\", \"gas\", \"gas\", \"gateway\", \"geothermal\", \"governance\", \"governance\", \"government\", \"government\", \"green\", \"grid\", \"growth\", \"growth\", \"growth\", \"guarantee\", \"hard\", \"hazard\", \"health\", \"health\", \"health\", \"health\", \"health\", \"heat\", \"heating\", \"heating\", \"heritage\", \"heritage\", \"higher\", \"higher\", \"highway\", \"highway\", \"housing\", \"housing\", \"human\", \"human\", \"human\", \"human\", \"improving\", \"improving\", \"inclusion\", \"inclusion\", \"inclusion\", \"inclusion\", \"inclusion\", \"inclusive\", \"inclusive\", \"inclusive\", \"income\", \"industrial\", \"industrial\", \"industrial\", \"industry\", \"information\", \"information\", \"infrastructure\", \"infrastructure\", \"infrastructure\", \"initiative\", \"initiative\", \"inland\", \"innovation\", \"innovation\", \"institution\", \"institutional\", \"institutional\", \"insurance\", \"insurance\", \"integration\", \"integration\", \"intermediation\", \"intermediation\", \"international\", \"international\", \"investment\", \"investment\", \"investment\", \"iodine\", \"irrigation\", \"irrigation\", \"jordan\", \"judicial\", \"judicial\", \"judicial\", \"justice\", \"justice\", \"knowledge\", \"labor\", \"lake\", \"lake\", \"land\", \"learning\", \"life\", \"lifeline\", \"line\", \"line\", \"linha\", \"living\", \"local\", \"local\", \"logistics\", \"logistics\", \"logistics\", \"maintenance\", \"manila\", \"manila\", \"market\", \"market\", \"market\", \"mass\", \"medium\", \"metropolitan\", \"metropolitan\", \"micro\", \"mine\", \"mine\", \"ministry\", \"mitigation\", \"mitigation\", \"mitigation\", \"modernization\", \"modernization\", \"modernization\", \"modernization\", \"modernization\", \"mountainous\", \"municipal\", \"municipal\", \"municipal\", \"municipal\", \"national\", \"national\", \"national\", \"national\", \"national\", \"national\", \"natural\", \"natural\", \"natural\", \"net\", \"network\", \"network\", \"north\", \"northern\", \"northwest\", \"nutrition\", \"oil\", \"oil\", \"one\", \"operation\", \"operation\", \"operation\", \"option\", \"ose\", \"partnership\", \"partnership\", \"pension\", \"performance\", \"performance\", \"performance\", \"petroleum\", \"phase\", \"phase\", \"phase\", \"phase\", \"phase\", \"pilot\", \"pilot\", \"pipeline\", \"policy\", \"policy\", \"policy\", \"policy\", \"policy\", \"pollution\", \"pollution\", \"poor\", \"poor\", \"poor\", \"port\", \"post\", \"poverty\", \"poverty\", \"poverty\", \"power\", \"power\", \"power\", \"power\", \"preparedness\", \"prevention\", \"primary\", \"private\", \"private\", \"private\", \"programmatic\", \"programmatic\", \"programmatic\", \"programmatic\", \"promote\", \"property\", \"prosperity\", \"protection\", \"protection\", \"protection\", \"provincial\", \"provincial\", \"provincial\", \"provincial\", \"public\", \"public\", \"public\", \"public\", \"public\", \"quality\", \"quality\", \"quality\", \"rail\", \"railway\", \"railway\", \"rapid\", \"rate\", \"real\", \"reconstruction\", \"reconstruction\", \"recovery\", \"recovery\", \"recovery\", \"red\", \"reduction\", \"reduction\", \"reduction\", \"reef\", \"refer\", \"reform\", \"reform\", \"reform\", \"reform\", \"reform\", \"reform\", \"reform\", \"reform\", \"region\", \"region\", \"regional\", \"regional\", \"regional\", \"registration\", \"regulatory\", \"rehabilitation\", \"rehabilitation\", \"rehabilitation\", \"rehabilitation\", \"rehabilitation\", \"rehabilitation\", \"reinforcement\", \"renewable\", \"research\", \"resilience\", \"resilience\", \"resilience\", \"resource\", \"resource\", \"response\", \"response\", \"reuse\", \"revenue\", \"rio\", \"rio\", \"rio\", \"rio\", \"risk\", \"risk\", \"risk\", \"river\", \"road\", \"road\", \"rural\", \"rural\", \"rural\", \"rural\", \"rural\", \"rural\", \"safe\", \"safety\", \"safety\", \"safety\", \"sanitation\", \"sanitation\", \"sao\", \"school\", \"science\", \"second\", \"second\", \"second\", \"second\", \"second\", \"second\", \"secondary\", \"secondary\", \"secondary\", \"security\", \"security\", \"service\", \"service\", \"service\", \"service\", \"service\", \"sewerage\", \"sewerage\", \"sewerage\", \"shanghai\", \"single\", \"sixth\", \"small\", \"small\", \"social\", \"social\", \"social\", \"social\", \"social\", \"social\", \"social\", \"social\", \"socioeconomic\", \"solar\", \"solid\", \"south\", \"south\", \"southeast\", \"southwest\", \"special\", \"stabilization\", \"state\", \"state\", \"state\", \"state\", \"statistic\", \"storage\", \"storage\", \"strategic\", \"structural\", \"structural\", \"structural\", \"student\", \"superior\", \"supplemental\", \"supply\", \"supply\", \"supporting\", \"supporting\", \"sustainable\", \"sustainable\", \"sustainable\", \"sustainable\", \"sustainable\", \"sustainable\", \"sustaining\", \"tax\", \"teacher\", \"technology\", \"technology\", \"technology\", \"term\", \"tertiary\", \"tertiary\", \"third\", \"third\", \"third\", \"third\", \"third\", \"tourism\", \"town\", \"trade\", \"trade\", \"trade\", \"transfer\", \"transformation\", \"transformation\", \"transit\", \"transition\", \"transmission\", \"transmission\", \"transparency\", \"transport\", \"transport\", \"transport\", \"treasury\", \"tuberculosis\", \"universal\", \"upper\", \"urban\", \"urban\", \"urban\", \"urban\", \"urban\", \"urban\", \"village\", \"vocational\", \"vulnerability\", \"vulnerability\", \"waste\", \"water\", \"water\", \"water\", \"water\", \"water\", \"watershed\", \"west\", \"west\", \"western\", \"work\", \"work\", \"youth\"]}, \"R\": 30, \"lambda.step\": 0.01, \"plot.opts\": {\"xlab\": \"PC1\", \"ylab\": \"PC2\"}, \"topic.order\": [1, 6, 2, 3, 4, 5, 7, 8, 9, 11, 10]};\n",
       "\n",
       "function LDAvis_load_lib(url, callback){\n",
       "  var s = document.createElement('script');\n",
       "  s.src = url;\n",
       "  s.async = true;\n",
       "  s.onreadystatechange = s.onload = callback;\n",
       "  s.onerror = function(){console.warn(\"failed to load library \" + url);};\n",
       "  document.getElementsByTagName(\"head\")[0].appendChild(s);\n",
       "}\n",
       "\n",
       "if(typeof(LDAvis) !== \"undefined\"){\n",
       "   // already loaded: just create the visualization\n",
       "   !function(LDAvis){\n",
       "       new LDAvis(\"#\" + \"ldavis_el2599001396697247978569961231415\", ldavis_el2599001396697247978569961231415_data);\n",
       "   }(LDAvis);\n",
       "}else if(typeof define === \"function\" && define.amd){\n",
       "   // require.js is available: use it to load d3/LDAvis\n",
       "   require.config({paths: {d3: \"https://d3js.org/d3.v5\"}});\n",
       "   require([\"d3\"], function(d3){\n",
       "      window.d3 = d3;\n",
       "      LDAvis_load_lib(\"https://cdn.jsdelivr.net/gh/bmabey/pyLDAvis@3.3.1/pyLDAvis/js/ldavis.v3.0.0.js\", function(){\n",
       "        new LDAvis(\"#\" + \"ldavis_el2599001396697247978569961231415\", ldavis_el2599001396697247978569961231415_data);\n",
       "      });\n",
       "    });\n",
       "}else{\n",
       "    // require.js not available: dynamically load d3 & LDAvis\n",
       "    LDAvis_load_lib(\"https://d3js.org/d3.v5.js\", function(){\n",
       "         LDAvis_load_lib(\"https://cdn.jsdelivr.net/gh/bmabey/pyLDAvis@3.3.1/pyLDAvis/js/ldavis.v3.0.0.js\", function(){\n",
       "                 new LDAvis(\"#\" + \"ldavis_el2599001396697247978569961231415\", ldavis_el2599001396697247978569961231415_data);\n",
       "            })\n",
       "         });\n",
       "}\n",
       "</script>"
      ],
      "text/plain": [
       "PreparedData(topic_coordinates=              x         y  topics  cluster       Freq\n",
       "topic                                                \n",
       "0      0.010461  0.007148       1        1  18.667391\n",
       "5      0.191939  0.030447       2        1  17.830667\n",
       "1      0.103388 -0.096781       3        1  14.672907\n",
       "2      0.026888 -0.014844       4        1   9.030314\n",
       "3      0.083795  0.066718       5        1   8.527691\n",
       "4     -0.000299 -0.184807       6        1   8.374139\n",
       "6     -0.009162  0.352149       7        1   6.382270\n",
       "7      0.167800 -0.121820       8        1   6.003094\n",
       "8     -0.264481 -0.077063       9        1   4.160028\n",
       "10    -0.291086 -0.010573      10        1   3.880054\n",
       "9     -0.019242  0.049426      11        1   2.471444, topic_info=           Term        Freq       Total Category  logprob  loglift\n",
       "11       policy  284.000000  284.000000  Default  30.0000  30.0000\n",
       "92        urban  133.000000  133.000000  Default  29.0000  29.0000\n",
       "64    transport   95.000000   95.000000  Default  28.0000  28.0000\n",
       "18   adjustment  118.000000  118.000000  Default  27.0000  27.0000\n",
       "28       health  112.000000  112.000000  Default  26.0000  26.0000\n",
       "..          ...         ...         ...      ...      ...      ...\n",
       "252          da    0.115656    7.062264  Topic11  -7.3927  -0.4115\n",
       "61        phase    0.115654   39.046573  Topic11  -7.3927  -2.1215\n",
       "3        public    0.115652  125.661738  Topic11  -7.3927  -3.2904\n",
       "27       second    0.115651  279.686066  Topic11  -7.3927  -4.0905\n",
       "1        social    0.115650  126.207956  Topic11  -7.3927  -3.2947\n",
       "\n",
       "[492 rows x 6 columns], token_table=      Topic      Freq            Term\n",
       "term                                 \n",
       "331       1  0.750876       abatement\n",
       "58        3  0.034945          access\n",
       "58        5  0.559127          access\n",
       "58        6  0.349454          access\n",
       "134       2  0.524267  accountability\n",
       "...     ...       ...             ...\n",
       "40        4  0.093306            west\n",
       "275       4  0.949853         western\n",
       "340       1  0.535562            work\n",
       "340       5  0.267781            work\n",
       "126       3  0.812058           youth\n",
       "\n",
       "[624 rows x 3 columns], R=30, lambda_step=0.01, plot_opts={'xlab': 'PC1', 'ylab': 'PC2'}, topic_order=[1, 6, 2, 3, 4, 5, 7, 8, 9, 11, 10])"
      ]
     },
     "execution_count": 18,
     "metadata": {},
     "output_type": "execute_result"
    }
   ],
   "source": [
    "pyLDAvis.enable_notebook()\n",
    "vis = pyLDAvis.gensim_models.prepare(LDAmodel, corpus, dictionary)\n",
    "pyLDAvis.save_html(vis, 'lda.html')\n",
    "vis"
   ]
  },
  {
   "cell_type": "markdown",
   "metadata": {},
   "source": [
    "## Predict Topics for Document"
   ]
  },
  {
   "cell_type": "code",
   "execution_count": 19,
   "metadata": {},
   "outputs": [
    {
     "name": "stdout",
     "output_type": "stream",
     "text": [
      "  The objective of the Project is to improve the living conditions and the social inclusion of the most disadvantaged and vulnerable people in Romania.   The Project consists of the following parts:  Part I: Priority Interventions ProgramSupport to RSDF to improve living conditions and social inclusion for Roma living in about one hundred (100) poor settlements through: (i) the financing of Priority Interventions Sub-projects awarded on a competitive basis; (ii) the carrying out of promotion, information and education campaigns and monitoring evaluation activities, and the provision of training for local authorities, community groups and NGOs; (iii) the provision of assistance in capacity building at community level through preparation, facilitation, evaluation and supervision of Priority Intervention Sub-projects and provision of training in relation thereto, including training to RSDF; and (iv) the provision of technical assistance to poor Roma communities to prepare projects to be financed through EU funds.  Part II: Inclusive Early Childhood Education ProgramSupport to MER to mainstream Roma into the regular policies and programs of MER through: (i) the construction, extension, rehabilitation and furnishing of ECE infrastructure in communities with a high percentage of Roma; (ii) the development of an inclusive ECE curriculum, the provision of  training to ECE staff, the development and distribution of ECE teaching and learning materials, and the provision of technical assistance to entities entitled to submit financing applications for projects to be financed through EU structural funds; (iii) the promotion of integrated services and alternative community-based solutions for ECE, including the development of coherent ECE legislation, and the provision of training and counseling programs for parents; and (iv) the carrying out of monitoring and evaluation and information, education and communication activities.  Part III:Social Assistance Programs1. Disabilities Program   Support to MLSSF and NAPH to improve the quality of care in residential services and to increase the access to community-based services for persons with disabilities in need through: (i) the financing of Disabilities Sub-projects awarded on a competitive basis; (iii) the provision of training to professional staff that will implement - 7 -new standards of care; (iii) the development of the monitoring and evaluation system for NAPH; and (iv) the provision of occupational counseling services.  2. Youth at Risk Program  Support to MLSSF to enhance the social integration of youth aged eighteen (18) and more graduating from the institutionalized child care system, through: (i) the financing of Youth at Risk Sub-projects awarded on a competitive basis; (ii) the carrying out of monitoring and evaluation activities, and the development of specific methodologies;  (iii) the provision of training to the staff of the multi-functional centers to be established under the Youth at Risk Sub-projects, and to the MLSSF staff involved in supervising the functioning of such multi-functional centers; and (iv) the carrying out of public awareness activities.  3. Victims of Domestic Violence Program  Support to MLSSF and NAFP to develop specialized integrated social services for victims of domestic violence, through: (i) the financing of Domestic Violence Sub-projects awarded on a competitive basis; (ii) the provision of training to the staff of centers for victims of domestic violence and to NAFP staff; (iii) the carrying out of monitoring and evaluation activities, the development of specific methodologies and the development of a specific management information system regarding victims and aggressors to be maintained by NAFP; and (iv) the carrying out of public awareness activities. .Part IV:Capacity Building for Roma Social InclusionSupport to NAR and its eight (8) regional branches to coordinate activities aimed at improving inclusive planning, monitoring and evaluation and identification, preparation and implementation of programs to be financed through EU and other funds, through: (i) the provision of training to NAR staff, Roma NGOs, local authorities and Roma community initiative groups; (ii) the preparation and implementation of an information, education and communication strategy; and (iii) the strengthening of the monitoring and evaluation system.  - 8 - (social inclusion project)\n",
      "[(0, 0.22256151), (4, 0.12962034), (6, 0.12515248), (7, 0.123490535), (1, 0.12001566), (5, 0.09955666), (3, 0.07616518), (10, 0.031303365), (8, 0.029452156), (2, 0.028327756), (9, 0.014354359)]\n"
     ]
    }
   ],
   "source": [
    "def lda_predict(doc):\n",
    "    ''' Displays distribution of topics within corpus document'''\n",
    "    s = text_preprocess(doc)\n",
    "    b = list(dictionary.doc2bow(s))\n",
    "    p = list(LDAmodel[b])\n",
    "    topics = sorted(p,key=lambda x:x[1],reverse=True)\n",
    "    return topics\n",
    "\n",
    "print(data[0])\n",
    "p = lda_predict(data[0])\n",
    "print(p)"
   ]
  },
  {
   "cell_type": "code",
   "execution_count": null,
   "metadata": {},
   "outputs": [],
   "source": []
  },
  {
   "cell_type": "code",
   "execution_count": null,
   "metadata": {},
   "outputs": [],
   "source": []
  },
  {
   "cell_type": "code",
   "execution_count": null,
   "metadata": {},
   "outputs": [],
   "source": []
  },
  {
   "cell_type": "code",
   "execution_count": null,
   "metadata": {},
   "outputs": [],
   "source": []
  },
  {
   "cell_type": "code",
   "execution_count": null,
   "metadata": {},
   "outputs": [],
   "source": []
  },
  {
   "cell_type": "code",
   "execution_count": null,
   "metadata": {},
   "outputs": [],
   "source": []
  },
  {
   "cell_type": "code",
   "execution_count": null,
   "metadata": {},
   "outputs": [],
   "source": []
  },
  {
   "cell_type": "code",
   "execution_count": null,
   "metadata": {},
   "outputs": [],
   "source": []
  },
  {
   "cell_type": "code",
   "execution_count": null,
   "metadata": {},
   "outputs": [],
   "source": []
  },
  {
   "cell_type": "code",
   "execution_count": null,
   "metadata": {},
   "outputs": [],
   "source": []
  },
  {
   "cell_type": "code",
   "execution_count": null,
   "metadata": {},
   "outputs": [],
   "source": []
  },
  {
   "cell_type": "code",
   "execution_count": null,
   "metadata": {},
   "outputs": [],
   "source": []
  },
  {
   "cell_type": "code",
   "execution_count": 20,
   "metadata": {},
   "outputs": [],
   "source": [
    "# tokenized_only_dict = Counter(np.concatenate(dG.tokenized_text.values))\n",
    "\n",
    "# tokenized_only_df = pd.DataFrame.from_dict(tokenized_only_dict, orient='index')\n",
    "# tokenized_only_df.rename(columns={0: 'count'}, inplace=True)"
   ]
  },
  {
   "cell_type": "code",
   "execution_count": 21,
   "metadata": {},
   "outputs": [],
   "source": [
    "# tokenized_only_df.sort_values('count', ascending=False, inplace=True)"
   ]
  },
  {
   "cell_type": "code",
   "execution_count": 22,
   "metadata": {},
   "outputs": [],
   "source": [
    "# dictionary = Dictionary(documents=dG.stemmed_text.values)"
   ]
  },
  {
   "cell_type": "code",
   "execution_count": 23,
   "metadata": {},
   "outputs": [],
   "source": [
    "# cleansed_words_df = pd.DataFrame.from_dict(dictionary.token2id, orient='index')\n",
    "# cleansed_words_df.rename(columns={0: 'id'}, inplace=True)\n",
    "\n",
    "# cleansed_words_df['count'] = list(map(lambda id_: dictionary.dfs.get(id_), cleansed_words_df.id))\n",
    "# del cleansed_words_df['id']\n",
    "\n",
    "# cleansed_words_df.sort_values('count', ascending=False, inplace=True)"
   ]
  },
  {
   "cell_type": "code",
   "execution_count": 24,
   "metadata": {},
   "outputs": [],
   "source": [
    "# fig, ax = plt.subplots(figsize=(15,6))\n",
    "\n",
    "# ax.set_title(\"Distribution of number of words\", fontsize=16)\n",
    "# ax.set_xlabel(\"Number of words\")\n",
    "# sns.distplot(document_lengths, bins=50, ax=ax);"
   ]
  },
  {
   "cell_type": "code",
   "execution_count": 25,
   "metadata": {},
   "outputs": [],
   "source": [
    "# def get_good_tokens(sentence):\n",
    "#     replaced_punctation = list(map(lambda token: re.sub('[^0-9A-Za-z!?]+', '', token), sentence))\n",
    "#     removed_punctation = list(filter(lambda token: token, replaced_punctation))\n",
    "#     return removed_punctation"
   ]
  },
  {
   "cell_type": "code",
   "execution_count": 26,
   "metadata": {},
   "outputs": [],
   "source": [
    "# def lda_get_good_tokens(df):\n",
    "#     df['text'] = df.proj_desc.str.lower()\n",
    "#     df['tokenized_text'] = list(map(nltk.word_tokenize, df.proj_desc))\n",
    "#     df['tokenized_text'] = list(map(get_good_tokens, df.tokenized_text))\n",
    "\n",
    "# lda_get_good_tokens(dG)"
   ]
  },
  {
   "cell_type": "code",
   "execution_count": 27,
   "metadata": {},
   "outputs": [],
   "source": [
    "# tokenized_only_dict = Counter(np.concatenate(dG.stem.values))\n",
    "\n",
    "# tokenized_only_df = pd.DataFrame.from_dict(tokenized_only_dict, orient='index')\n",
    "# tokenized_only_df.rename(columns={0: 'count'}, inplace=True)\n",
    "\n",
    "# tokenized_only_df.sort_values('count', ascending=False, inplace=True)\n",
    "\n",
    "# # I made a function out of this since I will use it again later on \n",
    "# def word_frequency_barplot(df, nr_top_words=50):\n",
    "#     \"\"\" df should have a column named count.\n",
    "#     \"\"\"\n",
    "#     fig, ax = plt.subplots(1,1,figsize=(20,5))\n",
    "\n",
    "#     sns.barplot(list(range(nr_top_words)), df['count'].values[:nr_top_words], palette='hls', ax=ax)\n",
    "\n",
    "#     ax.set_xticks(list(range(nr_top_words)))\n",
    "#     ax.set_xticklabels(df.index[:nr_top_words], fontsize=14, rotation=90)\n",
    "#     return ax\n",
    "    \n",
    "# ax = word_frequency_barplot(tokenized_only_df)\n",
    "# ax.set_title(\"Word Frequencies\", fontsize=16);"
   ]
  },
  {
   "cell_type": "code",
   "execution_count": 28,
   "metadata": {},
   "outputs": [],
   "source": [
    "# def remove_stopwords(df):\n",
    "#     \"\"\" Removes stopwords based on a known set of stopwords\n",
    "#     available in the nltk package. In addition, we include our\n",
    "#     made up word in here.\n",
    "#     \"\"\"\n",
    "#     # Luckily nltk already has a set of stopwords that we can remove from the texts.\n",
    "#     stopwords = nltk.corpus.stopwords.words('english')\n",
    "#     # we'll add our own special word in here 'qwerty'\n",
    "#     stopwords.append('the')\n",
    "\n",
    "#     df['stopwords_removed'] = list(map(lambda doc:\n",
    "#                                        [word for word in doc if word not in stopwords],\n",
    "#                                        df['tokenized_text']))\n",
    "\n",
    "# remove_stopwords(dG)\n",
    "\n",
    "\n",
    "# def stem_words(df):\n",
    "#     lemm = nltk.stem.WordNetLemmatizer()\n",
    "#     df['lemmatized_text'] = list(map(lambda sentence:\n",
    "#                                      list(map(lemm.lemmatize, sentence)),\n",
    "#                                      df.stopwords_removed))\n",
    "\n",
    "#     p_stemmer = nltk.stem.porter.PorterStemmer()\n",
    "#     df['stemmed_text'] = list(map(lambda sentence:\n",
    "#                                   list(map(p_stemmer.stem, sentence)),\n",
    "#                                   df.lemmatized_text))\n",
    "\n",
    "# stem_words(dG)"
   ]
  },
  {
   "cell_type": "code",
   "execution_count": 29,
   "metadata": {},
   "outputs": [],
   "source": [
    "# dictionary = Dictionary(documents=dG.stemmed_text.values)\n",
    "\n",
    "# print(\"Found {} words.\".format(len(dictionary.values())))"
   ]
  },
  {
   "cell_type": "code",
   "execution_count": 30,
   "metadata": {},
   "outputs": [],
   "source": [
    "# dictionary.filter_extremes(no_above=0.8, no_below=3)\n",
    "\n",
    "# dictionary.compactify()  # Reindexes the remaining words after filtering\n",
    "# print(\"Left with {} words.\".format(len(dictionary.values())))"
   ]
  },
  {
   "cell_type": "code",
   "execution_count": 31,
   "metadata": {},
   "outputs": [],
   "source": [
    "# #Make a BOW for every document\n",
    "# def document_to_bow(df):\n",
    "#     df['bow'] = list(map(lambda doc: dictionary.doc2bow(doc), df.stemmed_text))\n",
    "    \n",
    "# document_to_bow(dG)"
   ]
  },
  {
   "cell_type": "code",
   "execution_count": 32,
   "metadata": {},
   "outputs": [],
   "source": [
    "# # we make a function such that later on when we make the submission, we don't need to write duplicate code\n",
    "# def lda_preprocessing(df):\n",
    "#     \"\"\" All the preprocessing steps for LDA are combined in this function.\n",
    "#     All mutations are done on the dataframe itself. So this function returns\n",
    "#     nothing.\n",
    "#     \"\"\"\n",
    "#     lda_get_good_tokens(df)\n",
    "#     remove_stopwords(df)\n",
    "#     stem_words(df)\n",
    "#     document_to_bow(df)"
   ]
  },
  {
   "cell_type": "code",
   "execution_count": 33,
   "metadata": {},
   "outputs": [],
   "source": [
    "# cleansed_words_df = pd.DataFrame.from_dict(dictionary.token2id, orient='index')\n",
    "# cleansed_words_df.rename(columns={0: 'id'}, inplace=True)\n",
    "\n",
    "# cleansed_words_df['count'] = list(map(lambda id_: dictionary.dfs.get(id_), cleansed_words_df.id))\n",
    "# del cleansed_words_df['id']\n",
    "\n",
    "# cleansed_words_df.sort_values('count', ascending=False, inplace=True)"
   ]
  },
  {
   "cell_type": "code",
   "execution_count": 34,
   "metadata": {},
   "outputs": [],
   "source": [
    "#ax = word_frequency_barplot(cleansed_words_df)\n",
    "#ax.set_title(\"Document Frequencies (Number of documents a word appears in)\", fontsize=16);"
   ]
  },
  {
   "cell_type": "code",
   "execution_count": 35,
   "metadata": {},
   "outputs": [],
   "source": [
    "#def stem_words(df):\n",
    "#    lemm = nltk.stem.WordNetLemmatizer()\n",
    "#    df['lemmatized_text'] = list(map(lambda sentence:\n",
    "#                                     list(map(lemm.lemmatize, sentence)),\n",
    "#                                     df.stopwords_removed))\n",
    "#\n",
    "#    p_stemmer = nltk.stem.porter.PorterStemmer()\n",
    "#    df['stemmed_text'] = list(map(lambda sentence:\n",
    "#                                  list(map(p_stemmer.stem, sentence)),\n",
    "#                                  df.lemmatized_text))"
   ]
  },
  {
   "cell_type": "code",
   "execution_count": 36,
   "metadata": {},
   "outputs": [],
   "source": [
    "#tokenizer = RegexpTokenizer(r'\\w+')\n",
    "#en_stop = get_stop_words('en')\n",
    "#p_stemmer = PorterStemmer()\n",
    "\n",
    "#def text_preprocess(text):\n",
    "#    tokens = tokenizer.tokenize(text.lower())\n",
    "#    t = [i for i in tokens if not i in en_stop]\t\n",
    "#    t1 = [p_stemmer.stem(i) for i in t]\n",
    "#    return t1\n",
    "\n",
    "\n",
    "### Removes punctuation, stopwords, lemmatizes\n",
    "#def text_preprocess(text):\n",
    "#    '''\n",
    "#    Remove all punctuation,stopwords, lemmatize -> returns list of words\n",
    "#    '''\n",
    "#    stemmer = WordNetLemmatizer()\n",
    "#    nopunc = [char for char in text if char not in string.punctuation]\n",
    "#    nopunc = ''.join([i for i in nopunc if not i.isdigit()])\n",
    "#    nopunc =  [word.lower() for word in nopunc.split() if word not in stopwords.words('english')]\n",
    "#    nopunc = [w for w in nopunc if w.lower() in words or not w.isalpha()]\n",
    "#    return [stemmer.lemmatize(word) for word in nopunc]\n",
    "\n",
    "#T = [ text_preprocess(t) for t in dG.proj_desc]"
   ]
  }
 ],
 "metadata": {
  "kernelspec": {
   "display_name": "Python 3",
   "language": "python",
   "name": "python3"
  },
  "language_info": {
   "codemirror_mode": {
    "name": "ipython",
    "version": 3
   },
   "file_extension": ".py",
   "mimetype": "text/x-python",
   "name": "python",
   "nbconvert_exporter": "python",
   "pygments_lexer": "ipython3",
   "version": "3.8.10"
  }
 },
 "nbformat": 4,
 "nbformat_minor": 4
}
