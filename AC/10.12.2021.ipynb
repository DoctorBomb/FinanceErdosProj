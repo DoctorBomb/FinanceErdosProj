{
 "cells": [
  {
   "cell_type": "code",
   "execution_count": 2,
   "id": "4146e150",
   "metadata": {},
   "outputs": [],
   "source": [
    "#We import the necessary Packages\n",
    "import pandas as pd\n",
    "import re\n",
    "import numpy as np\n",
    "import datetime\n",
    "import os.path\n",
    "import random\n",
    "\n",
    "DATA_DIR = os.path.abspath('/Users/attiliocastano/Documents/GitHub/amethyst-erdos-may-2021/data')"
   ]
  },
  {
   "cell_type": "code",
   "execution_count": 3,
   "id": "494b8349",
   "metadata": {},
   "outputs": [],
   "source": [
    "Extracted_DF=pd.read_csv(os.path.join(DATA_DIR,'Extracted_Attributes_LoanUSD_Country.csv'))"
   ]
  },
  {
   "cell_type": "code",
   "execution_count": 4,
   "id": "95ec0987",
   "metadata": {},
   "outputs": [
    {
     "data": {
      "text/html": [
       "<div>\n",
       "<style scoped>\n",
       "    .dataframe tbody tr th:only-of-type {\n",
       "        vertical-align: middle;\n",
       "    }\n",
       "\n",
       "    .dataframe tbody tr th {\n",
       "        vertical-align: top;\n",
       "    }\n",
       "\n",
       "    .dataframe thead th {\n",
       "        text-align: right;\n",
       "    }\n",
       "</style>\n",
       "<table border=\"1\" class=\"dataframe\">\n",
       "  <thead>\n",
       "    <tr style=\"text-align: right;\">\n",
       "      <th></th>\n",
       "      <th>filename</th>\n",
       "      <th>Project_name</th>\n",
       "      <th>Project_desc</th>\n",
       "      <th>Date</th>\n",
       "      <th>Amount_loan</th>\n",
       "      <th>Currency_name</th>\n",
       "      <th>Year</th>\n",
       "      <th>Value</th>\n",
       "      <th>Amount_in_usd</th>\n",
       "      <th>Country_Code</th>\n",
       "      <th>Country</th>\n",
       "      <th>Region</th>\n",
       "      <th>Income_level</th>\n",
       "    </tr>\n",
       "  </thead>\n",
       "  <tbody>\n",
       "    <tr>\n",
       "      <th>0</th>\n",
       "      <td>1990_april_24_587321468019152780_conformed-cop...</td>\n",
       "      <td>forestry sector project</td>\n",
       "      <td>Description of the Project The objectives of t...</td>\n",
       "      <td>1990-04-24</td>\n",
       "      <td>80000000.0</td>\n",
       "      <td>USD</td>\n",
       "      <td>1990</td>\n",
       "      <td>1.0</td>\n",
       "      <td>80000000.0</td>\n",
       "      <td>CIV</td>\n",
       "      <td>Cote d'Ivoire</td>\n",
       "      <td>Sub-Saharan Africa</td>\n",
       "      <td>Lower middle income</td>\n",
       "    </tr>\n",
       "    <tr>\n",
       "      <th>1</th>\n",
       "      <td>1990_april_24_668811468165272290_conformed-cop...</td>\n",
       "      <td>water supply project</td>\n",
       "      <td>NaN</td>\n",
       "      <td>1990-04-24</td>\n",
       "      <td>2500000.0</td>\n",
       "      <td>USD</td>\n",
       "      <td>1990</td>\n",
       "      <td>1.0</td>\n",
       "      <td>2500000.0</td>\n",
       "      <td>LCA</td>\n",
       "      <td>St. Lucia</td>\n",
       "      <td>Latin America &amp; Caribbean</td>\n",
       "      <td>Upper middle income</td>\n",
       "    </tr>\n",
       "    <tr>\n",
       "      <th>2</th>\n",
       "      <td>1990_april_25_904191468298750561_conformed-cop...</td>\n",
       "      <td>environment management project</td>\n",
       "      <td>Description of the Project The objectives of t...</td>\n",
       "      <td>1990-04-25</td>\n",
       "      <td>18000000.0</td>\n",
       "      <td>USD</td>\n",
       "      <td>1990</td>\n",
       "      <td>1.0</td>\n",
       "      <td>18000000.0</td>\n",
       "      <td>POL</td>\n",
       "      <td>Poland</td>\n",
       "      <td>Europe &amp; Central Asia</td>\n",
       "      <td>High income</td>\n",
       "    </tr>\n",
       "    <tr>\n",
       "      <th>3</th>\n",
       "      <td>1990_april_30_410811468040573756_conformed-cop...</td>\n",
       "      <td>rural electrification project</td>\n",
       "      <td>Description of the Project The objective of th...</td>\n",
       "      <td>1990-04-30</td>\n",
       "      <td>329000000.0</td>\n",
       "      <td>USD</td>\n",
       "      <td>1990</td>\n",
       "      <td>1.0</td>\n",
       "      <td>329000000.0</td>\n",
       "      <td>IDN</td>\n",
       "      <td>Indonesia</td>\n",
       "      <td>East Asia &amp; Pacific</td>\n",
       "      <td>Upper middle income</td>\n",
       "    </tr>\n",
       "    <tr>\n",
       "      <th>4</th>\n",
       "      <td>1990_april_30_725911468042268845_conformed-cop...</td>\n",
       "      <td>third telecommunications project</td>\n",
       "      <td>Description of the Project The objectives of t...</td>\n",
       "      <td>1990-04-30</td>\n",
       "      <td>350000000.0</td>\n",
       "      <td>USD</td>\n",
       "      <td>1990</td>\n",
       "      <td>1.0</td>\n",
       "      <td>350000000.0</td>\n",
       "      <td>IDN</td>\n",
       "      <td>Indonesia</td>\n",
       "      <td>East Asia &amp; Pacific</td>\n",
       "      <td>Upper middle income</td>\n",
       "    </tr>\n",
       "  </tbody>\n",
       "</table>\n",
       "</div>"
      ],
      "text/plain": [
       "                                            filename  \\\n",
       "0  1990_april_24_587321468019152780_conformed-cop...   \n",
       "1  1990_april_24_668811468165272290_conformed-cop...   \n",
       "2  1990_april_25_904191468298750561_conformed-cop...   \n",
       "3  1990_april_30_410811468040573756_conformed-cop...   \n",
       "4  1990_april_30_725911468042268845_conformed-cop...   \n",
       "\n",
       "                       Project_name  \\\n",
       "0           forestry sector project   \n",
       "1              water supply project   \n",
       "2    environment management project   \n",
       "3     rural electrification project   \n",
       "4  third telecommunications project   \n",
       "\n",
       "                                        Project_desc        Date  Amount_loan  \\\n",
       "0  Description of the Project The objectives of t...  1990-04-24   80000000.0   \n",
       "1                                                NaN  1990-04-24    2500000.0   \n",
       "2  Description of the Project The objectives of t...  1990-04-25   18000000.0   \n",
       "3  Description of the Project The objective of th...  1990-04-30  329000000.0   \n",
       "4  Description of the Project The objectives of t...  1990-04-30  350000000.0   \n",
       "\n",
       "  Currency_name  Year  Value  Amount_in_usd Country_Code        Country  \\\n",
       "0           USD  1990    1.0     80000000.0          CIV  Cote d'Ivoire   \n",
       "1           USD  1990    1.0      2500000.0          LCA      St. Lucia   \n",
       "2           USD  1990    1.0     18000000.0          POL         Poland   \n",
       "3           USD  1990    1.0    329000000.0          IDN      Indonesia   \n",
       "4           USD  1990    1.0    350000000.0          IDN      Indonesia   \n",
       "\n",
       "                       Region         Income_level  \n",
       "0         Sub-Saharan Africa   Lower middle income  \n",
       "1  Latin America & Caribbean   Upper middle income  \n",
       "2       Europe & Central Asia          High income  \n",
       "3         East Asia & Pacific  Upper middle income  \n",
       "4         East Asia & Pacific  Upper middle income  "
      ]
     },
     "execution_count": 4,
     "metadata": {},
     "output_type": "execute_result"
    }
   ],
   "source": [
    "Extracted_DF.head()"
   ]
  },
  {
   "cell_type": "code",
   "execution_count": 5,
   "id": "475ad1e3",
   "metadata": {},
   "outputs": [],
   "source": [
    "import collections\n",
    "import pathlib\n",
    "\n",
    "import tensorflow as tf\n",
    "\n",
    "from tensorflow.keras import layers\n",
    "from tensorflow.keras import losses\n",
    "from tensorflow.keras import utils\n",
    "from tensorflow.keras.layers import TextVectorization\n",
    "\n",
    "import tensorflow_datasets as tfds\n",
    "import tensorflow_text as tf_text"
   ]
  },
  {
   "cell_type": "code",
   "execution_count": 6,
   "id": "335577ff",
   "metadata": {
    "scrolled": true
   },
   "outputs": [
    {
     "data": {
      "text/plain": [
       "filename          object\n",
       "Project_name      object\n",
       "Project_desc      object\n",
       "Date              object\n",
       "Amount_loan      float64\n",
       "Currency_name     object\n",
       "Year               int64\n",
       "Value            float64\n",
       "Amount_in_usd    float64\n",
       "Country_Code      object\n",
       "Country           object\n",
       "Region            object\n",
       "Income_level      object\n",
       "dtype: object"
      ]
     },
     "execution_count": 6,
     "metadata": {},
     "output_type": "execute_result"
    }
   ],
   "source": [
    "Extracted_DF.dtypes"
   ]
  },
  {
   "cell_type": "code",
   "execution_count": 7,
   "id": "53c4f60a",
   "metadata": {},
   "outputs": [
    {
     "data": {
      "text/plain": [
       "0       1990_april_24_587321468019152780_conformed-cop...\n",
       "1       1990_april_24_668811468165272290_conformed-cop...\n",
       "2       1990_april_25_904191468298750561_conformed-cop...\n",
       "3       1990_april_30_410811468040573756_conformed-cop...\n",
       "4       1990_april_30_725911468042268845_conformed-cop...\n",
       "                              ...                        \n",
       "3200    2017_february_27_227281488910753648_official-d...\n",
       "3201    2018_august_1_571701533652733733_official-docu...\n",
       "3202    2018_july_4_554641531246086557_official-docume...\n",
       "3203    2017_july_14_224651501534199004_official-docum...\n",
       "3204    2018_january_22_247751525178911901_official-do...\n",
       "Name: filename, Length: 3205, dtype: object"
      ]
     },
     "execution_count": 7,
     "metadata": {},
     "output_type": "execute_result"
    }
   ],
   "source": [
    "text_features = ['filename', 'Project_name', 'Project_desc']\n",
    "DF = Extracted_DF[text_features]\n",
    "DF.iloc[:,0]"
   ]
  },
  {
   "cell_type": "code",
   "execution_count": 8,
   "id": "0d9ab2a6",
   "metadata": {},
   "outputs": [],
   "source": [
    "for i in DF.index:\n",
    "    if not(type(DF.loc[i, 'Project_desc']) == str):\n",
    "        DF = DF.drop(index = i)\n",
    "    "
   ]
  },
  {
   "cell_type": "code",
   "execution_count": 9,
   "id": "7a227858",
   "metadata": {},
   "outputs": [
    {
     "data": {
      "text/html": [
       "<div>\n",
       "<style scoped>\n",
       "    .dataframe tbody tr th:only-of-type {\n",
       "        vertical-align: middle;\n",
       "    }\n",
       "\n",
       "    .dataframe tbody tr th {\n",
       "        vertical-align: top;\n",
       "    }\n",
       "\n",
       "    .dataframe thead th {\n",
       "        text-align: right;\n",
       "    }\n",
       "</style>\n",
       "<table border=\"1\" class=\"dataframe\">\n",
       "  <thead>\n",
       "    <tr style=\"text-align: right;\">\n",
       "      <th></th>\n",
       "      <th>filename</th>\n",
       "      <th>Project_name</th>\n",
       "      <th>Project_desc</th>\n",
       "    </tr>\n",
       "  </thead>\n",
       "  <tbody>\n",
       "    <tr>\n",
       "      <th>0</th>\n",
       "      <td>1990_april_24_587321468019152780_conformed-cop...</td>\n",
       "      <td>forestry sector project</td>\n",
       "      <td>Description of the Project The objectives of t...</td>\n",
       "    </tr>\n",
       "    <tr>\n",
       "      <th>2</th>\n",
       "      <td>1990_april_25_904191468298750561_conformed-cop...</td>\n",
       "      <td>environment management project</td>\n",
       "      <td>Description of the Project The objectives of t...</td>\n",
       "    </tr>\n",
       "    <tr>\n",
       "      <th>3</th>\n",
       "      <td>1990_april_30_410811468040573756_conformed-cop...</td>\n",
       "      <td>rural electrification project</td>\n",
       "      <td>Description of the Project The objective of th...</td>\n",
       "    </tr>\n",
       "    <tr>\n",
       "      <th>4</th>\n",
       "      <td>1990_april_30_725911468042268845_conformed-cop...</td>\n",
       "      <td>third telecommunications project</td>\n",
       "      <td>Description of the Project The objectives of t...</td>\n",
       "    </tr>\n",
       "    <tr>\n",
       "      <th>5</th>\n",
       "      <td>1990_april_5_790191468211457471_conformed-copy...</td>\n",
       "      <td>west mitidja irrigation project</td>\n",
       "      <td>Description of the Project The objectives of t...</td>\n",
       "    </tr>\n",
       "  </tbody>\n",
       "</table>\n",
       "</div>"
      ],
      "text/plain": [
       "                                            filename  \\\n",
       "0  1990_april_24_587321468019152780_conformed-cop...   \n",
       "2  1990_april_25_904191468298750561_conformed-cop...   \n",
       "3  1990_april_30_410811468040573756_conformed-cop...   \n",
       "4  1990_april_30_725911468042268845_conformed-cop...   \n",
       "5  1990_april_5_790191468211457471_conformed-copy...   \n",
       "\n",
       "                       Project_name  \\\n",
       "0           forestry sector project   \n",
       "2    environment management project   \n",
       "3     rural electrification project   \n",
       "4  third telecommunications project   \n",
       "5   west mitidja irrigation project   \n",
       "\n",
       "                                        Project_desc  \n",
       "0  Description of the Project The objectives of t...  \n",
       "2  Description of the Project The objectives of t...  \n",
       "3  Description of the Project The objective of th...  \n",
       "4  Description of the Project The objectives of t...  \n",
       "5  Description of the Project The objectives of t...  "
      ]
     },
     "execution_count": 9,
     "metadata": {},
     "output_type": "execute_result"
    }
   ],
   "source": [
    "DF.head()"
   ]
  },
  {
   "cell_type": "code",
   "execution_count": 10,
   "id": "332fb0a3",
   "metadata": {},
   "outputs": [
    {
     "data": {
      "text/plain": [
       "(2367, 3)"
      ]
     },
     "execution_count": 10,
     "metadata": {},
     "output_type": "execute_result"
    }
   ],
   "source": [
    "DF.shape"
   ]
  },
  {
   "cell_type": "code",
   "execution_count": 11,
   "id": "064607c6",
   "metadata": {},
   "outputs": [],
   "source": [
    "for i in DF.index:\n",
    "    if not(type(DF.loc[i, 'Project_name']) == str):\n",
    "        DF = DF.drop(index = i)"
   ]
  },
  {
   "cell_type": "code",
   "execution_count": 12,
   "id": "a46d03d6",
   "metadata": {},
   "outputs": [],
   "source": [
    "for i in DF.index:\n",
    "    if not(type(DF.loc[i, 'filename']) == str):\n",
    "        DF = DF.drop(index = i)"
   ]
  },
  {
   "cell_type": "code",
   "execution_count": 13,
   "id": "8d4344a4",
   "metadata": {},
   "outputs": [
    {
     "data": {
      "text/plain": [
       "(2318, 3)"
      ]
     },
     "execution_count": 13,
     "metadata": {},
     "output_type": "execute_result"
    }
   ],
   "source": [
    "DF.shape"
   ]
  },
  {
   "cell_type": "markdown",
   "id": "f6437976",
   "metadata": {},
   "source": [
    "To convert the data into an object of tensorflow we need to first have all the features of the same type. As a result we have removed a good amount of documents where the project description was not obtained."
   ]
  },
  {
   "cell_type": "code",
   "execution_count": 14,
   "id": "86151fcd",
   "metadata": {},
   "outputs": [],
   "source": [
    "tf_DF = tf.constant(DF)"
   ]
  },
  {
   "cell_type": "code",
   "execution_count": 16,
   "id": "7619f9f5",
   "metadata": {},
   "outputs": [
    {
     "data": {
      "text/plain": [
       "TensorShape([2318, 3])"
      ]
     },
     "execution_count": 16,
     "metadata": {},
     "output_type": "execute_result"
    }
   ],
   "source": [
    "tf_DF.get_shape()"
   ]
  },
  {
   "cell_type": "code",
   "execution_count": 20,
   "id": "49b0ab96",
   "metadata": {},
   "outputs": [],
   "source": [
    "vectorize_layer = tf.keras.layers.TextVectorization(\n",
    "    max_tokens=None, standardize='lower_and_strip_punctuation',\n",
    "    split='whitespace', ngrams=None, output_mode='int',\n",
    "    output_sequence_length=None, pad_to_max_tokens=False, vocabulary=None\n",
    ")"
   ]
  },
  {
   "cell_type": "code",
   "execution_count": null,
   "id": "f97804dd",
   "metadata": {},
   "outputs": [],
   "source": []
  },
  {
   "cell_type": "code",
   "execution_count": 39,
   "id": "d173b20c",
   "metadata": {},
   "outputs": [],
   "source": [
    "df_1 = DF.iloc[0,:]"
   ]
  },
  {
   "cell_type": "code",
   "execution_count": 40,
   "id": "19ad3a6a",
   "metadata": {},
   "outputs": [
    {
     "data": {
      "text/plain": [
       "filename        1990_april_24_587321468019152780_conformed-cop...\n",
       "Project_name                              forestry sector project\n",
       "Project_desc    Description of the Project The objectives of t...\n",
       "Name: 0, dtype: object"
      ]
     },
     "execution_count": 40,
     "metadata": {},
     "output_type": "execute_result"
    }
   ],
   "source": [
    "df_1"
   ]
  },
  {
   "cell_type": "code",
   "execution_count": 42,
   "id": "268069bf",
   "metadata": {},
   "outputs": [],
   "source": [
    "df_1_vect = vectorize_layer.adapt(tf.constant(df_1))"
   ]
  },
  {
   "cell_type": "code",
   "execution_count": null,
   "id": "d7ba4ef0",
   "metadata": {},
   "outputs": [],
   "source": []
  },
  {
   "cell_type": "code",
   "execution_count": null,
   "id": "80c461e3",
   "metadata": {},
   "outputs": [],
   "source": []
  },
  {
   "cell_type": "code",
   "execution_count": null,
   "id": "e920c95e",
   "metadata": {},
   "outputs": [],
   "source": []
  }
 ],
 "metadata": {
  "kernelspec": {
   "display_name": "Python 3",
   "language": "python",
   "name": "python3"
  },
  "language_info": {
   "codemirror_mode": {
    "name": "ipython",
    "version": 3
   },
   "file_extension": ".py",
   "mimetype": "text/x-python",
   "name": "python",
   "nbconvert_exporter": "python",
   "pygments_lexer": "ipython3",
   "version": "3.8.8"
  }
 },
 "nbformat": 4,
 "nbformat_minor": 5
}
