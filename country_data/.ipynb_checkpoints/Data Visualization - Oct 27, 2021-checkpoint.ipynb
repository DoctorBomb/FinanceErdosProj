{
 "cells": [
  {
   "cell_type": "markdown",
   "id": "2647fdfb",
   "metadata": {},
   "source": [
    "# Team Bear: Qarik Coorporate Project\n",
    "### Some exploratory data analysis and data visualization\n",
    "\n",
    "The project consists on performing an analysis on the World Bank loan documentation, during the period 1990 - 2020. Since the data set is highly unstructured, extracting relevant features of each loan has been our main concern so far.\n",
    "\n",
    "This notebook is concerned only with a single feature associated to each loan document: the countries involved in the loan."
   ]
  },
  {
   "cell_type": "code",
   "execution_count": 1,
   "id": "e6a32e7a",
   "metadata": {},
   "outputs": [],
   "source": [
    "#We first import some relevant packages\n",
    "\n",
    "import os\n",
    "import numpy as np\n",
    "import pandas as pd\n",
    "import matplotlib.pyplot as plt\n"
   ]
  },
  {
   "cell_type": "markdown",
   "id": "1a5bd070",
   "metadata": {},
   "source": [
    "Our first data visualization will consist on a histogram showing in how many different loan documents a country is **mentioned**. And it does not show how many loan documents have been given to a country.\n",
    "\n",
    "For example, we will see the US is mentioned in 3121 of 3205 loan documents, but this is mostly due to the fact that the World Bank has its HQ in the US.\n",
    "\n",
    "We would also like to record that out of the 3205 documents, we not able to extract a single country mentioned on only 5 documents. However, there are known instances cases were the program does not extract the most 'relevant' country out of the documents. For example, Ivory Coast and Cote d'Ivoire are two names from the same country, but our program can only identify the first one."
   ]
  },
  {
   "cell_type": "code",
   "execution_count": 2,
   "id": "f77820b2",
   "metadata": {},
   "outputs": [
    {
     "data": {
      "text/html": [
       "<div>\n",
       "<style scoped>\n",
       "    .dataframe tbody tr th:only-of-type {\n",
       "        vertical-align: middle;\n",
       "    }\n",
       "\n",
       "    .dataframe tbody tr th {\n",
       "        vertical-align: top;\n",
       "    }\n",
       "\n",
       "    .dataframe thead th {\n",
       "        text-align: right;\n",
       "    }\n",
       "</style>\n",
       "<table border=\"1\" class=\"dataframe\">\n",
       "  <thead>\n",
       "    <tr style=\"text-align: right;\">\n",
       "      <th></th>\n",
       "      <th>countries</th>\n",
       "      <th>num_doc_mentioned</th>\n",
       "    </tr>\n",
       "  </thead>\n",
       "  <tbody>\n",
       "    <tr>\n",
       "      <th>0</th>\n",
       "      <td>united states</td>\n",
       "      <td>3121</td>\n",
       "    </tr>\n",
       "    <tr>\n",
       "      <th>1</th>\n",
       "      <td>china</td>\n",
       "      <td>326</td>\n",
       "    </tr>\n",
       "    <tr>\n",
       "      <th>2</th>\n",
       "      <td>india</td>\n",
       "      <td>218</td>\n",
       "    </tr>\n",
       "    <tr>\n",
       "      <th>3</th>\n",
       "      <td>indonesia</td>\n",
       "      <td>213</td>\n",
       "    </tr>\n",
       "    <tr>\n",
       "      <th>4</th>\n",
       "      <td>brazil</td>\n",
       "      <td>154</td>\n",
       "    </tr>\n",
       "  </tbody>\n",
       "</table>\n",
       "</div>"
      ],
      "text/plain": [
       "       countries  num_doc_mentioned\n",
       "0  united states               3121\n",
       "1          china                326\n",
       "2          india                218\n",
       "3      indonesia                213\n",
       "4         brazil                154"
      ]
     },
     "execution_count": 2,
     "metadata": {},
     "output_type": "execute_result"
    }
   ],
   "source": [
    "#We import the relevant data\n",
    "raw_country_count_df = pd.read_csv('freq_countries_mentioned.csv')\n",
    "raw_country_count_df.rename(columns = {'Unnamed: 0': 'countries'}, inplace = True)\n",
    "raw_country_count_df.head()"
   ]
  },
  {
   "cell_type": "code",
   "execution_count": 3,
   "id": "acf50af9",
   "metadata": {},
   "outputs": [
    {
     "data": {
      "text/plain": [
       "(227, 2)"
      ]
     },
     "execution_count": 3,
     "metadata": {},
     "output_type": "execute_result"
    }
   ],
   "source": [
    "raw_country_count_df.shape"
   ]
  },
  {
   "cell_type": "markdown",
   "id": "1647f0b8",
   "metadata": {},
   "source": [
    "We will now plot a bar-like graph showing the frequency of the countries mentioned. But as we can see from the graph above, the US is mentioned an order of magnitud more than the second most mentioned country.\n",
    "\n",
    "Hence, in order to make our graphs more meaninful we will exclude the US from the following visualizations."
   ]
  },
  {
   "cell_type": "code",
   "execution_count": 4,
   "id": "dcba89f0",
   "metadata": {},
   "outputs": [
    {
     "data": {
      "text/plain": [
       "[]"
      ]
     },
     "execution_count": 4,
     "metadata": {},
     "output_type": "execute_result"
    },
    {
     "data": {
      "image/png": "[encoded data removed]",
      "text/plain": [
       "<Figure size 1440x1080 with 1 Axes>"
      ]
     },
     "metadata": {
      "needs_background": "light"
     },
     "output_type": "display_data"
    }
   ],
   "source": [
    "#We plot the 20 most mentioned countries, excluding the US.\n",
    "\n",
    "plt.figure(figsize = (20,15))\n",
    "\n",
    "plt.bar(raw_country_count_df.loc[1:21, 'countries'].values, \n",
    "        raw_country_count_df.loc[1:21, 'num_doc_mentioned'].values)\n",
    "\n",
    "plt.xlabel('countries', fontsize = 16)\n",
    "plt.ylabel('total documents mentioned', fontsize = 16)\n",
    "\n",
    "plt.plot()"
   ]
  },
  {
   "cell_type": "code",
   "execution_count": 5,
   "id": "1be486e0",
   "metadata": {},
   "outputs": [],
   "source": [
    "countries_not_mentioned_df = raw_country_count_df[raw_country_count_df.num_doc_mentioned == 0]"
   ]
  },
  {
   "cell_type": "code",
   "execution_count": 6,
   "id": "b25baa07",
   "metadata": {},
   "outputs": [
    {
     "data": {
      "text/plain": [
       "(64, 2)"
      ]
     },
     "execution_count": 6,
     "metadata": {},
     "output_type": "execute_result"
    }
   ],
   "source": [
    "countries_not_mentioned_df.shape"
   ]
  },
  {
   "cell_type": "markdown",
   "id": "ec8ba054",
   "metadata": {},
   "source": [
    "This shows that from the 227 countries considered, 64 (~ 30% of all countries) were never mentioned in any loan documents.\n",
    "\n",
    "We will now perform a similar analysis as the one done above with a sligtly different data set. The data set still coinsists of country names and integers associated to them. However, this time the number associated to the country is the number of times this country was the one mentioned the most in the document (which is our best approximation to assigning a single country to each loan document)."
   ]
  },
  {
   "cell_type": "code",
   "execution_count": 7,
   "id": "83e20174",
   "metadata": {},
   "outputs": [
    {
     "data": {
      "text/html": [
       "<div>\n",
       "<style scoped>\n",
       "    .dataframe tbody tr th:only-of-type {\n",
       "        vertical-align: middle;\n",
       "    }\n",
       "\n",
       "    .dataframe tbody tr th {\n",
       "        vertical-align: top;\n",
       "    }\n",
       "\n",
       "    .dataframe thead th {\n",
       "        text-align: right;\n",
       "    }\n",
       "</style>\n",
       "<table border=\"1\" class=\"dataframe\">\n",
       "  <thead>\n",
       "    <tr style=\"text-align: right;\">\n",
       "      <th></th>\n",
       "      <th>countries</th>\n",
       "      <th>num_doc_max</th>\n",
       "    </tr>\n",
       "  </thead>\n",
       "  <tbody>\n",
       "    <tr>\n",
       "      <th>0</th>\n",
       "      <td>china</td>\n",
       "      <td>318</td>\n",
       "    </tr>\n",
       "    <tr>\n",
       "      <th>1</th>\n",
       "      <td>indonesia</td>\n",
       "      <td>205</td>\n",
       "    </tr>\n",
       "    <tr>\n",
       "      <th>2</th>\n",
       "      <td>india</td>\n",
       "      <td>197</td>\n",
       "    </tr>\n",
       "    <tr>\n",
       "      <th>3</th>\n",
       "      <td>united states</td>\n",
       "      <td>149</td>\n",
       "    </tr>\n",
       "    <tr>\n",
       "      <th>4</th>\n",
       "      <td>brazil</td>\n",
       "      <td>142</td>\n",
       "    </tr>\n",
       "  </tbody>\n",
       "</table>\n",
       "</div>"
      ],
      "text/plain": [
       "       countries  num_doc_max\n",
       "0          china          318\n",
       "1      indonesia          205\n",
       "2          india          197\n",
       "3  united states          149\n",
       "4         brazil          142"
      ]
     },
     "execution_count": 7,
     "metadata": {},
     "output_type": "execute_result"
    }
   ],
   "source": [
    "max_country_count_df = pd.read_csv('max_countries_mentioned.csv')\n",
    "max_country_count_df.rename(columns = {'Unnamed: 0': 'countries'}, inplace = True)\n",
    "max_country_count_df.head()"
   ]
  },
  {
   "cell_type": "markdown",
   "id": "40068482",
   "metadata": {},
   "source": [
    "As we can see, the US appears as the most mentioned country in 149 documents. We should not regard this as saying that the US has taken 149 loans, but rather, that our method failed to extract the 'true country' associated to the loan in this occations.\n",
    "\n",
    "We use the following two facts to justify this claim:\n",
    "- The World Bank has its HQ in the US. Furthermore, we already saw that the US was mentioned at least once in the large mayority of the documents.\n",
    "- According to [Wikipedia](https://en.wikipedia.org/wiki/World_Bank) the World Bank \"is an international financial institution that provides loans and grants to the governments of low- and middle-income countries for the purpose of pursuing capital projects\". And the US clearly does not fit this description."
   ]
  },
  {
   "cell_type": "code",
   "execution_count": 8,
   "id": "ddbcb91c",
   "metadata": {},
   "outputs": [
    {
     "data": {
      "text/plain": [
       "[]"
      ]
     },
     "execution_count": 8,
     "metadata": {},
     "output_type": "execute_result"
    },
    {
     "data": {
      "image/png": "[encoded data removed]",
      "text/plain": [
       "<Figure size 1440x1080 with 1 Axes>"
      ]
     },
     "metadata": {
      "needs_background": "light"
     },
     "output_type": "display_data"
    }
   ],
   "source": [
    "#We plot the 20 most mentioned countries, excluding the US.\n",
    "\n",
    "plt.figure(figsize = (20,15))\n",
    "\n",
    "plt.bar(max_country_count_df.loc[0:20, 'countries'].values, \n",
    "        max_country_count_df.loc[0:20, 'num_doc_max'].values)\n",
    "\n",
    "plt.xlabel('countries', fontsize = 16)\n",
    "plt.ylabel('total documents as main country', fontsize = 16)\n",
    "\n",
    "plt.plot()"
   ]
  },
  {
   "cell_type": "code",
   "execution_count": 9,
   "id": "0a0515ec",
   "metadata": {},
   "outputs": [
    {
     "data": {
      "text/plain": [
       "(119, 2)"
      ]
     },
     "execution_count": 9,
     "metadata": {},
     "output_type": "execute_result"
    }
   ],
   "source": [
    "countries_not_max_df = max_country_count_df[max_country_count_df.num_doc_max == 0]\n",
    "countries_not_max_df.shape"
   ]
  },
  {
   "cell_type": "markdown",
   "id": "b7a5df49",
   "metadata": {},
   "source": []
  },
  {
   "cell_type": "code",
   "execution_count": null,
   "id": "1a9c9485",
   "metadata": {},
   "outputs": [],
   "source": []
  },
  {
   "cell_type": "code",
   "execution_count": null,
   "id": "5801de13",
   "metadata": {},
   "outputs": [],
   "source": []
  }
 ],
 "metadata": {
  "kernelspec": {
   "display_name": "Python 3",
   "language": "python",
   "name": "python3"
  },
  "language_info": {
   "codemirror_mode": {
    "name": "ipython",
    "version": 3
   },
   "file_extension": ".py",
   "mimetype": "text/x-python",
   "name": "python",
   "nbconvert_exporter": "python",
   "pygments_lexer": "ipython3",
   "version": "3.8.8"
  }
 },
 "nbformat": 4,
 "nbformat_minor": 5
}
