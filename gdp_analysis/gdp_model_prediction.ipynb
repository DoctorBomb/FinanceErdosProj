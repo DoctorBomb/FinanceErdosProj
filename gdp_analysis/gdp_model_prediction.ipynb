{
 "cells": [
  {
   "cell_type": "code",
   "execution_count": 1,
   "id": "3190fef9",
   "metadata": {},
   "outputs": [],
   "source": [
    "import os\n",
    "import numpy as np\n",
    "import pandas as pd\n",
    "import matplotlib.pyplot as plt"
   ]
  },
  {
   "cell_type": "code",
   "execution_count": 2,
   "id": "df4e6588",
   "metadata": {},
   "outputs": [],
   "source": [
    "gdp_df = pd.read_csv('gdp_analysis.csv')\n",
    "#X = gdp_df.loc[:,['slope', 'y_intercept', 'volatility', 'min_year', 'max_year']]\n",
    "X = gdp_df.loc[:,['slope', 'y_intercept', 'volatility']]\n",
    "y = gdp_df.loc[:, 'got_loan']\n",
    "#y = gdp_df.loc[:, 'got_mentioned']"
   ]
  },
  {
   "cell_type": "code",
   "execution_count": 3,
   "id": "554ac419",
   "metadata": {},
   "outputs": [
    {
     "data": {
      "text/html": [
       "<div>\n",
       "<style scoped>\n",
       "    .dataframe tbody tr th:only-of-type {\n",
       "        vertical-align: middle;\n",
       "    }\n",
       "\n",
       "    .dataframe tbody tr th {\n",
       "        vertical-align: top;\n",
       "    }\n",
       "\n",
       "    .dataframe thead th {\n",
       "        text-align: right;\n",
       "    }\n",
       "</style>\n",
       "<table border=\"1\" class=\"dataframe\">\n",
       "  <thead>\n",
       "    <tr style=\"text-align: right;\">\n",
       "      <th></th>\n",
       "      <th>slope</th>\n",
       "      <th>y_intercept</th>\n",
       "      <th>volatility</th>\n",
       "    </tr>\n",
       "  </thead>\n",
       "  <tbody>\n",
       "    <tr>\n",
       "      <th>0</th>\n",
       "      <td>7.675012</td>\n",
       "      <td>-1.497918e+04</td>\n",
       "      <td>0.540344</td>\n",
       "    </tr>\n",
       "    <tr>\n",
       "      <th>1</th>\n",
       "      <td>155.758189</td>\n",
       "      <td>-3.094915e+05</td>\n",
       "      <td>0.370373</td>\n",
       "    </tr>\n",
       "    <tr>\n",
       "      <th>2</th>\n",
       "      <td>76.377837</td>\n",
       "      <td>-1.498252e+05</td>\n",
       "      <td>0.568859</td>\n",
       "    </tr>\n",
       "    <tr>\n",
       "      <th>3</th>\n",
       "      <td>228.691323</td>\n",
       "      <td>-4.494300e+05</td>\n",
       "      <td>0.597126</td>\n",
       "    </tr>\n",
       "    <tr>\n",
       "      <th>4</th>\n",
       "      <td>918.360834</td>\n",
       "      <td>-1.809247e+06</td>\n",
       "      <td>0.385188</td>\n",
       "    </tr>\n",
       "  </tbody>\n",
       "</table>\n",
       "</div>"
      ],
      "text/plain": [
       "        slope   y_intercept  volatility\n",
       "0    7.675012 -1.497918e+04    0.540344\n",
       "1  155.758189 -3.094915e+05    0.370373\n",
       "2   76.377837 -1.498252e+05    0.568859\n",
       "3  228.691323 -4.494300e+05    0.597126\n",
       "4  918.360834 -1.809247e+06    0.385188"
      ]
     },
     "execution_count": 3,
     "metadata": {},
     "output_type": "execute_result"
    }
   ],
   "source": [
    "X.head()"
   ]
  },
  {
   "cell_type": "code",
   "execution_count": 4,
   "id": "abab8116",
   "metadata": {},
   "outputs": [],
   "source": [
    "from sklearn.model_selection import train_test_split\n",
    "X_train, X_test, y_train, y_test = train_test_split(X,y, stratify = y, test_size = 0.2, shuffle = True)"
   ]
  },
  {
   "cell_type": "code",
   "execution_count": 5,
   "id": "acd81792",
   "metadata": {},
   "outputs": [],
   "source": [
    "from sklearn.ensemble import RandomForestClassifier\n",
    "from sklearn.tree import DecisionTreeClassifier\n",
    "from sklearn.metrics import accuracy_score, roc_auc_score\n",
    "from sklearn.ensemble import AdaBoostClassifier, ExtraTreesClassifier\n",
    "import xgboost"
   ]
  },
  {
   "cell_type": "code",
   "execution_count": 6,
   "id": "c768ab9b",
   "metadata": {},
   "outputs": [
    {
     "data": {
      "text/plain": [
       "RandomForestClassifier(criterion='entropy', max_depth=5)"
      ]
     },
     "execution_count": 6,
     "metadata": {},
     "output_type": "execute_result"
    }
   ],
   "source": [
    "rf = RandomForestClassifier(n_estimators = 100, max_depth = 5, criterion = 'entropy')\n",
    "rf.fit(X_train,y_train)"
   ]
  },
  {
   "cell_type": "code",
   "execution_count": 7,
   "id": "adc3d66a",
   "metadata": {},
   "outputs": [
    {
     "name": "stdout",
     "output_type": "stream",
     "text": [
      "0.847953216374269\n",
      "0.8823529411764706\n",
      "0.7142857142857143\n"
     ]
    }
   ],
   "source": [
    "print(accuracy_score(y, rf.predict(X)))\n",
    "print(accuracy_score(y_train, rf.predict(X_train)))\n",
    "print(accuracy_score(y_test, rf.predict(X_test)))\n",
    "#print(roc_auc_score(y_test, rf.predict_proba(X_test)[:,1]))"
   ]
  },
  {
   "cell_type": "code",
   "execution_count": 8,
   "id": "b1e87ace",
   "metadata": {},
   "outputs": [
    {
     "data": {
      "text/plain": [
       "AdaBoostClassifier(base_estimator=DecisionTreeClassifier(max_depth=2),\n",
       "                   learning_rate=0.3, n_estimators=3)"
      ]
     },
     "execution_count": 8,
     "metadata": {},
     "output_type": "execute_result"
    }
   ],
   "source": [
    "ada = AdaBoostClassifier(base_estimator = DecisionTreeClassifier(max_depth = 2), learning_rate = 0.3,\n",
    "                        n_estimators = 3)\n",
    "ada.fit(X_train, y_train)"
   ]
  },
  {
   "cell_type": "code",
   "execution_count": 9,
   "id": "7a9b5801",
   "metadata": {},
   "outputs": [
    {
     "name": "stdout",
     "output_type": "stream",
     "text": [
      "0.7134502923976608\n",
      "0.7352941176470589\n",
      "0.6285714285714286\n"
     ]
    }
   ],
   "source": [
    "print(accuracy_score(y, ada.predict(X)))\n",
    "print(accuracy_score(y_train, ada.predict(X_train)))\n",
    "print(accuracy_score(y_test, ada.predict(X_test)))\n",
    "#print(roc_auc_score(y_test, ada.predict_proba(X_test)[:,1]))"
   ]
  },
  {
   "cell_type": "code",
   "execution_count": 10,
   "id": "1cb410ba",
   "metadata": {},
   "outputs": [
    {
     "data": {
      "text/plain": [
       "0.5672514619883041"
      ]
     },
     "execution_count": 10,
     "metadata": {},
     "output_type": "execute_result"
    }
   ],
   "source": [
    "np.mean(y)"
   ]
  },
  {
   "cell_type": "code",
   "execution_count": 11,
   "id": "6b7831f7",
   "metadata": {},
   "outputs": [
    {
     "data": {
      "text/plain": [
       "ExtraTreesClassifier(max_depth=2, n_estimators=60)"
      ]
     },
     "execution_count": 11,
     "metadata": {},
     "output_type": "execute_result"
    }
   ],
   "source": [
    "ex = ExtraTreesClassifier(n_estimators = 60, max_depth = 2)\n",
    "ex.fit(X_train, y_train)"
   ]
  },
  {
   "cell_type": "code",
   "execution_count": 12,
   "id": "e29bb5b1",
   "metadata": {},
   "outputs": [
    {
     "name": "stdout",
     "output_type": "stream",
     "text": [
      "0.672514619883041\n",
      "0.6617647058823529\n",
      "0.7142857142857143\n"
     ]
    }
   ],
   "source": [
    "print(accuracy_score(y, ex.predict(X)))\n",
    "print(accuracy_score(y_train, ex.predict(X_train)))\n",
    "print(accuracy_score(y_test, ex.predict(X_test)))"
   ]
  },
  {
   "cell_type": "code",
   "execution_count": 13,
   "id": "f9d3b6f9",
   "metadata": {},
   "outputs": [],
   "source": [
    "from sklearn.model_selection import StratifiedKFold"
   ]
  },
  {
   "cell_type": "code",
   "execution_count": 24,
   "id": "45bd4f28",
   "metadata": {},
   "outputs": [],
   "source": [
    "kf = StratifiedKFold(n_splits = 20)\n",
    "cv = np.zeros((20,2))\n",
    "i = 0\n",
    "for train_index, test_index in kf.split(X,y):\n",
    "    X_train= X.iloc[train_index]\n",
    "    y_train = y.iloc[train_index]\n",
    "    X_val = X.iloc[test_index]\n",
    "    y_val = y.iloc[test_index]\n",
    "    \n",
    "    rf = RandomForestClassifier(n_estimators = 60, max_depth = 4, criterion = 'gini', bootstrap = False)\n",
    "    rf.fit(X_train,y_train)\n",
    "    \n",
    "    ex = ExtraTreesClassifier(n_estimators = 100, max_depth = 6)\n",
    "    ex.fit(X_train,y_train)\n",
    "    \n",
    "        #ada = AdaBoostClassifier(base_estimator = DecisionTreeClassifier(max_depth = 2), learning_rate = 0.3,\n",
    "                        #n_estimators = 10)\n",
    "        #ada.fit(X_train, y_train)\n",
    "    \n",
    "    cv[i,0] = accuracy_score(y_val, rf.predict(X_val))\n",
    "    cv[i,1] = accuracy_score(y_val, ex.predict(X_val))\n",
    "    i = i+1\n",
    "    "
   ]
  },
  {
   "cell_type": "code",
   "execution_count": 25,
   "id": "1213fafb",
   "metadata": {},
   "outputs": [
    {
     "data": {
      "text/plain": [
       "array([0.64375   , 0.64791667])"
      ]
     },
     "execution_count": 25,
     "metadata": {},
     "output_type": "execute_result"
    }
   ],
   "source": [
    "np.mean(cv, axis = 0)"
   ]
  },
  {
   "cell_type": "code",
   "execution_count": null,
   "id": "9770a365",
   "metadata": {},
   "outputs": [],
   "source": []
  },
  {
   "cell_type": "code",
   "execution_count": null,
   "id": "40a3cc23",
   "metadata": {},
   "outputs": [],
   "source": []
  },
  {
   "cell_type": "code",
   "execution_count": null,
   "id": "ef65dc4b",
   "metadata": {},
   "outputs": [],
   "source": []
  },
  {
   "cell_type": "code",
   "execution_count": null,
   "id": "3cce0456",
   "metadata": {},
   "outputs": [],
   "source": []
  }
 ],
 "metadata": {
  "kernelspec": {
   "display_name": "Python 3",
   "language": "python",
   "name": "python3"
  },
  "language_info": {
   "codemirror_mode": {
    "name": "ipython",
    "version": 3
   },
   "file_extension": ".py",
   "mimetype": "text/x-python",
   "name": "python",
   "nbconvert_exporter": "python",
   "pygments_lexer": "ipython3",
   "version": "3.8.8"
  }
 },
 "nbformat": 4,
 "nbformat_minor": 5
}
